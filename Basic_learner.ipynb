{
 "cells": [
  {
   "cell_type": "code",
   "execution_count": 1,
   "metadata": {},
   "outputs": [],
   "source": [
    "from fastai.imports import *\n",
    "from fastai.torch_imports import *\n",
    "from fastai.column_data import *\n",
    "import torch.nn as nn"
   ]
  },
  {
   "cell_type": "markdown",
   "metadata": {},
   "source": [
    "Generate synthetic data of x1^2 + x2^2 function with random noise"
   ]
  },
  {
   "cell_type": "code",
   "execution_count": 2,
   "metadata": {},
   "outputs": [],
   "source": [
    "input_range = np.arange(-1,1,.05)\n",
    "x1,x2 = np.meshgrid(input_range, input_range) \n",
    "x1 = x1.reshape([-1,1])\n",
    "x2 = x2.reshape([-1,1])\n",
    "X =np.concatenate([x1,x2], axis=1)\n",
    "Y = x1 * x1 + x2 * x2 + np.random.normal(.1)"
   ]
  },
  {
   "cell_type": "markdown",
   "metadata": {},
   "source": [
    "Take out random 20% for validation set"
   ]
  },
  {
   "cell_type": "code",
   "execution_count": 3,
   "metadata": {},
   "outputs": [],
   "source": [
    "shuff = np.random.permutation(len(X))\n",
    "train_size = int(len(X) * 0.8)\n",
    "train_idx = shuff[:train_size]\n",
    "val_idx = shuff[train_size:]\n",
    "trainX, trainY, valX, valY = X[train_idx], Y[train_idx], X[val_idx], Y[val_idx]\n"
   ]
  },
  {
   "cell_type": "markdown",
   "metadata": {},
   "source": [
    "Use ArraysIndexDataset put arrays into datasets and create ModelData out of it"
   ]
  },
  {
   "cell_type": "code",
   "execution_count": 4,
   "metadata": {},
   "outputs": [],
   "source": [
    "train_aid = ArraysIndexDataset(trainX, trainY, None)\n",
    "val_aid = ArraysIndexDataset(valX, valY, None)\n",
    "md = ModelData.from_dls('.', DataLoader(train_aid,batch_size=16), DataLoader(val_aid,batch_size=16))"
   ]
  },
  {
   "cell_type": "markdown",
   "metadata": {},
   "source": [
    "Tiny neural net pytorch model (no .cuda() so I can run it on CPU)"
   ]
  },
  {
   "cell_type": "code",
   "execution_count": 5,
   "metadata": {},
   "outputs": [],
   "source": [
    "mininet = nn.Sequential(\n",
    "    nn.Linear(2, 10),\n",
    "    nn.ReLU(),\n",
    "    nn.Linear(10, 10),\n",
    "    nn.ReLU(),\n",
    "    nn.Linear(10, 1),\n",
    ")"
   ]
  },
  {
   "cell_type": "markdown",
   "metadata": {},
   "source": [
    "Create Learner for my model, need to wrap it in fastai BasicModel.\n",
    "This allows me to use the learning rate finder"
   ]
  },
  {
   "cell_type": "code",
   "execution_count": 6,
   "metadata": {},
   "outputs": [
    {
     "data": {
      "application/vnd.jupyter.widget-view+json": {
       "model_id": "74094c2b143740d88c65fcfc7faaf9b8",
       "version_major": 2,
       "version_minor": 0
      },
      "text/plain": [
       "HBox(children=(IntProgress(value=0, description='Epoch', max=1), HTML(value='')))"
      ]
     },
     "metadata": {},
     "output_type": "display_data"
    },
    {
     "name": "stdout",
     "output_type": "stream",
     "text": [
      "  0%|          | 0/80 [00:00<?, ?it/s]\n",
      "                                      \r"
     ]
    },
    {
     "data": {
      "image/png": "[encoded data removed]",
      "text/plain": [
       "<Figure size 432x288 with 1 Axes>"
      ]
     },
     "metadata": {},
     "output_type": "display_data"
    }
   ],
   "source": [
    "learn = Learner(md,BasicModel(mininet),crit=nn.MSELoss())\n",
    "learn.lr_find()\n",
    "learn.sched.plot()"
   ]
  },
  {
   "cell_type": "markdown",
   "metadata": {},
   "source": [
    "And finally train with cyclical learning rate."
   ]
  },
  {
   "cell_type": "code",
   "execution_count": 7,
   "metadata": {},
   "outputs": [
    {
     "data": {
      "application/vnd.jupyter.widget-view+json": {
       "model_id": "7a744b85ad1a485b88687a1e7103a8b1",
       "version_major": 2,
       "version_minor": 0
      },
      "text/plain": [
       "HBox(children=(IntProgress(value=0, description='Epoch', max=14), HTML(value='')))"
      ]
     },
     "metadata": {},
     "output_type": "display_data"
    },
    {
     "name": "stdout",
     "output_type": "stream",
     "text": [
      "epoch      trn_loss   val_loss        \n",
      "    0      0.522018   0.154176  \n",
      "    1      0.202892   0.135903        \n",
      "    2      0.106134   0.052498        \n",
      "    3      0.044772   0.024611        \n",
      "    4      0.023902   0.019703        \n",
      "    5      0.0185     0.019254        \n",
      "    6      0.015372   0.015297        \n",
      "    7      0.012699   0.012472        \n",
      "    8      0.010711   0.010909        \n",
      "    9      0.009289   0.009893        \n",
      "    10     0.008443   0.009093        \n",
      "    11     0.007955   0.008642        \n",
      "    12     0.007693   0.008548        \n",
      "    13     0.007584   0.008538        \n",
      "\n"
     ]
    },
    {
     "data": {
      "text/plain": [
       "[array([0.00854])]"
      ]
     },
     "execution_count": 7,
     "metadata": {},
     "output_type": "execute_result"
    }
   ],
   "source": [
    "learn.fit(1e-2,3,cycle_len=2, cycle_mult=2)"
   ]
  },
  {
   "cell_type": "code",
   "execution_count": 8,
   "metadata": {},
   "outputs": [
    {
     "data": {
      "text/plain": [
       "0.008537675789061524"
      ]
     },
     "execution_count": 8,
     "metadata": {},
     "output_type": "execute_result"
    }
   ],
   "source": [
    "preds = mininet(V(valX)).data.cpu().numpy()\n",
    "mse = ((preds-valY)**2).mean()\n",
    "mse"
   ]
  }
 ],
 "metadata": {
  "kernelspec": {
   "display_name": "Python 3",
   "language": "python",
   "name": "python3"
  },
  "language_info": {
   "codemirror_mode": {
    "name": "ipython",
    "version": 3
   },
   "file_extension": ".py",
   "mimetype": "text/x-python",
   "name": "python",
   "nbconvert_exporter": "python",
   "pygments_lexer": "ipython3",
   "version": "3.7.7"
  }
 },
 "nbformat": 4,
 "nbformat_minor": 4
}
