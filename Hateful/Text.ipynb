{
 "cells": [
  {
   "cell_type": "code",
   "execution_count": 1,
   "metadata": {},
   "outputs": [],
   "source": [
    "from fastai2.text.all import *"
   ]
  },
  {
   "cell_type": "code",
   "execution_count": 2,
   "metadata": {
    "scrolled": true
   },
   "outputs": [
    {
     "data": {
      "text/html": [
       "<div>\n",
       "<style scoped>\n",
       "    .dataframe tbody tr th:only-of-type {\n",
       "        vertical-align: middle;\n",
       "    }\n",
       "\n",
       "    .dataframe tbody tr th {\n",
       "        vertical-align: top;\n",
       "    }\n",
       "\n",
       "    .dataframe thead th {\n",
       "        text-align: right;\n",
       "    }\n",
       "</style>\n",
       "<table border=\"1\" class=\"dataframe\">\n",
       "  <thead>\n",
       "    <tr style=\"text-align: right;\">\n",
       "      <th></th>\n",
       "      <th>img</th>\n",
       "      <th>label</th>\n",
       "      <th>text</th>\n",
       "      <th>width</th>\n",
       "      <th>height</th>\n",
       "      <th>is_valid</th>\n",
       "    </tr>\n",
       "  </thead>\n",
       "  <tbody>\n",
       "    <tr>\n",
       "      <th>42953</th>\n",
       "      <td>img/42953.png</td>\n",
       "      <td>0</td>\n",
       "      <td>its their character not their color that matters</td>\n",
       "      <td>400</td>\n",
       "      <td>265</td>\n",
       "      <td>False</td>\n",
       "    </tr>\n",
       "    <tr>\n",
       "      <th>23058</th>\n",
       "      <td>img/23058.png</td>\n",
       "      <td>0</td>\n",
       "      <td>don't be afraid to love again everyone is not like your ex</td>\n",
       "      <td>533</td>\n",
       "      <td>800</td>\n",
       "      <td>False</td>\n",
       "    </tr>\n",
       "    <tr>\n",
       "      <th>13894</th>\n",
       "      <td>img/13894.png</td>\n",
       "      <td>0</td>\n",
       "      <td>putting bows on your pet</td>\n",
       "      <td>800</td>\n",
       "      <td>558</td>\n",
       "      <td>False</td>\n",
       "    </tr>\n",
       "    <tr>\n",
       "      <th>37408</th>\n",
       "      <td>img/37408.png</td>\n",
       "      <td>0</td>\n",
       "      <td>i love everything and everybody! except for squirrels i hate squirrels</td>\n",
       "      <td>800</td>\n",
       "      <td>693</td>\n",
       "      <td>False</td>\n",
       "    </tr>\n",
       "    <tr>\n",
       "      <th>82403</th>\n",
       "      <td>img/82403.png</td>\n",
       "      <td>0</td>\n",
       "      <td>everybody loves chocolate chip cookies, even hitler</td>\n",
       "      <td>416</td>\n",
       "      <td>550</td>\n",
       "      <td>False</td>\n",
       "    </tr>\n",
       "    <tr>\n",
       "      <th>...</th>\n",
       "      <td>...</td>\n",
       "      <td>...</td>\n",
       "      <td>...</td>\n",
       "      <td>...</td>\n",
       "      <td>...</td>\n",
       "      <td>...</td>\n",
       "    </tr>\n",
       "    <tr>\n",
       "      <th>83675</th>\n",
       "      <td>img/83675.png</td>\n",
       "      <td>0</td>\n",
       "      <td>i'm gonna be like phelps one day</td>\n",
       "      <td>366</td>\n",
       "      <td>550</td>\n",
       "      <td>True</td>\n",
       "    </tr>\n",
       "    <tr>\n",
       "      <th>37198</th>\n",
       "      <td>img/37198.png</td>\n",
       "      <td>0</td>\n",
       "      <td>when you're so relaxed you can feel yourself go to the next level</td>\n",
       "      <td>436</td>\n",
       "      <td>550</td>\n",
       "      <td>True</td>\n",
       "    </tr>\n",
       "    <tr>\n",
       "      <th>48670</th>\n",
       "      <td>img/48670.png</td>\n",
       "      <td>0</td>\n",
       "      <td>look at this sandwich maker club i found on wish on clearance</td>\n",
       "      <td>400</td>\n",
       "      <td>400</td>\n",
       "      <td>True</td>\n",
       "    </tr>\n",
       "    <tr>\n",
       "      <th>9863</th>\n",
       "      <td>img/09863.png</td>\n",
       "      <td>0</td>\n",
       "      <td>diverse group of women</td>\n",
       "      <td>549</td>\n",
       "      <td>825</td>\n",
       "      <td>True</td>\n",
       "    </tr>\n",
       "    <tr>\n",
       "      <th>97320</th>\n",
       "      <td>img/97320.png</td>\n",
       "      <td>0</td>\n",
       "      <td>\"when your dishwasher is broken so you take it back to walmart to get a new one\"</td>\n",
       "      <td>547</td>\n",
       "      <td>825</td>\n",
       "      <td>True</td>\n",
       "    </tr>\n",
       "  </tbody>\n",
       "</table>\n",
       "<p>9000 rows × 6 columns</p>\n",
       "</div>"
      ],
      "text/plain": [
       "                 img  label  \\\n",
       "42953  img/42953.png      0   \n",
       "23058  img/23058.png      0   \n",
       "13894  img/13894.png      0   \n",
       "37408  img/37408.png      0   \n",
       "82403  img/82403.png      0   \n",
       "...              ...    ...   \n",
       "83675  img/83675.png      0   \n",
       "37198  img/37198.png      0   \n",
       "48670  img/48670.png      0   \n",
       "9863   img/09863.png      0   \n",
       "97320  img/97320.png      0   \n",
       "\n",
       "                                                                                   text  \\\n",
       "42953                                  its their character not their color that matters   \n",
       "23058                        don't be afraid to love again everyone is not like your ex   \n",
       "13894                                                          putting bows on your pet   \n",
       "37408            i love everything and everybody! except for squirrels i hate squirrels   \n",
       "82403                               everybody loves chocolate chip cookies, even hitler   \n",
       "...                                                                                 ...   \n",
       "83675                                                  i'm gonna be like phelps one day   \n",
       "37198                 when you're so relaxed you can feel yourself go to the next level   \n",
       "48670                     look at this sandwich maker club i found on wish on clearance   \n",
       "9863                                                             diverse group of women   \n",
       "97320  \"when your dishwasher is broken so you take it back to walmart to get a new one\"   \n",
       "\n",
       "       width  height  is_valid  \n",
       "42953    400     265     False  \n",
       "23058    533     800     False  \n",
       "13894    800     558     False  \n",
       "37408    800     693     False  \n",
       "82403    416     550     False  \n",
       "...      ...     ...       ...  \n",
       "83675    366     550      True  \n",
       "37198    436     550      True  \n",
       "48670    400     400      True  \n",
       "9863     549     825      True  \n",
       "97320    547     825      True  \n",
       "\n",
       "[9000 rows x 6 columns]"
      ]
     },
     "execution_count": 2,
     "metadata": {},
     "output_type": "execute_result"
    }
   ],
   "source": [
    "path =  Path('/notebooks/storage/data/hate/data')\n",
    "df = pd.read_json(path/'data.json')\n",
    "df"
   ]
  },
  {
   "cell_type": "code",
   "execution_count": 21,
   "metadata": {},
   "outputs": [],
   "source": [
    "test_df = pd.read_json(path/'test.jsonl', lines=True)"
   ]
  },
  {
   "cell_type": "code",
   "execution_count": 22,
   "metadata": {},
   "outputs": [
    {
     "data": {
      "text/plain": [
       "620256"
      ]
     },
     "execution_count": 22,
     "metadata": {},
     "output_type": "execute_result"
    }
   ],
   "source": [
    "corpus ='\\n'.join([x for x in df.text] + [x for x in test_df.text])\n",
    "len(corpus)"
   ]
  },
  {
   "cell_type": "code",
   "execution_count": 23,
   "metadata": {},
   "outputs": [
    {
     "name": "stdout",
     "output_type": "stream",
     "text": [
      "(#138746) ['its','their','character','not','their','color','that','matters','\\n','do',\"n't\",'be','afraid','to','love','again','everyone','is','not','like','your','ex','\\n','putting','bows','on','your','pet','\\n','i'...]\n"
     ]
    }
   ],
   "source": [
    "spacy = WordTokenizer()\n",
    "toks = first(spacy([corpus]))\n",
    "print(coll_repr(toks, 30))"
   ]
  },
  {
   "cell_type": "code",
   "execution_count": 24,
   "metadata": {},
   "outputs": [
    {
     "data": {
      "text/plain": [
       "'(#139311) [\\'xxbos\\',\\'its\\',\\'their\\',\\'character\\',\\'not\\',\\'their\\',\\'color\\',\\'that\\',\\'matters\\',\\'\\\\n\\',\\'do\\',\"n\\'t\",\\'be\\',\\'afraid\\',\\'to\\',\\'love\\',\\'again\\',\\'everyone\\',\\'is\\',\\'not\\',\\'like\\',\\'your\\',\\'ex\\',\\'\\\\n\\',\\'putting\\',\\'bows\\',\\'on\\',\\'your\\',\\'pet\\',\\'\\\\n\\'...]'"
      ]
     },
     "execution_count": 24,
     "metadata": {},
     "output_type": "execute_result"
    }
   ],
   "source": [
    "tkn = Tokenizer(spacy)\n",
    "coll_repr(tkn(corpus), 30)"
   ]
  },
  {
   "cell_type": "code",
   "execution_count": 25,
   "metadata": {},
   "outputs": [
    {
     "data": {
      "text/plain": [
       "(#139311) ['xxbos','its','their','character','not','their','color','that','matters','\\n'...]"
      ]
     },
     "execution_count": 25,
     "metadata": {},
     "output_type": "execute_result"
    }
   ],
   "source": [
    "tokens = tkn(corpus)\n",
    "tokens"
   ]
  },
  {
   "cell_type": "code",
   "execution_count": 26,
   "metadata": {},
   "outputs": [],
   "source": [
    "num = Numericalize()\n",
    "\n",
    "num.setup([tkn(corpus)])"
   ]
  },
  {
   "cell_type": "code",
   "execution_count": 28,
   "metadata": {},
   "outputs": [],
   "source": [
    "whole_vocab = num.vocab"
   ]
  },
  {
   "cell_type": "code",
   "execution_count": 9,
   "metadata": {},
   "outputs": [
    {
     "data": {
      "text/plain": [
       "tensor([   2,  192,   79, 2379,   45,   79,  413,   32, 2380,    9,   29,   27,\n",
       "          42, 1443,   14,  122,  194,  184,   18,   45])"
      ]
     },
     "execution_count": 9,
     "metadata": {},
     "output_type": "execute_result"
    }
   ],
   "source": [
    "nums = num(tokens)[:20]; nums"
   ]
  },
  {
   "cell_type": "code",
   "execution_count": 10,
   "metadata": {},
   "outputs": [
    {
     "data": {
      "text/plain": [
       "\"xxbos its their character not their color that matters \\n do n't be afraid to love again everyone is not\""
      ]
     },
     "execution_count": 10,
     "metadata": {},
     "output_type": "execute_result"
    }
   ],
   "source": [
    "' '.join(num.vocab[o] for o in nums)"
   ]
  },
  {
   "cell_type": "code",
   "execution_count": 11,
   "metadata": {},
   "outputs": [],
   "source": [
    "text_classifier_learner??"
   ]
  },
  {
   "cell_type": "code",
   "execution_count": null,
   "metadata": {},
   "outputs": [],
   "source": []
  },
  {
   "cell_type": "code",
   "execution_count": 12,
   "metadata": {},
   "outputs": [
    {
     "data": {
      "text/plain": [
       "[Path('/storage/models/wt103-fwd/lstm_fwd.pth'),\n",
       " Path('/storage/models/wt103-fwd/itos_wt103.pkl')]"
      ]
     },
     "execution_count": 12,
     "metadata": {},
     "output_type": "execute_result"
    }
   ],
   "source": [
    "from fastai2.text.models.core import _model_meta\n",
    "meta =_model_meta[AWD_LSTM]\n",
    "model_path = untar_data(meta['url'], c_key='model')\n",
    "fnames = [list(model_path.glob(f'*.{ext}'))[0] for ext in ['pth', 'pkl']]\n",
    "fnames"
   ]
  },
  {
   "cell_type": "code",
   "execution_count": 13,
   "metadata": {},
   "outputs": [
    {
     "data": {
      "text/plain": [
       "60000"
      ]
     },
     "execution_count": 13,
     "metadata": {},
     "output_type": "execute_result"
    }
   ],
   "source": [
    "pretrained_vocab = fnames[1].load()\n",
    "len(pretrained_vocab)"
   ]
  },
  {
   "cell_type": "code",
   "execution_count": 14,
   "metadata": {},
   "outputs": [
    {
     "data": {
      "text/plain": [
       "240"
      ]
     },
     "execution_count": 14,
     "metadata": {},
     "output_type": "execute_result"
    }
   ],
   "source": [
    "missing = set(num.vocab) - set(pretrained_vocab)\n",
    "len(missing)"
   ]
  },
  {
   "cell_type": "code",
   "execution_count": 29,
   "metadata": {},
   "outputs": [
    {
     "data": {
      "text/html": [],
      "text/plain": [
       "<IPython.core.display.HTML object>"
      ]
     },
     "metadata": {},
     "output_type": "display_data"
    }
   ],
   "source": [
    "dls = TextDataLoaders.from_df(df, path, vocab=whole_vocab, text_col='text',label_col='label', valid_col='is_valid' )"
   ]
  },
  {
   "cell_type": "code",
   "execution_count": 30,
   "metadata": {},
   "outputs": [
    {
     "data": {
      "text/html": [
       "<table border=\"1\" class=\"dataframe\">\n",
       "  <thead>\n",
       "    <tr style=\"text-align: right;\">\n",
       "      <th></th>\n",
       "      <th>text</th>\n",
       "      <th>category</th>\n",
       "    </tr>\n",
       "  </thead>\n",
       "  <tbody>\n",
       "    <tr>\n",
       "      <th>0</th>\n",
       "      <td>xxbos housing , free gas , free xxunk , free healthcare and free education for my wives and children . to show xxunk for your xxunk , i 'll xxunk your 12 year old daughters , blow up your xxunk , xxunk and buses and xxunk hate through a xxunk xxunk in your local city and town xxunk with the purpose of xxunk your xxunk country into the same shithole i xxunk took xxunk from , allahu akbar !</td>\n",
       "      <td>1</td>\n",
       "    </tr>\n",
       "    <tr>\n",
       "      <th>1</th>\n",
       "      <td>xxbos \" nobody is trying to take your guns ! \" \" we only want to make you xxunk them , xxunk xxunk , ban xxunk guns , xxunk magazine xxunk , xxunk xxunk them , ban or xxunk ammo , make other xxunk laws , and , if we catch you xxunk any of these made - up rules , throw you in prison … . at which point we will take your guns ! \" xxpad xxpad</td>\n",
       "      <td>0</td>\n",
       "    </tr>\n",
       "    <tr>\n",
       "      <th>2</th>\n",
       "      <td>xxbos have you ever xxunk the history of the jews ? did you know that they have always xxunk together as a tribe , infiltrated xxunk , xxunk the xxunk xxunk of nations xxunk wars and xxunk created chaos in xxunk ? the jews have mass murdered millions of xxunk jews over the xxunk they xxunk seized control of the media so you 'll never find out study the history of the jews ! xxpad xxpad xxpad xxpad xxpad</td>\n",
       "      <td>1</td>\n",
       "    </tr>\n",
       "    <tr>\n",
       "      <th>3</th>\n",
       "      <td>xxbos i had twins with my third husband , which i xxunk while married to my first husband , and xxunk while married to my second husband , who adopted them before i divorced him and married my third husband . but that was then , now i 'm married to my xxunk husband . i 'm just an xxunk who believes in the xxunk of marriage xxpad xxpad xxpad xxpad xxpad xxpad xxpad xxpad xxpad xxpad xxpad xxpad</td>\n",
       "      <td>1</td>\n",
       "    </tr>\n",
       "    <tr>\n",
       "      <th>4</th>\n",
       "      <td>xxbos why do people think it 's okay to call babies he or she ? they ca n't speak yet so they ca n't say their xxunk gender please xxunk to them as xxunk or xxunk until they can say their xxunk xxunk otherwise you 're xxunk and transphobic well , there it is the xxunk thing i 'll read today xxpad xxpad xxpad xxpad xxpad xxpad xxpad xxpad xxpad xxpad xxpad xxpad xxpad xxpad xxpad xxpad xxpad xxpad</td>\n",
       "      <td>0</td>\n",
       "    </tr>\n",
       "    <tr>\n",
       "      <th>5</th>\n",
       "      <td>xxbos what are they fighting over ? is it : a ) the last xxunk xxunk b ) he accidentally touch the homies hand xxunk a beer ? c ) xxunk used the last of the three flowers . d ) homie said \" i got you on gas \" but he only has $ 3 ! xxpad xxpad xxpad xxpad xxpad xxpad xxpad xxpad xxpad xxpad xxpad xxpad xxpad xxpad xxpad xxpad xxpad xxpad xxpad xxpad xxpad xxpad</td>\n",
       "      <td>1</td>\n",
       "    </tr>\n",
       "    <tr>\n",
       "      <th>6</th>\n",
       "      <td>xxbos i think i 've got a gas leak , i woke up this morning feeling all light headed and xxunk , so just to be on the safe side , i asked the neighbours if they could come xxunk it out for me , i xxunk they 'd know , being jewish and all . xxpad xxpad xxpad xxpad xxpad xxpad xxpad xxpad xxpad xxpad xxpad xxpad xxpad xxpad xxpad xxpad xxpad xxpad xxpad xxpad xxpad xxpad xxpad</td>\n",
       "      <td>1</td>\n",
       "    </tr>\n",
       "    <tr>\n",
       "      <th>7</th>\n",
       "      <td>xxbos in xxunk , the xxunk seized willie xxunk 's bank xxunk and real estate xxunk for a 16 million dollar tax xxunk . xxunk , al sharpton owes in xxunk of 19 million dollars in taxes and he xxunk the white house xxunk as a xxunk xxrep 3 ! explain white xxunk again ? xxpad xxpad xxpad xxpad xxpad xxpad xxpad xxpad xxpad xxpad xxpad xxpad xxpad xxpad xxpad xxpad xxpad xxpad xxpad xxpad xxpad xxpad xxpad xxpad</td>\n",
       "      <td>0</td>\n",
       "    </tr>\n",
       "    <tr>\n",
       "      <th>8</th>\n",
       "      <td>xxbos i 'm a moderate muslim . that means that while other muslims are putting bombs on your buses and raping your children i 'll be telling you that islam is peaceful , protesting when you insult my religion and xxunk your government to take away your free speech . a moderate muslim xxunk ! xxpad xxpad xxpad xxpad xxpad xxpad xxpad xxpad xxpad xxpad xxpad xxpad xxpad xxpad xxpad xxpad xxpad xxpad xxpad xxpad xxpad xxpad xxpad xxpad</td>\n",
       "      <td>0</td>\n",
       "    </tr>\n",
       "  </tbody>\n",
       "</table>"
      ],
      "text/plain": [
       "<IPython.core.display.HTML object>"
      ]
     },
     "metadata": {},
     "output_type": "display_data"
    }
   ],
   "source": [
    "dls.show_batch()"
   ]
  },
  {
   "cell_type": "code",
   "execution_count": 31,
   "metadata": {
    "scrolled": true
   },
   "outputs": [
    {
     "data": {
      "text/plain": [
       "(8500, 500)"
      ]
     },
     "execution_count": 31,
     "metadata": {},
     "output_type": "execute_result"
    }
   ],
   "source": [
    "len(dls.train_ds), len(dls.valid_ds)"
   ]
  },
  {
   "cell_type": "code",
   "execution_count": 88,
   "metadata": {},
   "outputs": [],
   "source": [
    "learn = text_classifier_learner(dls, AWD_LSTM, drop_mult=0.8, metrics=[accuracy, RocAucBinary()])\n"
   ]
  },
  {
   "cell_type": "code",
   "execution_count": 89,
   "metadata": {},
   "outputs": [
    {
     "data": {
      "text/html": [
       "<table border=\"1\" class=\"dataframe\">\n",
       "  <thead>\n",
       "    <tr style=\"text-align: left;\">\n",
       "      <th>epoch</th>\n",
       "      <th>train_loss</th>\n",
       "      <th>valid_loss</th>\n",
       "      <th>accuracy</th>\n",
       "      <th>roc_auc_score</th>\n",
       "      <th>time</th>\n",
       "    </tr>\n",
       "  </thead>\n",
       "  <tbody>\n",
       "    <tr>\n",
       "      <td>0</td>\n",
       "      <td>0.848293</td>\n",
       "      <td>0.708026</td>\n",
       "      <td>0.544000</td>\n",
       "      <td>0.554544</td>\n",
       "      <td>00:04</td>\n",
       "    </tr>\n",
       "  </tbody>\n",
       "</table>"
      ],
      "text/plain": [
       "<IPython.core.display.HTML object>"
      ]
     },
     "metadata": {},
     "output_type": "display_data"
    },
    {
     "data": {
      "text/html": [
       "<table border=\"1\" class=\"dataframe\">\n",
       "  <thead>\n",
       "    <tr style=\"text-align: left;\">\n",
       "      <th>epoch</th>\n",
       "      <th>train_loss</th>\n",
       "      <th>valid_loss</th>\n",
       "      <th>accuracy</th>\n",
       "      <th>roc_auc_score</th>\n",
       "      <th>time</th>\n",
       "    </tr>\n",
       "  </thead>\n",
       "  <tbody>\n",
       "    <tr>\n",
       "      <td>0</td>\n",
       "      <td>0.719061</td>\n",
       "      <td>0.720450</td>\n",
       "      <td>0.538000</td>\n",
       "      <td>0.583344</td>\n",
       "      <td>00:07</td>\n",
       "    </tr>\n",
       "    <tr>\n",
       "      <td>1</td>\n",
       "      <td>0.667868</td>\n",
       "      <td>0.708315</td>\n",
       "      <td>0.548000</td>\n",
       "      <td>0.604616</td>\n",
       "      <td>00:07</td>\n",
       "    </tr>\n",
       "    <tr>\n",
       "      <td>2</td>\n",
       "      <td>0.635200</td>\n",
       "      <td>0.756339</td>\n",
       "      <td>0.548000</td>\n",
       "      <td>0.583320</td>\n",
       "      <td>00:07</td>\n",
       "    </tr>\n",
       "    <tr>\n",
       "      <td>3</td>\n",
       "      <td>0.611655</td>\n",
       "      <td>0.771287</td>\n",
       "      <td>0.526000</td>\n",
       "      <td>0.595088</td>\n",
       "      <td>00:07</td>\n",
       "    </tr>\n",
       "    <tr>\n",
       "      <td>4</td>\n",
       "      <td>0.595387</td>\n",
       "      <td>0.749637</td>\n",
       "      <td>0.538000</td>\n",
       "      <td>0.597064</td>\n",
       "      <td>00:07</td>\n",
       "    </tr>\n",
       "    <tr>\n",
       "      <td>5</td>\n",
       "      <td>0.582934</td>\n",
       "      <td>0.801127</td>\n",
       "      <td>0.534000</td>\n",
       "      <td>0.607528</td>\n",
       "      <td>00:07</td>\n",
       "    </tr>\n",
       "    <tr>\n",
       "      <td>6</td>\n",
       "      <td>0.569016</td>\n",
       "      <td>0.785077</td>\n",
       "      <td>0.542000</td>\n",
       "      <td>0.615696</td>\n",
       "      <td>00:07</td>\n",
       "    </tr>\n",
       "    <tr>\n",
       "      <td>7</td>\n",
       "      <td>0.548179</td>\n",
       "      <td>0.884942</td>\n",
       "      <td>0.550000</td>\n",
       "      <td>0.616552</td>\n",
       "      <td>00:07</td>\n",
       "    </tr>\n",
       "    <tr>\n",
       "      <td>8</td>\n",
       "      <td>0.534648</td>\n",
       "      <td>0.879437</td>\n",
       "      <td>0.558000</td>\n",
       "      <td>0.617400</td>\n",
       "      <td>00:07</td>\n",
       "    </tr>\n",
       "    <tr>\n",
       "      <td>9</td>\n",
       "      <td>0.530502</td>\n",
       "      <td>0.836562</td>\n",
       "      <td>0.540000</td>\n",
       "      <td>0.620240</td>\n",
       "      <td>00:07</td>\n",
       "    </tr>\n",
       "    <tr>\n",
       "      <td>10</td>\n",
       "      <td>0.520024</td>\n",
       "      <td>0.865546</td>\n",
       "      <td>0.536000</td>\n",
       "      <td>0.610168</td>\n",
       "      <td>00:07</td>\n",
       "    </tr>\n",
       "    <tr>\n",
       "      <td>11</td>\n",
       "      <td>0.510315</td>\n",
       "      <td>0.854385</td>\n",
       "      <td>0.558000</td>\n",
       "      <td>0.605040</td>\n",
       "      <td>00:07</td>\n",
       "    </tr>\n",
       "    <tr>\n",
       "      <td>12</td>\n",
       "      <td>0.508359</td>\n",
       "      <td>0.824571</td>\n",
       "      <td>0.566000</td>\n",
       "      <td>0.616264</td>\n",
       "      <td>00:07</td>\n",
       "    </tr>\n",
       "    <tr>\n",
       "      <td>13</td>\n",
       "      <td>0.486176</td>\n",
       "      <td>0.850490</td>\n",
       "      <td>0.554000</td>\n",
       "      <td>0.616600</td>\n",
       "      <td>00:07</td>\n",
       "    </tr>\n",
       "    <tr>\n",
       "      <td>14</td>\n",
       "      <td>0.488992</td>\n",
       "      <td>0.851862</td>\n",
       "      <td>0.546000</td>\n",
       "      <td>0.614920</td>\n",
       "      <td>00:07</td>\n",
       "    </tr>\n",
       "    <tr>\n",
       "      <td>15</td>\n",
       "      <td>0.473677</td>\n",
       "      <td>0.888083</td>\n",
       "      <td>0.534000</td>\n",
       "      <td>0.617608</td>\n",
       "      <td>00:07</td>\n",
       "    </tr>\n",
       "    <tr>\n",
       "      <td>16</td>\n",
       "      <td>0.466008</td>\n",
       "      <td>0.900832</td>\n",
       "      <td>0.544000</td>\n",
       "      <td>0.611048</td>\n",
       "      <td>00:07</td>\n",
       "    </tr>\n",
       "    <tr>\n",
       "      <td>17</td>\n",
       "      <td>0.471458</td>\n",
       "      <td>0.884336</td>\n",
       "      <td>0.538000</td>\n",
       "      <td>0.609152</td>\n",
       "      <td>00:07</td>\n",
       "    </tr>\n",
       "    <tr>\n",
       "      <td>18</td>\n",
       "      <td>0.472485</td>\n",
       "      <td>0.896779</td>\n",
       "      <td>0.536000</td>\n",
       "      <td>0.609712</td>\n",
       "      <td>00:07</td>\n",
       "    </tr>\n",
       "    <tr>\n",
       "      <td>19</td>\n",
       "      <td>0.459401</td>\n",
       "      <td>0.899548</td>\n",
       "      <td>0.538000</td>\n",
       "      <td>0.610504</td>\n",
       "      <td>00:07</td>\n",
       "    </tr>\n",
       "  </tbody>\n",
       "</table>"
      ],
      "text/plain": [
       "<IPython.core.display.HTML object>"
      ]
     },
     "metadata": {},
     "output_type": "display_data"
    }
   ],
   "source": [
    "learn.fine_tune(20, 1e-2)"
   ]
  },
  {
   "cell_type": "code",
   "execution_count": 34,
   "metadata": {},
   "outputs": [],
   "source": [
    "def gen_submit(learn, fname):\n",
    "    test_df = pd.read_json(path/'test.jsonl', lines=True)\n",
    "    test_dl = learn.dls.test_dl(test_df)\n",
    "    preds = learn.get_preds(dl=test_dl)[0]\n",
    "    _, indcs = preds.max(dim=1)\n",
    "    probs= preds[:,1]\n",
    "    submit_df = pd.DataFrame()\n",
    "    submit_df['id'] = test_df['id']\n",
    "    submit_df['proba'] = probs\n",
    "    submit_df['label'] = indcs\n",
    "    submit_df = submit_df.set_index('id')\n",
    "    submit_df.to_csv(fname, header=True)"
   ]
  },
  {
   "cell_type": "code",
   "execution_count": 35,
   "metadata": {},
   "outputs": [
    {
     "data": {
      "text/html": [],
      "text/plain": [
       "<IPython.core.display.HTML object>"
      ]
     },
     "metadata": {},
     "output_type": "display_data"
    }
   ],
   "source": [
    "gen_submit(learn, 'attempt3.csc')"
   ]
  },
  {
   "cell_type": "code",
   "execution_count": 73,
   "metadata": {},
   "outputs": [
    {
     "data": {
      "text/html": [],
      "text/plain": [
       "<IPython.core.display.HTML object>"
      ]
     },
     "metadata": {},
     "output_type": "display_data"
    }
   ],
   "source": [
    "preds, labels = learn.get_preds(dl=learn.dls.valid)"
   ]
  },
  {
   "cell_type": "code",
   "execution_count": 74,
   "metadata": {},
   "outputs": [
    {
     "data": {
      "text/plain": [
       "tensor(0.5360)"
      ]
     },
     "execution_count": 74,
     "metadata": {},
     "output_type": "execute_result"
    }
   ],
   "source": [
    "accuracy(preds, labels)"
   ]
  },
  {
   "cell_type": "code",
   "execution_count": 75,
   "metadata": {},
   "outputs": [],
   "source": [
    "_, pred_lab =preds.max(dim=1)"
   ]
  },
  {
   "cell_type": "code",
   "execution_count": 76,
   "metadata": {},
   "outputs": [
    {
     "data": {
      "text/plain": [
       "tensor(0.5360)"
      ]
     },
     "execution_count": 76,
     "metadata": {},
     "output_type": "execute_result"
    }
   ],
   "source": [
    "sum(pred_lab==labels).float() / len(preds)"
   ]
  },
  {
   "cell_type": "code",
   "execution_count": 77,
   "metadata": {},
   "outputs": [
    {
     "data": {
      "text/plain": [
       "0.611736"
      ]
     },
     "execution_count": 77,
     "metadata": {},
     "output_type": "execute_result"
    }
   ],
   "source": [
    "import sklearn\n",
    "sklearn.metrics.roc_auc_score(labels, preds[:,1])"
   ]
  },
  {
   "cell_type": "code",
   "execution_count": null,
   "metadata": {},
   "outputs": [],
   "source": []
  }
 ],
 "metadata": {
  "kernelspec": {
   "display_name": "Python 3",
   "language": "python",
   "name": "python3"
  },
  "language_info": {
   "codemirror_mode": {
    "name": "ipython",
    "version": 3
   },
   "file_extension": ".py",
   "mimetype": "text/x-python",
   "name": "python",
   "nbconvert_exporter": "python",
   "pygments_lexer": "ipython3",
   "version": "3.7.6"
  }
 },
 "nbformat": 4,
 "nbformat_minor": 4
}
