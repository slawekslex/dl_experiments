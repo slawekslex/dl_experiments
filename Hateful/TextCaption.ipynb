{
 "cells": [
  {
   "cell_type": "code",
   "execution_count": 1,
   "metadata": {},
   "outputs": [],
   "source": [
    "%load_ext autoreload\n",
    "%autoreload 2"
   ]
  },
  {
   "cell_type": "code",
   "execution_count": 2,
   "metadata": {},
   "outputs": [],
   "source": [
    "from fastai2.text.all import *\n",
    "import PIL\n",
    "from util import *"
   ]
  },
  {
   "cell_type": "code",
   "execution_count": 18,
   "metadata": {
    "scrolled": true
   },
   "outputs": [
    {
     "data": {
      "text/html": [
       "<div>\n",
       "<style scoped>\n",
       "    .dataframe tbody tr th:only-of-type {\n",
       "        vertical-align: middle;\n",
       "    }\n",
       "\n",
       "    .dataframe tbody tr th {\n",
       "        vertical-align: top;\n",
       "    }\n",
       "\n",
       "    .dataframe thead th {\n",
       "        text-align: right;\n",
       "    }\n",
       "</style>\n",
       "<table border=\"1\" class=\"dataframe\">\n",
       "  <thead>\n",
       "    <tr style=\"text-align: right;\">\n",
       "      <th></th>\n",
       "      <th>id</th>\n",
       "      <th>img</th>\n",
       "      <th>label</th>\n",
       "      <th>text</th>\n",
       "      <th>caption</th>\n",
       "      <th>is_valid</th>\n",
       "      <th>tex_cap</th>\n",
       "    </tr>\n",
       "  </thead>\n",
       "  <tbody>\n",
       "    <tr>\n",
       "      <th>0</th>\n",
       "      <td>42953</td>\n",
       "      <td>img/42953.png</td>\n",
       "      <td>0.0</td>\n",
       "      <td>its their character not their color that matters</td>\n",
       "      <td>A man in a black shirt is looking at the camera .</td>\n",
       "      <td>False</td>\n",
       "      <td>A man in a black shirt is looking at the camera . &lt;meme&gt; its their character not their color that matters</td>\n",
       "    </tr>\n",
       "    <tr>\n",
       "      <th>1</th>\n",
       "      <td>23058</td>\n",
       "      <td>img/23058.png</td>\n",
       "      <td>0.0</td>\n",
       "      <td>don't be afraid to love again everyone is not like your ex</td>\n",
       "      <td>A man in a suit is talking to a woman in a white shirt .</td>\n",
       "      <td>False</td>\n",
       "      <td>A man in a suit is talking to a woman in a white shirt . &lt;meme&gt; don't be afraid to love again everyone is not like your ex</td>\n",
       "    </tr>\n",
       "    <tr>\n",
       "      <th>2</th>\n",
       "      <td>13894</td>\n",
       "      <td>img/13894.png</td>\n",
       "      <td>0.0</td>\n",
       "      <td>putting bows on your pet</td>\n",
       "      <td>A cat with a red bow tied around its neck sits next to a pillow .</td>\n",
       "      <td>False</td>\n",
       "      <td>A cat with a red bow tied around its neck sits next to a pillow . &lt;meme&gt; putting bows on your pet</td>\n",
       "    </tr>\n",
       "    <tr>\n",
       "      <th>3</th>\n",
       "      <td>37408</td>\n",
       "      <td>img/37408.png</td>\n",
       "      <td>0.0</td>\n",
       "      <td>i love everything and everybody! except for squirrels i hate squirrels</td>\n",
       "      <td>A black dog is looking at the camera .</td>\n",
       "      <td>False</td>\n",
       "      <td>A black dog is looking at the camera . &lt;meme&gt; i love everything and everybody! except for squirrels i hate squirrels</td>\n",
       "    </tr>\n",
       "    <tr>\n",
       "      <th>4</th>\n",
       "      <td>82403</td>\n",
       "      <td>img/82403.png</td>\n",
       "      <td>0.0</td>\n",
       "      <td>everybody loves chocolate chip cookies, even hitler</td>\n",
       "      <td>A man in a suit is talking .</td>\n",
       "      <td>False</td>\n",
       "      <td>A man in a suit is talking . &lt;meme&gt; everybody loves chocolate chip cookies, even hitler</td>\n",
       "    </tr>\n",
       "    <tr>\n",
       "      <th>...</th>\n",
       "      <td>...</td>\n",
       "      <td>...</td>\n",
       "      <td>...</td>\n",
       "      <td>...</td>\n",
       "      <td>...</td>\n",
       "      <td>...</td>\n",
       "      <td>...</td>\n",
       "    </tr>\n",
       "    <tr>\n",
       "      <th>9995</th>\n",
       "      <td>3869</td>\n",
       "      <td>img/03869.png</td>\n",
       "      <td>NaN</td>\n",
       "      <td>a mother's love for the child is a divine thing</td>\n",
       "      <td>Three squirrels are sitting on a table .</td>\n",
       "      <td>NaN</td>\n",
       "      <td>Three squirrels are sitting on a table . &lt;meme&gt; a mother's love for the child is a divine thing</td>\n",
       "    </tr>\n",
       "    <tr>\n",
       "      <th>9996</th>\n",
       "      <td>23817</td>\n",
       "      <td>img/23817.png</td>\n",
       "      <td>NaN</td>\n",
       "      <td>sea monkeys</td>\n",
       "      <td>A dog shaking off water .</td>\n",
       "      <td>NaN</td>\n",
       "      <td>A dog shaking off water . &lt;meme&gt; sea monkeys</td>\n",
       "    </tr>\n",
       "    <tr>\n",
       "      <th>9997</th>\n",
       "      <td>56280</td>\n",
       "      <td>img/56280.png</td>\n",
       "      <td>NaN</td>\n",
       "      <td>little miss muffet sat on her tuffet</td>\n",
       "      <td>A man in a blue suit is sitting in a chair .</td>\n",
       "      <td>NaN</td>\n",
       "      <td>A man in a blue suit is sitting in a chair . &lt;meme&gt; little miss muffet sat on her tuffet</td>\n",
       "    </tr>\n",
       "    <tr>\n",
       "      <th>9998</th>\n",
       "      <td>29384</td>\n",
       "      <td>img/29384.png</td>\n",
       "      <td>NaN</td>\n",
       "      <td>they're in a row</td>\n",
       "      <td>Two green and yellow portable toilets .</td>\n",
       "      <td>NaN</td>\n",
       "      <td>Two green and yellow portable toilets . &lt;meme&gt; they're in a row</td>\n",
       "    </tr>\n",
       "    <tr>\n",
       "      <th>9999</th>\n",
       "      <td>34127</td>\n",
       "      <td>img/34127.png</td>\n",
       "      <td>NaN</td>\n",
       "      <td>that feeling when you win a fifa game after being 3 goals behind</td>\n",
       "      <td>A man is sitting on a couch with his arms raised .</td>\n",
       "      <td>NaN</td>\n",
       "      <td>A man is sitting on a couch with his arms raised . &lt;meme&gt; that feeling when you win a fifa game after being 3 goals behind</td>\n",
       "    </tr>\n",
       "  </tbody>\n",
       "</table>\n",
       "<p>10000 rows × 7 columns</p>\n",
       "</div>"
      ],
      "text/plain": [
       "         id            img  label  \\\n",
       "0     42953  img/42953.png    0.0   \n",
       "1     23058  img/23058.png    0.0   \n",
       "2     13894  img/13894.png    0.0   \n",
       "3     37408  img/37408.png    0.0   \n",
       "4     82403  img/82403.png    0.0   \n",
       "...     ...            ...    ...   \n",
       "9995   3869  img/03869.png    NaN   \n",
       "9996  23817  img/23817.png    NaN   \n",
       "9997  56280  img/56280.png    NaN   \n",
       "9998  29384  img/29384.png    NaN   \n",
       "9999  34127  img/34127.png    NaN   \n",
       "\n",
       "                                                                        text  \\\n",
       "0                           its their character not their color that matters   \n",
       "1                 don't be afraid to love again everyone is not like your ex   \n",
       "2                                                   putting bows on your pet   \n",
       "3     i love everything and everybody! except for squirrels i hate squirrels   \n",
       "4                        everybody loves chocolate chip cookies, even hitler   \n",
       "...                                                                      ...   \n",
       "9995                         a mother's love for the child is a divine thing   \n",
       "9996                                                             sea monkeys   \n",
       "9997                                    little miss muffet sat on her tuffet   \n",
       "9998                                                        they're in a row   \n",
       "9999        that feeling when you win a fifa game after being 3 goals behind   \n",
       "\n",
       "                                                                caption  \\\n",
       "0                     A man in a black shirt is looking at the camera .   \n",
       "1              A man in a suit is talking to a woman in a white shirt .   \n",
       "2     A cat with a red bow tied around its neck sits next to a pillow .   \n",
       "3                                A black dog is looking at the camera .   \n",
       "4                                          A man in a suit is talking .   \n",
       "...                                                                 ...   \n",
       "9995                           Three squirrels are sitting on a table .   \n",
       "9996                                          A dog shaking off water .   \n",
       "9997                       A man in a blue suit is sitting in a chair .   \n",
       "9998                            Two green and yellow portable toilets .   \n",
       "9999                 A man is sitting on a couch with his arms raised .   \n",
       "\n",
       "     is_valid  \\\n",
       "0       False   \n",
       "1       False   \n",
       "2       False   \n",
       "3       False   \n",
       "4       False   \n",
       "...       ...   \n",
       "9995      NaN   \n",
       "9996      NaN   \n",
       "9997      NaN   \n",
       "9998      NaN   \n",
       "9999      NaN   \n",
       "\n",
       "                                                                                                                         tex_cap  \n",
       "0                      A man in a black shirt is looking at the camera . <meme> its their character not their color that matters  \n",
       "1     A man in a suit is talking to a woman in a white shirt . <meme> don't be afraid to love again everyone is not like your ex  \n",
       "2                              A cat with a red bow tied around its neck sits next to a pillow . <meme> putting bows on your pet  \n",
       "3           A black dog is looking at the camera . <meme> i love everything and everybody! except for squirrels i hate squirrels  \n",
       "4                                        A man in a suit is talking . <meme> everybody loves chocolate chip cookies, even hitler  \n",
       "...                                                                                                                          ...  \n",
       "9995                             Three squirrels are sitting on a table . <meme> a mother's love for the child is a divine thing  \n",
       "9996                                                                                A dog shaking off water . <meme> sea monkeys  \n",
       "9997                                    A man in a blue suit is sitting in a chair . <meme> little miss muffet sat on her tuffet  \n",
       "9998                                                             Two green and yellow portable toilets . <meme> they're in a row  \n",
       "9999  A man is sitting on a couch with his arms raised . <meme> that feeling when you win a fifa game after being 3 goals behind  \n",
       "\n",
       "[10000 rows x 7 columns]"
      ]
     },
     "execution_count": 18,
     "metadata": {},
     "output_type": "execute_result"
    }
   ],
   "source": [
    "path =  Path('/home/jupyter/VLP')\n",
    "'''df = pd.read_csv(path/'captioned10000.csv')\n",
    "df =df.drop('Unnamed: 0' ,1)\n",
    "df.loc[:8499, 'is_valid'] = False\n",
    "df.loc[8500:8999, 'is_valid']= True\n",
    "df.loc[9000:, 'is_valid']=None\n",
    "df['tex_cap'] = df['caption'] + ' <meme> ' + df['text']\n",
    "df.to_csv(path/'captioned.csv',index=False)\n",
    "'''\n",
    "df  = pd.read_csv(path/'captioned.csv')\n",
    "df"
   ]
  },
  {
   "cell_type": "code",
   "execution_count": 4,
   "metadata": {},
   "outputs": [],
   "source": [
    "#to_drop = pd.read_csv(path/'to_drop.csv')"
   ]
  },
  {
   "cell_type": "code",
   "execution_count": 19,
   "metadata": {},
   "outputs": [
    {
     "data": {
      "text/html": [
       "<div>\n",
       "<style scoped>\n",
       "    .dataframe tbody tr th:only-of-type {\n",
       "        vertical-align: middle;\n",
       "    }\n",
       "\n",
       "    .dataframe tbody tr th {\n",
       "        vertical-align: top;\n",
       "    }\n",
       "\n",
       "    .dataframe thead th {\n",
       "        text-align: right;\n",
       "    }\n",
       "</style>\n",
       "<table border=\"1\" class=\"dataframe\">\n",
       "  <thead>\n",
       "    <tr style=\"text-align: right;\">\n",
       "      <th></th>\n",
       "      <th>id</th>\n",
       "      <th>img</th>\n",
       "      <th>label</th>\n",
       "      <th>text</th>\n",
       "      <th>caption</th>\n",
       "      <th>is_valid</th>\n",
       "      <th>tex_cap</th>\n",
       "    </tr>\n",
       "  </thead>\n",
       "  <tbody>\n",
       "    <tr>\n",
       "      <th>117</th>\n",
       "      <td>20568</td>\n",
       "      <td>img/20568.png</td>\n",
       "      <td>0.0</td>\n",
       "      <td>meanwhile at the isis strip club</td>\n",
       "      <td>A group of men and a sheep .</td>\n",
       "      <td>False</td>\n",
       "      <td>A group of men and a sheep . &lt;meme&gt; meanwhile at the isis strip club</td>\n",
       "    </tr>\n",
       "    <tr>\n",
       "      <th>267</th>\n",
       "      <td>35097</td>\n",
       "      <td>img/35097.png</td>\n",
       "      <td>0.0</td>\n",
       "      <td>meanwhile at the isis strip club</td>\n",
       "      <td>A group of men and a sheep .</td>\n",
       "      <td>False</td>\n",
       "      <td>A group of men and a sheep . &lt;meme&gt; meanwhile at the isis strip club</td>\n",
       "    </tr>\n",
       "    <tr>\n",
       "      <th>613</th>\n",
       "      <td>97542</td>\n",
       "      <td>img/97542.png</td>\n",
       "      <td>0.0</td>\n",
       "      <td>meanwhile at the isis strip club</td>\n",
       "      <td>A man in a white cap is surrounded by sheep .</td>\n",
       "      <td>False</td>\n",
       "      <td>A man in a white cap is surrounded by sheep . &lt;meme&gt; meanwhile at the isis strip club</td>\n",
       "    </tr>\n",
       "    <tr>\n",
       "      <th>740</th>\n",
       "      <td>19247</td>\n",
       "      <td>img/19247.png</td>\n",
       "      <td>0.0</td>\n",
       "      <td>i only wear silk panties cotton ones remind me of slavery</td>\n",
       "      <td>A man in a black suit is speaking into a microphone .</td>\n",
       "      <td>False</td>\n",
       "      <td>A man in a black suit is speaking into a microphone . &lt;meme&gt; i only wear silk panties cotton ones remind me of slavery</td>\n",
       "    </tr>\n",
       "    <tr>\n",
       "      <th>807</th>\n",
       "      <td>75203</td>\n",
       "      <td>img/75203.png</td>\n",
       "      <td>1.0</td>\n",
       "      <td>i only wear silk panties cotton ones remind me of slavery</td>\n",
       "      <td>A man in a black suit speaking into a microphone .</td>\n",
       "      <td>False</td>\n",
       "      <td>A man in a black suit speaking into a microphone . &lt;meme&gt; i only wear silk panties cotton ones remind me of slavery</td>\n",
       "    </tr>\n",
       "    <tr>\n",
       "      <th>...</th>\n",
       "      <td>...</td>\n",
       "      <td>...</td>\n",
       "      <td>...</td>\n",
       "      <td>...</td>\n",
       "      <td>...</td>\n",
       "      <td>...</td>\n",
       "      <td>...</td>\n",
       "    </tr>\n",
       "    <tr>\n",
       "      <th>7583</th>\n",
       "      <td>71658</td>\n",
       "      <td>img/71658.png</td>\n",
       "      <td>0.0</td>\n",
       "      <td>meanwhile at the isis strip club</td>\n",
       "      <td>A group of people posing for a picture .</td>\n",
       "      <td>False</td>\n",
       "      <td>A group of people posing for a picture . &lt;meme&gt; meanwhile at the isis strip club</td>\n",
       "    </tr>\n",
       "    <tr>\n",
       "      <th>7757</th>\n",
       "      <td>3847</td>\n",
       "      <td>img/03847.png</td>\n",
       "      <td>0.0</td>\n",
       "      <td>meanwhile at the isis strip club</td>\n",
       "      <td>A group of men and a sheep .</td>\n",
       "      <td>False</td>\n",
       "      <td>A group of men and a sheep . &lt;meme&gt; meanwhile at the isis strip club</td>\n",
       "    </tr>\n",
       "    <tr>\n",
       "      <th>7773</th>\n",
       "      <td>5914</td>\n",
       "      <td>img/05914.png</td>\n",
       "      <td>0.0</td>\n",
       "      <td>meanwhile at the isis strip club</td>\n",
       "      <td>A group of people are standing in a field .</td>\n",
       "      <td>False</td>\n",
       "      <td>A group of people are standing in a field . &lt;meme&gt; meanwhile at the isis strip club</td>\n",
       "    </tr>\n",
       "    <tr>\n",
       "      <th>8004</th>\n",
       "      <td>58732</td>\n",
       "      <td>img/58732.png</td>\n",
       "      <td>0.0</td>\n",
       "      <td>meanwhile at the isis strip club</td>\n",
       "      <td>A man in a white hat is standing next to a group of sheep .</td>\n",
       "      <td>False</td>\n",
       "      <td>A man in a white hat is standing next to a group of sheep . &lt;meme&gt; meanwhile at the isis strip club</td>\n",
       "    </tr>\n",
       "    <tr>\n",
       "      <th>8206</th>\n",
       "      <td>34816</td>\n",
       "      <td>img/34816.png</td>\n",
       "      <td>0.0</td>\n",
       "      <td>meanwhile at the isis strip club</td>\n",
       "      <td>A group of people are standing in a field of sheep .</td>\n",
       "      <td>False</td>\n",
       "      <td>A group of people are standing in a field of sheep . &lt;meme&gt; meanwhile at the isis strip club</td>\n",
       "    </tr>\n",
       "  </tbody>\n",
       "</table>\n",
       "<p>65 rows × 7 columns</p>\n",
       "</div>"
      ],
      "text/plain": [
       "         id            img  label  \\\n",
       "117   20568  img/20568.png    0.0   \n",
       "267   35097  img/35097.png    0.0   \n",
       "613   97542  img/97542.png    0.0   \n",
       "740   19247  img/19247.png    0.0   \n",
       "807   75203  img/75203.png    1.0   \n",
       "...     ...            ...    ...   \n",
       "7583  71658  img/71658.png    0.0   \n",
       "7757   3847  img/03847.png    0.0   \n",
       "7773   5914  img/05914.png    0.0   \n",
       "8004  58732  img/58732.png    0.0   \n",
       "8206  34816  img/34816.png    0.0   \n",
       "\n",
       "                                                           text  \\\n",
       "117                            meanwhile at the isis strip club   \n",
       "267                            meanwhile at the isis strip club   \n",
       "613                            meanwhile at the isis strip club   \n",
       "740   i only wear silk panties cotton ones remind me of slavery   \n",
       "807   i only wear silk panties cotton ones remind me of slavery   \n",
       "...                                                         ...   \n",
       "7583                           meanwhile at the isis strip club   \n",
       "7757                           meanwhile at the isis strip club   \n",
       "7773                           meanwhile at the isis strip club   \n",
       "8004                           meanwhile at the isis strip club   \n",
       "8206                           meanwhile at the isis strip club   \n",
       "\n",
       "                                                          caption is_valid  \\\n",
       "117                                  A group of men and a sheep .    False   \n",
       "267                                  A group of men and a sheep .    False   \n",
       "613                 A man in a white cap is surrounded by sheep .    False   \n",
       "740         A man in a black suit is speaking into a microphone .    False   \n",
       "807            A man in a black suit speaking into a microphone .    False   \n",
       "...                                                           ...      ...   \n",
       "7583                     A group of people posing for a picture .    False   \n",
       "7757                                 A group of men and a sheep .    False   \n",
       "7773                  A group of people are standing in a field .    False   \n",
       "8004  A man in a white hat is standing next to a group of sheep .    False   \n",
       "8206         A group of people are standing in a field of sheep .    False   \n",
       "\n",
       "                                                                                                                     tex_cap  \n",
       "117                                                     A group of men and a sheep . <meme> meanwhile at the isis strip club  \n",
       "267                                                     A group of men and a sheep . <meme> meanwhile at the isis strip club  \n",
       "613                                    A man in a white cap is surrounded by sheep . <meme> meanwhile at the isis strip club  \n",
       "740   A man in a black suit is speaking into a microphone . <meme> i only wear silk panties cotton ones remind me of slavery  \n",
       "807      A man in a black suit speaking into a microphone . <meme> i only wear silk panties cotton ones remind me of slavery  \n",
       "...                                                                                                                      ...  \n",
       "7583                                        A group of people posing for a picture . <meme> meanwhile at the isis strip club  \n",
       "7757                                                    A group of men and a sheep . <meme> meanwhile at the isis strip club  \n",
       "7773                                     A group of people are standing in a field . <meme> meanwhile at the isis strip club  \n",
       "8004                     A man in a white hat is standing next to a group of sheep . <meme> meanwhile at the isis strip club  \n",
       "8206                            A group of people are standing in a field of sheep . <meme> meanwhile at the isis strip club  \n",
       "\n",
       "[65 rows x 7 columns]"
      ]
     },
     "execution_count": 19,
     "metadata": {},
     "output_type": "execute_result"
    }
   ],
   "source": [
    "df[df.id.isin(to_drop.id)]"
   ]
  },
  {
   "cell_type": "code",
   "execution_count": 6,
   "metadata": {},
   "outputs": [],
   "source": [
    "#df =df.drop(df[df.id.isin(to_drop.id)].index)"
   ]
  },
  {
   "cell_type": "code",
   "execution_count": 20,
   "metadata": {},
   "outputs": [],
   "source": [
    "HATE_PATH = Path('/home/jupyter/mmf_data/datasets/hateful_memes/defaults/')"
   ]
  },
  {
   "cell_type": "code",
   "execution_count": 26,
   "metadata": {},
   "outputs": [
    {
     "data": {
      "text/plain": [
       "9000"
      ]
     },
     "execution_count": 26,
     "metadata": {},
     "output_type": "execute_result"
    }
   ],
   "source": [
    "df_train_val = df[:-1000]\n",
    "len(df_train_val)"
   ]
  },
  {
   "cell_type": "code",
   "execution_count": 27,
   "metadata": {},
   "outputs": [
    {
     "name": "stderr",
     "output_type": "stream",
     "text": [
      "/opt/conda/lib/python3.7/site-packages/ipykernel_launcher.py:1: UserWarning: Boolean Series key will be reindexed to match DataFrame index.\n",
      "  \"\"\"Entry point for launching an IPython kernel.\n"
     ]
    },
    {
     "data": {
      "text/plain": [
       "3050"
      ]
     },
     "execution_count": 27,
     "metadata": {},
     "output_type": "execute_result"
    }
   ],
   "source": [
    "df_train_hate = df_train_val[df_train_val.is_valid==False][df_train_val.label==1]\n",
    "len(df_train_hate)"
   ]
  },
  {
   "cell_type": "code",
   "execution_count": 28,
   "metadata": {},
   "outputs": [
    {
     "data": {
      "text/plain": [
       "12050"
      ]
     },
     "execution_count": 28,
     "metadata": {},
     "output_type": "execute_result"
    }
   ],
   "source": [
    "df_train_val = pd.concat([df_train_hate]+[df_train_val], ignore_index=True)\n",
    "len(df_train_val)"
   ]
  },
  {
   "cell_type": "code",
   "execution_count": 29,
   "metadata": {},
   "outputs": [
    {
     "data": {
      "text/plain": [
       "1555"
      ]
     },
     "execution_count": 29,
     "metadata": {},
     "output_type": "execute_result"
    }
   ],
   "source": [
    "bad_file = Path('bad_words.txt').read_text() #https://www.freewebheaders.com/bad-words-list-and-page-moderation-words-list-for-facebook/\n",
    "bad_words = set(bad_file.split(','))\n",
    "len(bad_words)"
   ]
  },
  {
   "cell_type": "code",
   "execution_count": 30,
   "metadata": {},
   "outputs": [
    {
     "data": {
      "text/plain": [
       "1104248"
      ]
     },
     "execution_count": 30,
     "metadata": {},
     "output_type": "execute_result"
    }
   ],
   "source": [
    "corpus =' '.join([x for x in df.tex_cap])\n",
    "len(corpus)"
   ]
  },
  {
   "cell_type": "code",
   "execution_count": 31,
   "metadata": {},
   "outputs": [
    {
     "name": "stdout",
     "output_type": "stream",
     "text": [
      "(#255604) ['A','man','in','a','black','shirt','is','looking','at','the','camera','.','<','meme','>','its','their','character','not','their','color','that','matters','A','man','in','a','suit','is','talking'...]\n"
     ]
    },
    {
     "data": {
      "text/plain": [
       "87"
      ]
     },
     "execution_count": 31,
     "metadata": {},
     "output_type": "execute_result"
    }
   ],
   "source": [
    "spacy = WordTokenizer()\n",
    "toks = first(spacy([corpus]))\n",
    "print(coll_repr(toks, 30))\n",
    "\n",
    "tkn = Tokenizer(spacy)\n",
    "coll_repr(tkn(corpus), 30)\n",
    "\n",
    "max([len(tkn(row['text'])) + len(tkn(row['caption'])) for _,row in df.iterrows()])"
   ]
  },
  {
   "cell_type": "code",
   "execution_count": 32,
   "metadata": {},
   "outputs": [
    {
     "data": {
      "text/plain": [
       "4328"
      ]
     },
     "execution_count": 32,
     "metadata": {},
     "output_type": "execute_result"
    }
   ],
   "source": [
    "tokens = tkn(corpus)\n",
    "tokens\n",
    "\n",
    "num = Numericalize()\n",
    "\n",
    "num.setup([tkn(corpus)])\n",
    "\n",
    "whole_vocab = num.vocab\n",
    "len(whole_vocab)"
   ]
  },
  {
   "cell_type": "code",
   "execution_count": 33,
   "metadata": {},
   "outputs": [
    {
     "data": {
      "text/plain": [
       "60000"
      ]
     },
     "execution_count": 33,
     "metadata": {},
     "output_type": "execute_result"
    }
   ],
   "source": [
    "from fastai2.text.models.core import _model_meta\n",
    "meta =_model_meta[AWD_LSTM]\n",
    "model_path = untar_data(meta['url'], c_key='model')\n",
    "fnames = [list(model_path.glob(f'*.{ext}'))[0] for ext in ['pth', 'pkl']]\n",
    "pretrained_vocab = fnames[1].load()\n",
    "len(pretrained_vocab)"
   ]
  },
  {
   "cell_type": "code",
   "execution_count": 34,
   "metadata": {},
   "outputs": [
    {
     "data": {
      "text/plain": [
       "(#10) ['lyin','islamophobia','accidently','antifa','fuckers','humper',\"put'n\",'non-','hmm','handstand']"
      ]
     },
     "execution_count": 34,
     "metadata": {},
     "output_type": "execute_result"
    }
   ],
   "source": [
    "missing = set(num.vocab) - set(pretrained_vocab)\n",
    "L(missing)[:10]"
   ]
  },
  {
   "cell_type": "code",
   "execution_count": 35,
   "metadata": {},
   "outputs": [
    {
     "data": {
      "text/plain": [
       "[(\"n't\", 1095),\n",
       " (\"'m\", 483),\n",
       " ('dishwasher', 144),\n",
       " (\"'ve\", 114),\n",
       " ('tranny', 110),\n",
       " (\"''\", 80),\n",
       " ('headscarf', 45),\n",
       " ('ilhan', 41),\n",
       " ('fucker', 33),\n",
       " ('closeup', 29),\n",
       " ('illegals', 26),\n",
       " ('sweatshirt', 23),\n",
       " ('hoodie', 21),\n",
       " ('bowtie', 20),\n",
       " ('hijab', 18),\n",
       " ('tlaib', 17),\n",
       " ('petting', 16),\n",
       " ('fuckers', 15),\n",
       " ('defund', 15),\n",
       " ('niggers', 15)]"
      ]
     },
     "execution_count": 35,
     "metadata": {},
     "output_type": "execute_result"
    }
   ],
   "source": [
    "miss_count = [(m, tokens.count(m)) for m in missing]\n",
    "sorted(miss_count, key = lambda x:-x[1])[:20]"
   ]
  },
  {
   "cell_type": "markdown",
   "metadata": {},
   "source": [
    "## Language Model"
   ]
  },
  {
   "cell_type": "code",
   "execution_count": 36,
   "metadata": {},
   "outputs": [],
   "source": [
    "class ExplToken(Transform):\n",
    "    def __init__(self, bad_words):\n",
    "        self.bad_words = bad_words\n",
    "    def encodes(self, tokens):\n",
    "        res =[]\n",
    "        for t in tokens:\n",
    "            if t in bad_words: \n",
    "                res.append('xxexpl')\n",
    "                #print('adding for', t)\n",
    "            res.append(t)\n",
    "        return res"
   ]
  },
  {
   "cell_type": "code",
   "execution_count": 37,
   "metadata": {},
   "outputs": [
    {
     "data": {
      "text/html": [],
      "text/plain": [
       "<IPython.core.display.HTML object>"
      ]
     },
     "metadata": {},
     "output_type": "display_data"
    }
   ],
   "source": [
    "blocks = [TextBlock.from_df('tex_cap', None, is_lm=True, seq_len=80)]\n",
    "tfms = blocks[0].type_tfms\n",
    "tfms[0].special_toks.append('xxexpl')\n",
    "blocks[0].type_tfms = tfms[:1] + [ExplToken(bad_words)] + tfms[1:]\n",
    "splitter = RandomSplitter(.1)\n",
    "dblock = DataBlock(blocks=blocks, get_x=ColReader('text'), splitter=splitter)\n",
    "#dls_lm = TextDataLoaders.from_df(df, path, text_col='tex_cap', valid_pct=.1, is_lm = True, seq_len=80, bs=128)\n",
    "dls_lm = DataLoaders.from_dblock(dblock, df, seq_len=80, bs=128)"
   ]
  },
  {
   "cell_type": "code",
   "execution_count": 38,
   "metadata": {},
   "outputs": [
    {
     "data": {
      "text/html": [
       "<table border=\"1\" class=\"dataframe\">\n",
       "  <thead>\n",
       "    <tr style=\"text-align: right;\">\n",
       "      <th></th>\n",
       "      <th>text</th>\n",
       "      <th>text_</th>\n",
       "    </tr>\n",
       "  </thead>\n",
       "  <tbody>\n",
       "    <tr>\n",
       "      <th>0</th>\n",
       "      <td>xxbos a black and white photo of a car show . &lt; meme &gt; can you spot the difference ? ! ? ! ? did n't take me long either - 1st car 's red xxbos a girl in a yellow shirt is kicking a football . &lt; meme &gt; found this old photo of our grand parents on their xxunk xxbos xxmaj two women are applying mascara . &lt; meme &gt; black friday deal buy one get one free</td>\n",
       "      <td>a black and white photo of a car show . &lt; meme &gt; can you spot the difference ? ! ? ! ? did n't take me long either - 1st car 's red xxbos a girl in a yellow shirt is kicking a football . &lt; meme &gt; found this old photo of our grand parents on their xxunk xxbos xxmaj two women are applying mascara . &lt; meme &gt; black friday deal buy one get one free toaster</td>\n",
       "    </tr>\n",
       "    <tr>\n",
       "      <th>1</th>\n",
       "      <td>is smiling . &lt; meme &gt; a smile is worth a thousand words xxbos a black and white picture of a man . &lt; meme &gt; game of throne team are thinking about building a documentary about xxexpl hitler xxbos a woman in a white robe is smiling . &lt; meme &gt; it 's a boy xxbos a man in a blue shirt is speaking into a microphone . &lt; meme &gt; there 's so much xxexpl crap in this</td>\n",
       "      <td>smiling . &lt; meme &gt; a smile is worth a thousand words xxbos a black and white picture of a man . &lt; meme &gt; game of throne team are thinking about building a documentary about xxexpl hitler xxbos a woman in a white robe is smiling . &lt; meme &gt; it 's a boy xxbos a man in a blue shirt is speaking into a microphone . &lt; meme &gt; there 's so much xxexpl crap in this the</td>\n",
       "    </tr>\n",
       "    <tr>\n",
       "      <th>2</th>\n",
       "      <td>killers in the world xxunk the same . \" xxunk \" lol , okay xxexpl faggot . \" xxunk xxbos a woman with a black hat and sunglasses . &lt; meme &gt; if your man dresses like this there no doubt he 's cold xxbos a man and a woman are playing chess . &lt; meme &gt; i win again ! game center xxbos a cartoon dog with a star on his head . &lt; meme &gt; it says right</td>\n",
       "      <td>in the world xxunk the same . \" xxunk \" lol , okay xxexpl faggot . \" xxunk xxbos a woman with a black hat and sunglasses . &lt; meme &gt; if your man dresses like this there no doubt he 's cold xxbos a man and a woman are playing chess . &lt; meme &gt; i win again ! game center xxbos a cartoon dog with a star on his head . &lt; meme &gt; it says right here</td>\n",
       "    </tr>\n",
       "    <tr>\n",
       "      <th>3</th>\n",
       "      <td>xxexpl fucker jokes xxbos a man giving a speech . &lt; meme &gt; the xxexpl xxunk way to eat xxunk noodles : 1 . boil water 2 . eat block of xxunk 3 . drink xxunk water 4 . snort xxunk powder 5 xxexpl fuck xxexpl bitches xxbos xxmaj older man smoking a cigarette . &lt; meme &gt; the people who give a xxexpl fuck are right over there xxbos a man in a blue shirt is shaking hands with</td>\n",
       "      <td>fucker jokes xxbos a man giving a speech . &lt; meme &gt; the xxexpl xxunk way to eat xxunk noodles : 1 . boil water 2 . eat block of xxunk 3 . drink xxunk water 4 . snort xxunk powder 5 xxexpl fuck xxexpl bitches xxbos xxmaj older man smoking a cigarette . &lt; meme &gt; the people who give a xxexpl fuck are right over there xxbos a man in a blue shirt is shaking hands with a</td>\n",
       "    </tr>\n",
       "    <tr>\n",
       "      <th>4</th>\n",
       "      <td>? i worked 60 years for my masters xxbos a baby is being held by a woman . &lt; meme &gt; when ur too young to know the xxunk of racism but ur happy cause u got a new pet xxbos a woman is holding a small child . &lt; meme &gt; this is what science does for humanity this is what islam does for humanity xxbos a woman in a red and black dress holding a trophy . &lt;</td>\n",
       "      <td>i worked 60 years for my masters xxbos a baby is being held by a woman . &lt; meme &gt; when ur too young to know the xxunk of racism but ur happy cause u got a new pet xxbos a woman is holding a small child . &lt; meme &gt; this is what science does for humanity this is what islam does for humanity xxbos a woman in a red and black dress holding a trophy . &lt; meme</td>\n",
       "    </tr>\n",
       "    <tr>\n",
       "      <th>5</th>\n",
       "      <td>shirt smiles . &lt; meme &gt; finally finding the right xxunk you need indian xxunk xxbos a woman in a red dress is playing the drums . &lt; meme &gt; fresh out of xxunk bomb xxunk xxbos a man in a tuxedo is wearing a bowtie . &lt; meme &gt; oh you talk so tough from behind your keyboard tell me again what a xxunk you are xxbos there is a big pile of debris . &lt; meme &gt; our</td>\n",
       "      <td>smiles . &lt; meme &gt; finally finding the right xxunk you need indian xxunk xxbos a woman in a red dress is playing the drums . &lt; meme &gt; fresh out of xxunk bomb xxunk xxbos a man in a tuxedo is wearing a bowtie . &lt; meme &gt; oh you talk so tough from behind your keyboard tell me again what a xxunk you are xxbos there is a big pile of debris . &lt; meme &gt; our thoughts</td>\n",
       "    </tr>\n",
       "    <tr>\n",
       "      <th>6</th>\n",
       "      <td>your country xxbos a child in a swimming suit is in the water . &lt; meme &gt; xxunk concentration camp these jews can claim holocaust xxunk xxbos a man in a black shirt and a woman in a blue shirt are working on a lawn xxunk &lt; meme &gt; and you think xxunk xxunk are offensive ? xxbos a man in a striped shirt is standing in front of a poster . &lt; meme &gt; the most beautiful chimpanzee and</td>\n",
       "      <td>country xxbos a child in a swimming suit is in the water . &lt; meme &gt; xxunk concentration camp these jews can claim holocaust xxunk xxbos a man in a black shirt and a woman in a blue shirt are working on a lawn xxunk &lt; meme &gt; and you think xxunk xxunk are offensive ? xxbos a man in a striped shirt is standing in front of a poster . &lt; meme &gt; the most beautiful chimpanzee and above</td>\n",
       "    </tr>\n",
       "    <tr>\n",
       "      <th>7</th>\n",
       "      <td>i r xxbos a large group of people are gathered together . &lt; meme &gt; border agents in texas xxunk over 400 illegals in just a xxunk span this is an invasion ! why are some republicans trying to keep our borders open ? ? xxbos a woman in a blue dress holding a hammer . &lt; meme &gt; every woman need a good xxexpl sucking vacuum cleaner xxbos a man and a woman are taking pictures . &lt; meme</td>\n",
       "      <td>r xxbos a large group of people are gathered together . &lt; meme &gt; border agents in texas xxunk over 400 illegals in just a xxunk span this is an invasion ! why are some republicans trying to keep our borders open ? ? xxbos a woman in a blue dress holding a hammer . &lt; meme &gt; every woman need a good xxexpl sucking vacuum cleaner xxbos a man and a woman are taking pictures . &lt; meme &gt;</td>\n",
       "    </tr>\n",
       "    <tr>\n",
       "      <th>8</th>\n",
       "      <td>by real men not xxunk xxexpl ass muslim xxexpl bitches xxbos a man in a blue shirt is holding a tennis ball . &lt; meme &gt; that chicken was so black the police just arrested it xxbos a woman is speaking into a microphone . &lt; meme &gt; i should not be expected to pledge allegiance to any country including america xxbos a man is sitting on the ground . &lt; meme &gt; you 've been hungerstruck ! ! xxbos</td>\n",
       "      <td>real men not xxunk xxexpl ass muslim xxexpl bitches xxbos a man in a blue shirt is holding a tennis ball . &lt; meme &gt; that chicken was so black the police just arrested it xxbos a woman is speaking into a microphone . &lt; meme &gt; i should not be expected to pledge allegiance to any country including america xxbos a man is sitting on the ground . &lt; meme &gt; you 've been hungerstruck ! ! xxbos a</td>\n",
       "    </tr>\n",
       "    <tr>\n",
       "      <th>9</th>\n",
       "      <td>xxunk for xxunk got service xxunk for agent orange xxbos a man in a suit gives the thumbs up . &lt; meme &gt; look at me i 'm the president now xxbos a man in a blue shirt is speaking . &lt; meme &gt; if you think xxunk gang members are human , but xxunk old xxunk are n't you might be a democrat xxbos a man in a black shirt is running . &lt; meme &gt; show xxunk for</td>\n",
       "      <td>for xxunk got service xxunk for agent orange xxbos a man in a suit gives the thumbs up . &lt; meme &gt; look at me i 'm the president now xxbos a man in a blue shirt is speaking . &lt; meme &gt; if you think xxunk gang members are human , but xxunk old xxunk are n't you might be a democrat xxbos a man in a black shirt is running . &lt; meme &gt; show xxunk for other</td>\n",
       "    </tr>\n",
       "  </tbody>\n",
       "</table>"
      ],
      "text/plain": [
       "<IPython.core.display.HTML object>"
      ]
     },
     "metadata": {},
     "output_type": "display_data"
    }
   ],
   "source": [
    "dls_lm.show_batch(max_n=10)"
   ]
  },
  {
   "cell_type": "code",
   "execution_count": 39,
   "metadata": {},
   "outputs": [
    {
     "data": {
      "text/html": [
       "<table border=\"1\" class=\"dataframe\">\n",
       "  <thead>\n",
       "    <tr style=\"text-align: left;\">\n",
       "      <th>epoch</th>\n",
       "      <th>train_loss</th>\n",
       "      <th>valid_loss</th>\n",
       "      <th>accuracy</th>\n",
       "      <th>perplexity</th>\n",
       "      <th>time</th>\n",
       "    </tr>\n",
       "  </thead>\n",
       "  <tbody>\n",
       "    <tr>\n",
       "      <td>0</td>\n",
       "      <td>5.131968</td>\n",
       "      <td>3.636229</td>\n",
       "      <td>0.355577</td>\n",
       "      <td>37.948475</td>\n",
       "      <td>00:13</td>\n",
       "    </tr>\n",
       "  </tbody>\n",
       "</table>"
      ],
      "text/plain": [
       "<IPython.core.display.HTML object>"
      ]
     },
     "metadata": {},
     "output_type": "display_data"
    },
    {
     "data": {
      "text/html": [
       "<table border=\"1\" class=\"dataframe\">\n",
       "  <thead>\n",
       "    <tr style=\"text-align: left;\">\n",
       "      <th>epoch</th>\n",
       "      <th>train_loss</th>\n",
       "      <th>valid_loss</th>\n",
       "      <th>accuracy</th>\n",
       "      <th>perplexity</th>\n",
       "      <th>time</th>\n",
       "    </tr>\n",
       "  </thead>\n",
       "  <tbody>\n",
       "    <tr>\n",
       "      <td>0</td>\n",
       "      <td>3.545546</td>\n",
       "      <td>3.192111</td>\n",
       "      <td>0.421072</td>\n",
       "      <td>24.339748</td>\n",
       "      <td>00:14</td>\n",
       "    </tr>\n",
       "    <tr>\n",
       "      <td>1</td>\n",
       "      <td>3.351683</td>\n",
       "      <td>2.991701</td>\n",
       "      <td>0.446908</td>\n",
       "      <td>19.919544</td>\n",
       "      <td>00:14</td>\n",
       "    </tr>\n",
       "    <tr>\n",
       "      <td>2</td>\n",
       "      <td>3.184339</td>\n",
       "      <td>2.866646</td>\n",
       "      <td>0.460872</td>\n",
       "      <td>17.577959</td>\n",
       "      <td>00:14</td>\n",
       "    </tr>\n",
       "    <tr>\n",
       "      <td>3</td>\n",
       "      <td>3.036889</td>\n",
       "      <td>2.787672</td>\n",
       "      <td>0.468761</td>\n",
       "      <td>16.243166</td>\n",
       "      <td>00:14</td>\n",
       "    </tr>\n",
       "    <tr>\n",
       "      <td>4</td>\n",
       "      <td>2.904616</td>\n",
       "      <td>2.738323</td>\n",
       "      <td>0.473861</td>\n",
       "      <td>15.461039</td>\n",
       "      <td>00:14</td>\n",
       "    </tr>\n",
       "    <tr>\n",
       "      <td>5</td>\n",
       "      <td>2.789129</td>\n",
       "      <td>2.703597</td>\n",
       "      <td>0.480349</td>\n",
       "      <td>14.933348</td>\n",
       "      <td>00:14</td>\n",
       "    </tr>\n",
       "    <tr>\n",
       "      <td>6</td>\n",
       "      <td>2.694874</td>\n",
       "      <td>2.684499</td>\n",
       "      <td>0.483713</td>\n",
       "      <td>14.650860</td>\n",
       "      <td>00:14</td>\n",
       "    </tr>\n",
       "    <tr>\n",
       "      <td>7</td>\n",
       "      <td>2.612838</td>\n",
       "      <td>2.672259</td>\n",
       "      <td>0.485254</td>\n",
       "      <td>14.472631</td>\n",
       "      <td>00:13</td>\n",
       "    </tr>\n",
       "    <tr>\n",
       "      <td>8</td>\n",
       "      <td>2.553637</td>\n",
       "      <td>2.667641</td>\n",
       "      <td>0.486274</td>\n",
       "      <td>14.405951</td>\n",
       "      <td>00:13</td>\n",
       "    </tr>\n",
       "    <tr>\n",
       "      <td>9</td>\n",
       "      <td>2.519857</td>\n",
       "      <td>2.667382</td>\n",
       "      <td>0.485276</td>\n",
       "      <td>14.402208</td>\n",
       "      <td>00:14</td>\n",
       "    </tr>\n",
       "  </tbody>\n",
       "</table>"
      ],
      "text/plain": [
       "<IPython.core.display.HTML object>"
      ]
     },
     "metadata": {},
     "output_type": "display_data"
    }
   ],
   "source": [
    "learn = language_model_learner(\n",
    "    dls_lm, AWD_LSTM, drop_mult=0.3, \n",
    "    metrics=[accuracy, Perplexity()])\n",
    "learn.fine_tune(10, 1e-2)"
   ]
  },
  {
   "cell_type": "code",
   "execution_count": 51,
   "metadata": {},
   "outputs": [
    {
     "data": {
      "text/html": [
       "<table border=\"1\" class=\"dataframe\">\n",
       "  <thead>\n",
       "    <tr style=\"text-align: left;\">\n",
       "      <th>epoch</th>\n",
       "      <th>train_loss</th>\n",
       "      <th>valid_loss</th>\n",
       "      <th>accuracy</th>\n",
       "      <th>perplexity</th>\n",
       "      <th>time</th>\n",
       "    </tr>\n",
       "  </thead>\n",
       "  <tbody>\n",
       "    <tr>\n",
       "      <td>0</td>\n",
       "      <td>2.463816</td>\n",
       "      <td>2.678810</td>\n",
       "      <td>0.484570</td>\n",
       "      <td>14.567745</td>\n",
       "      <td>00:14</td>\n",
       "    </tr>\n",
       "    <tr>\n",
       "      <td>1</td>\n",
       "      <td>2.447849</td>\n",
       "      <td>2.659021</td>\n",
       "      <td>0.487910</td>\n",
       "      <td>14.282302</td>\n",
       "      <td>00:14</td>\n",
       "    </tr>\n",
       "    <tr>\n",
       "      <td>2</td>\n",
       "      <td>2.397047</td>\n",
       "      <td>2.627599</td>\n",
       "      <td>0.495202</td>\n",
       "      <td>13.840499</td>\n",
       "      <td>00:14</td>\n",
       "    </tr>\n",
       "    <tr>\n",
       "      <td>3</td>\n",
       "      <td>2.351863</td>\n",
       "      <td>2.620151</td>\n",
       "      <td>0.497630</td>\n",
       "      <td>13.737792</td>\n",
       "      <td>00:14</td>\n",
       "    </tr>\n",
       "    <tr>\n",
       "      <td>4</td>\n",
       "      <td>2.312452</td>\n",
       "      <td>2.617811</td>\n",
       "      <td>0.498340</td>\n",
       "      <td>13.705688</td>\n",
       "      <td>00:14</td>\n",
       "    </tr>\n",
       "  </tbody>\n",
       "</table>"
      ],
      "text/plain": [
       "<IPython.core.display.HTML object>"
      ]
     },
     "metadata": {},
     "output_type": "display_data"
    }
   ],
   "source": [
    "learn.fit_one_cycle(5, 1e-3)"
   ]
  },
  {
   "cell_type": "code",
   "execution_count": 52,
   "metadata": {},
   "outputs": [
    {
     "data": {
      "text/html": [
       "<table border=\"1\" class=\"dataframe\">\n",
       "  <thead>\n",
       "    <tr style=\"text-align: left;\">\n",
       "      <th>epoch</th>\n",
       "      <th>train_loss</th>\n",
       "      <th>valid_loss</th>\n",
       "      <th>accuracy</th>\n",
       "      <th>perplexity</th>\n",
       "      <th>time</th>\n",
       "    </tr>\n",
       "  </thead>\n",
       "  <tbody>\n",
       "    <tr>\n",
       "      <td>0</td>\n",
       "      <td>2.252066</td>\n",
       "      <td>2.617228</td>\n",
       "      <td>0.498418</td>\n",
       "      <td>13.697695</td>\n",
       "      <td>00:14</td>\n",
       "    </tr>\n",
       "    <tr>\n",
       "      <td>1</td>\n",
       "      <td>2.254254</td>\n",
       "      <td>2.615882</td>\n",
       "      <td>0.498848</td>\n",
       "      <td>13.679278</td>\n",
       "      <td>00:14</td>\n",
       "    </tr>\n",
       "    <tr>\n",
       "      <td>2</td>\n",
       "      <td>2.252709</td>\n",
       "      <td>2.614136</td>\n",
       "      <td>0.499355</td>\n",
       "      <td>13.655419</td>\n",
       "      <td>00:14</td>\n",
       "    </tr>\n",
       "    <tr>\n",
       "      <td>3</td>\n",
       "      <td>2.242669</td>\n",
       "      <td>2.613965</td>\n",
       "      <td>0.499154</td>\n",
       "      <td>13.653079</td>\n",
       "      <td>00:14</td>\n",
       "    </tr>\n",
       "    <tr>\n",
       "      <td>4</td>\n",
       "      <td>2.254691</td>\n",
       "      <td>2.613635</td>\n",
       "      <td>0.499271</td>\n",
       "      <td>13.648568</td>\n",
       "      <td>00:14</td>\n",
       "    </tr>\n",
       "  </tbody>\n",
       "</table>"
      ],
      "text/plain": [
       "<IPython.core.display.HTML object>"
      ]
     },
     "metadata": {},
     "output_type": "display_data"
    }
   ],
   "source": [
    "learn.fit_one_cycle(5, 1e-4)"
   ]
  },
  {
   "cell_type": "code",
   "execution_count": 53,
   "metadata": {},
   "outputs": [],
   "source": [
    "learn.save_encoder('finetuned_ex')"
   ]
  },
  {
   "cell_type": "code",
   "execution_count": 54,
   "metadata": {},
   "outputs": [
    {
     "data": {
      "text/html": [],
      "text/plain": [
       "<IPython.core.display.HTML object>"
      ]
     },
     "metadata": {},
     "output_type": "display_data"
    },
    {
     "data": {
      "text/html": [],
      "text/plain": [
       "<IPython.core.display.HTML object>"
      ]
     },
     "metadata": {},
     "output_type": "display_data"
    },
    {
     "name": "stdout",
     "output_type": "stream",
     "text": [
      "a man in a blue shirt is lying in front of a stove . < meme > when your mom was so xxexpl raped by a man a little girl in a white tank top is standing with her arms crossed\n",
      "a man in a blue shirt is smiling . < meme > white people do n't shoot it but they xxexpl kill you a man with glasses is raising his hands . < meme > we do n't have to load\n"
     ]
    }
   ],
   "source": [
    "TEXT = \"A man\"\n",
    "N_WORDS = 40\n",
    "N_SENTENCES = 2\n",
    "preds = [learn.predict(TEXT, N_WORDS, temperature=0.75) \n",
    "         for _ in range(N_SENTENCES)]\n",
    "\n",
    "print(\"\\n\".join(preds))"
   ]
  },
  {
   "cell_type": "markdown",
   "metadata": {},
   "source": [
    "## Classifier"
   ]
  },
  {
   "cell_type": "code",
   "execution_count": 40,
   "metadata": {},
   "outputs": [
    {
     "data": {
      "text/plain": [
       "4336"
      ]
     },
     "execution_count": 40,
     "metadata": {},
     "output_type": "execute_result"
    }
   ],
   "source": [
    "len(dls_lm.vocab)"
   ]
  },
  {
   "cell_type": "code",
   "execution_count": 126,
   "metadata": {},
   "outputs": [
    {
     "data": {
      "text/html": [],
      "text/plain": [
       "<IPython.core.display.HTML object>"
      ]
     },
     "metadata": {},
     "output_type": "display_data"
    }
   ],
   "source": [
    "blocks = [TextBlock.from_df('tex_cap', vocab = dls_lm.vocab, is_lm=False, seq_len=80), CategoryBlock]\n",
    "tfms = blocks[0].type_tfms\n",
    "tfms[0].special_toks.append('xxexpl')\n",
    "blocks[0].type_tfms = tfms[:1] + [ExplToken(bad_words)] + tfms[1:]\n",
    "splitter = ColSplitter('is_valid')\n",
    "dblock = DataBlock(blocks=blocks, get_x=ColReader('text'), get_y=ColReader('label'), splitter=splitter)\n",
    "dls = DataLoaders.from_dblock(dblock, df_train_val, path='.', seq_len=80, bs=128)"
   ]
  },
  {
   "cell_type": "code",
   "execution_count": 60,
   "metadata": {},
   "outputs": [
    {
     "data": {
      "text/html": [],
      "text/plain": [
       "<IPython.core.display.HTML object>"
      ]
     },
     "metadata": {},
     "output_type": "display_data"
    }
   ],
   "source": [
    "#dls = TextDataLoaders.from_df(df_train_val, path, text_vocab=dls_lm.vocab, text_col='tex_cap',label_col='label', valid_col='is_valid' )"
   ]
  },
  {
   "cell_type": "code",
   "execution_count": 83,
   "metadata": {},
   "outputs": [
    {
     "data": {
      "text/html": [
       "<table border=\"1\" class=\"dataframe\">\n",
       "  <thead>\n",
       "    <tr style=\"text-align: right;\">\n",
       "      <th></th>\n",
       "      <th>text</th>\n",
       "      <th>category</th>\n",
       "    </tr>\n",
       "  </thead>\n",
       "  <tbody>\n",
       "    <tr>\n",
       "      <th>0</th>\n",
       "      <td>xxbos a man standing in the desert . &lt; meme &gt; housing , free gas , free xxunk , free healthcare and free education for my wives and children . to show xxunk for your xxunk , i 'll xxunk your 12 year old daughters , blow up your xxunk , planes and buses and xxunk hate through a xxunk xxunk in your local city and town xxunk with the purpose of turning your xxunk country into the same xxexpl shithole i xxunk took xxunk from , allahu akbar !</td>\n",
       "      <td>1.0</td>\n",
       "    </tr>\n",
       "    <tr>\n",
       "      <th>1</th>\n",
       "      <td>xxbos a man standing in the desert . &lt; meme &gt; housing , free gas , free xxunk , free healthcare and free education for my wives and children . to show xxunk for your xxunk , i 'll xxunk your 12 year old daughters , blow up your xxunk , planes and buses and xxunk hate through a xxunk xxunk in your local city and town xxunk with the purpose of turning your xxunk country into the same xxexpl shithole i xxunk took xxunk from , allahu akbar !</td>\n",
       "      <td>1.0</td>\n",
       "    </tr>\n",
       "    <tr>\n",
       "      <th>2</th>\n",
       "      <td>xxbos a woman in a white shirt is smiling . &lt; meme &gt; \" nobody is trying to take your guns ! \" \" we only want to make you xxunk them , xxunk xxunk , ban xxunk guns , xxunk magazine xxunk , xxunk carrying them , ban or xxunk ammo , make other xxunk laws , and , if we catch you xxunk any of these made - up rules , throw you in prison … . at which point we will take your guns ! \" xxpad</td>\n",
       "      <td>0.0</td>\n",
       "    </tr>\n",
       "    <tr>\n",
       "      <th>3</th>\n",
       "      <td>xxbos a man in a suit is speaking into a microphone . &lt; meme &gt; president trump accused of xxexpl sexual assault right before the election xxunk xxunk accused xxexpl sexual harassment right before the election right before getting voted in by the senate xxunk xxunk accused of xxexpl sexual assault right before senate election in alabama brett kavanaugh accused of xxexpl sexual assault right before getting voted in by the senate still convinced that the xxunk are telling the truth ? xxunk e xxunk monday at xxunk pm xxpad</td>\n",
       "      <td>0.0</td>\n",
       "    </tr>\n",
       "    <tr>\n",
       "      <th>4</th>\n",
       "      <td>xxbos a girl with long brown hair is looking at the camera . &lt; meme &gt; have you ever xxunk the history of the jews ? did you know that they have always xxunk together as a tribe , infiltrated xxunk , xxunk the financial xxunk of nations xxunk wars and xxunk created chaos in xxunk ? the jews have mass murdered millions of non- jews over the xxunk they xxunk seized control of the media so you 'll never find out study the history of the jews ! xxpad</td>\n",
       "      <td>1.0</td>\n",
       "    </tr>\n",
       "    <tr>\n",
       "      <th>5</th>\n",
       "      <td>xxbos a man in a black hat is digging in the sand . &lt; meme &gt; xxunk you killed me so the jew could control your media so the jews could control your banks so the jews control you money so the jews could control your government so your children could die for israel so foreigners could destroy your cities so foreigners could run your civil and public services so you become a prisoner in your own homes so your people and race are lost forever xxpad xxpad xxpad xxpad</td>\n",
       "      <td>1.0</td>\n",
       "    </tr>\n",
       "    <tr>\n",
       "      <th>6</th>\n",
       "      <td>xxbos a man in a black hat is digging in the sand . &lt; meme &gt; xxunk you killed me so the jew could control your media so the jews could control your banks so the jews control you money so the jews could control your government so your children could die for israel so foreigners could destroy your cities so foreigners could run your civil and public services so you become a prisoner in your own homes so your people and race are lost forever xxpad xxpad xxpad xxpad</td>\n",
       "      <td>1.0</td>\n",
       "    </tr>\n",
       "    <tr>\n",
       "      <th>7</th>\n",
       "      <td>xxbos a little girl eating ice cream . &lt; meme &gt; if a phobia is a fear , how can i be \" xxunk \" or transphobic \" ? who xxunk a man in a dress ? ! why would i fear a man who takes it up the xxexpl ass by another man ? xxunk , yes definitely . fear ? no way . the only fear i have is the xxunk of what society will look like if these people keep xxunk xxpad xxpad xxpad xxpad xxpad xxpad</td>\n",
       "      <td>1.0</td>\n",
       "    </tr>\n",
       "    <tr>\n",
       "      <th>8</th>\n",
       "      <td>xxbos a large group of people are gathered outside . &lt; meme &gt; these people are not human they look like xxunk walk and talk like people sort of but they are xxunk xxunk you can not xxunk this evil in human form they are under the spell of evil and have no xxunk about xxexpl rape , xxexpl murder , torture xxexpl rape of children or murdering you . your life means nothing to them get it ? ? nothing xxpad xxpad xxpad xxpad xxpad xxpad xxpad xxpad xxpad</td>\n",
       "      <td>1.0</td>\n",
       "    </tr>\n",
       "  </tbody>\n",
       "</table>"
      ],
      "text/plain": [
       "<IPython.core.display.HTML object>"
      ]
     },
     "metadata": {},
     "output_type": "display_data"
    }
   ],
   "source": [
    "dls.show_batch()"
   ]
  },
  {
   "cell_type": "code",
   "execution_count": 127,
   "metadata": {
    "scrolled": true
   },
   "outputs": [
    {
     "data": {
      "text/plain": [
       "(11479, 500)"
      ]
     },
     "execution_count": 127,
     "metadata": {},
     "output_type": "execute_result"
    }
   ],
   "source": [
    "len(dls.train_ds), len(dls.valid_ds)"
   ]
  },
  {
   "cell_type": "code",
   "execution_count": 128,
   "metadata": {},
   "outputs": [],
   "source": [
    "learn = text_classifier_learner(dls, AWD_LSTM, drop_mult=0.95, metrics=[accuracy, RocAucBinary()])\n",
    "learn = learn.load_encoder('finetuned_ex')"
   ]
  },
  {
   "cell_type": "code",
   "execution_count": 129,
   "metadata": {},
   "outputs": [
    {
     "data": {
      "text/html": [
       "<table border=\"1\" class=\"dataframe\">\n",
       "  <thead>\n",
       "    <tr style=\"text-align: left;\">\n",
       "      <th>epoch</th>\n",
       "      <th>train_loss</th>\n",
       "      <th>valid_loss</th>\n",
       "      <th>accuracy</th>\n",
       "      <th>roc_auc_score</th>\n",
       "      <th>time</th>\n",
       "    </tr>\n",
       "  </thead>\n",
       "  <tbody>\n",
       "    <tr>\n",
       "      <td>0</td>\n",
       "      <td>0.902640</td>\n",
       "      <td>0.680318</td>\n",
       "      <td>0.580000</td>\n",
       "      <td>0.589776</td>\n",
       "      <td>00:04</td>\n",
       "    </tr>\n",
       "  </tbody>\n",
       "</table>"
      ],
      "text/plain": [
       "<IPython.core.display.HTML object>"
      ]
     },
     "metadata": {},
     "output_type": "display_data"
    },
    {
     "data": {
      "text/html": [
       "<table border=\"1\" class=\"dataframe\">\n",
       "  <thead>\n",
       "    <tr style=\"text-align: left;\">\n",
       "      <th>epoch</th>\n",
       "      <th>train_loss</th>\n",
       "      <th>valid_loss</th>\n",
       "      <th>accuracy</th>\n",
       "      <th>roc_auc_score</th>\n",
       "      <th>time</th>\n",
       "    </tr>\n",
       "  </thead>\n",
       "  <tbody>\n",
       "    <tr>\n",
       "      <td>0</td>\n",
       "      <td>0.813869</td>\n",
       "      <td>0.677640</td>\n",
       "      <td>0.594000</td>\n",
       "      <td>0.601296</td>\n",
       "      <td>00:08</td>\n",
       "    </tr>\n",
       "    <tr>\n",
       "      <td>1</td>\n",
       "      <td>0.764385</td>\n",
       "      <td>0.675406</td>\n",
       "      <td>0.584000</td>\n",
       "      <td>0.609760</td>\n",
       "      <td>00:08</td>\n",
       "    </tr>\n",
       "    <tr>\n",
       "      <td>2</td>\n",
       "      <td>0.721874</td>\n",
       "      <td>0.679767</td>\n",
       "      <td>0.572000</td>\n",
       "      <td>0.610624</td>\n",
       "      <td>00:08</td>\n",
       "    </tr>\n",
       "    <tr>\n",
       "      <td>3</td>\n",
       "      <td>0.687999</td>\n",
       "      <td>0.668317</td>\n",
       "      <td>0.596000</td>\n",
       "      <td>0.634608</td>\n",
       "      <td>00:08</td>\n",
       "    </tr>\n",
       "    <tr>\n",
       "      <td>4</td>\n",
       "      <td>0.666182</td>\n",
       "      <td>0.672751</td>\n",
       "      <td>0.590000</td>\n",
       "      <td>0.631152</td>\n",
       "      <td>00:08</td>\n",
       "    </tr>\n",
       "    <tr>\n",
       "      <td>5</td>\n",
       "      <td>0.661358</td>\n",
       "      <td>0.656742</td>\n",
       "      <td>0.610000</td>\n",
       "      <td>0.652976</td>\n",
       "      <td>00:08</td>\n",
       "    </tr>\n",
       "    <tr>\n",
       "      <td>6</td>\n",
       "      <td>0.644198</td>\n",
       "      <td>0.662759</td>\n",
       "      <td>0.606000</td>\n",
       "      <td>0.650080</td>\n",
       "      <td>00:08</td>\n",
       "    </tr>\n",
       "    <tr>\n",
       "      <td>7</td>\n",
       "      <td>0.623435</td>\n",
       "      <td>0.671764</td>\n",
       "      <td>0.598000</td>\n",
       "      <td>0.655456</td>\n",
       "      <td>00:08</td>\n",
       "    </tr>\n",
       "    <tr>\n",
       "      <td>8</td>\n",
       "      <td>0.614842</td>\n",
       "      <td>0.663147</td>\n",
       "      <td>0.600000</td>\n",
       "      <td>0.660448</td>\n",
       "      <td>00:08</td>\n",
       "    </tr>\n",
       "    <tr>\n",
       "      <td>9</td>\n",
       "      <td>0.613414</td>\n",
       "      <td>0.664007</td>\n",
       "      <td>0.622000</td>\n",
       "      <td>0.669888</td>\n",
       "      <td>00:08</td>\n",
       "    </tr>\n",
       "    <tr>\n",
       "      <td>10</td>\n",
       "      <td>0.592363</td>\n",
       "      <td>0.673190</td>\n",
       "      <td>0.616000</td>\n",
       "      <td>0.674256</td>\n",
       "      <td>00:08</td>\n",
       "    </tr>\n",
       "    <tr>\n",
       "      <td>11</td>\n",
       "      <td>0.597218</td>\n",
       "      <td>0.666084</td>\n",
       "      <td>0.610000</td>\n",
       "      <td>0.673536</td>\n",
       "      <td>00:08</td>\n",
       "    </tr>\n",
       "    <tr>\n",
       "      <td>12</td>\n",
       "      <td>0.593055</td>\n",
       "      <td>0.672568</td>\n",
       "      <td>0.632000</td>\n",
       "      <td>0.671808</td>\n",
       "      <td>00:08</td>\n",
       "    </tr>\n",
       "    <tr>\n",
       "      <td>13</td>\n",
       "      <td>0.589951</td>\n",
       "      <td>0.670613</td>\n",
       "      <td>0.622000</td>\n",
       "      <td>0.672432</td>\n",
       "      <td>00:08</td>\n",
       "    </tr>\n",
       "    <tr>\n",
       "      <td>14</td>\n",
       "      <td>0.583409</td>\n",
       "      <td>0.675321</td>\n",
       "      <td>0.616000</td>\n",
       "      <td>0.676816</td>\n",
       "      <td>00:08</td>\n",
       "    </tr>\n",
       "    <tr>\n",
       "      <td>15</td>\n",
       "      <td>0.576658</td>\n",
       "      <td>0.676416</td>\n",
       "      <td>0.616000</td>\n",
       "      <td>0.672176</td>\n",
       "      <td>00:08</td>\n",
       "    </tr>\n",
       "    <tr>\n",
       "      <td>16</td>\n",
       "      <td>0.577522</td>\n",
       "      <td>0.672698</td>\n",
       "      <td>0.616000</td>\n",
       "      <td>0.673296</td>\n",
       "      <td>00:08</td>\n",
       "    </tr>\n",
       "    <tr>\n",
       "      <td>17</td>\n",
       "      <td>0.566312</td>\n",
       "      <td>0.686271</td>\n",
       "      <td>0.618000</td>\n",
       "      <td>0.671536</td>\n",
       "      <td>00:08</td>\n",
       "    </tr>\n",
       "    <tr>\n",
       "      <td>18</td>\n",
       "      <td>0.569547</td>\n",
       "      <td>0.679145</td>\n",
       "      <td>0.626000</td>\n",
       "      <td>0.672032</td>\n",
       "      <td>00:08</td>\n",
       "    </tr>\n",
       "    <tr>\n",
       "      <td>19</td>\n",
       "      <td>0.566794</td>\n",
       "      <td>0.678923</td>\n",
       "      <td>0.612000</td>\n",
       "      <td>0.673632</td>\n",
       "      <td>00:08</td>\n",
       "    </tr>\n",
       "  </tbody>\n",
       "</table>"
      ],
      "text/plain": [
       "<IPython.core.display.HTML object>"
      ]
     },
     "metadata": {},
     "output_type": "display_data"
    }
   ],
   "source": [
    "learn.fine_tune(20, 5e-3)"
   ]
  },
  {
   "cell_type": "code",
   "execution_count": 130,
   "metadata": {},
   "outputs": [
    {
     "data": {
      "text/html": [],
      "text/plain": [
       "<IPython.core.display.HTML object>"
      ]
     },
     "metadata": {},
     "output_type": "display_data"
    },
    {
     "data": {
      "image/png": "[encoded data removed]",
      "text/plain": [
       "<Figure size 720x720 with 1 Axes>"
      ]
     },
     "metadata": {
      "needs_background": "light"
     },
     "output_type": "display_data"
    }
   ],
   "source": [
    "interp = ClassificationInterpretation.from_learner(learn)\n",
    "\n",
    "interp.plot_confusion_matrix(figsize=(12,12), dpi=60)"
   ]
  },
  {
   "cell_type": "code",
   "execution_count": 131,
   "metadata": {},
   "outputs": [],
   "source": [
    "@typedispatch\n",
    "def plot_top_losses(x: TensorText, y:TensorCategory, samples, outs, raws, losses, trunc_at=150, **kwargs):\n",
    "\n",
    "    rows = get_empty_df(len(samples))\n",
    "    samples = L((s[0].truncate(trunc_at),*s[1:]) for s in samples)\n",
    "    for i,l in enumerate(['input', 'target']):\n",
    "        rows = [b.show(ctx=c, label=l, **kwargs) for b,c in zip(samples.itemgot(i),rows)]\n",
    "    outs = L(o + (TitledFloat(r.max().item()), TitledFloat(l.item())) for o,r,l in zip(outs, raws, losses))\n",
    "    for i,l in enumerate(['predicted', 'probability', 'loss']):\n",
    "        rows = [b.show(ctx=c, label=l, **kwargs) for b,c in zip(outs.itemgot(i),rows)]\n",
    "    display_df(pd.DataFrame(rows))"
   ]
  },
  {
   "cell_type": "code",
   "execution_count": 132,
   "metadata": {},
   "outputs": [
    {
     "data": {
      "text/html": [
       "<table border=\"1\" class=\"dataframe\">\n",
       "  <thead>\n",
       "    <tr style=\"text-align: right;\">\n",
       "      <th></th>\n",
       "      <th>input</th>\n",
       "      <th>target</th>\n",
       "      <th>predicted</th>\n",
       "      <th>probability</th>\n",
       "      <th>loss</th>\n",
       "    </tr>\n",
       "  </thead>\n",
       "  <tbody>\n",
       "    <tr>\n",
       "      <th>0</th>\n",
       "      <td>xxbos a man in a black shirt is pointing at something . &lt; meme &gt; maybe if we were n't xxunk sources of crime we 'd be treated better xxpad xxpad xxpad xxpad xxpad xxpad xxpad xxpad xxpad xxpad xxpad xxpad xxpad xxpad xxpad xxpad xxpad xxpad xxpad xxpad xxpad xxpad xxpad xxpad xxpad xxpad xxpad xxpad xxpad xxpad xxpad xxpad xxpad xxpad</td>\n",
       "      <td>1.0</td>\n",
       "      <td>0.0</td>\n",
       "      <td>0.9918367266654968</td>\n",
       "      <td>4.808115005493164</td>\n",
       "    </tr>\n",
       "    <tr>\n",
       "      <th>1</th>\n",
       "      <td>xxbos a man with a beard is sitting in a chair . &lt; meme &gt; thank you for allowing me into your country now we need to talk about the things that need to change around here to xxunk my beliefs xxpad xxpad xxpad xxpad xxpad xxpad xxpad xxpad xxpad xxpad xxpad xxpad xxpad xxpad xxpad xxpad xxpad xxpad xxpad xxpad xxpad xxpad</td>\n",
       "      <td>1.0</td>\n",
       "      <td>0.0</td>\n",
       "      <td>0.970379650592804</td>\n",
       "      <td>3.5192954540252686</td>\n",
       "    </tr>\n",
       "    <tr>\n",
       "      <th>2</th>\n",
       "      <td>xxbos a person with long brown hair is looking at something . &lt; meme &gt; busy , like a xxunk of bees , controlling what your family sees and xxunk all the news your hear so you 'll know what to think and fear till all the truth there is , is gone that is unless you stand , xxunk xxunk . \"</td>\n",
       "      <td>1.0</td>\n",
       "      <td>0.0</td>\n",
       "      <td>0.9444287419319153</td>\n",
       "      <td>2.890089273452759</td>\n",
       "    </tr>\n",
       "    <tr>\n",
       "      <th>3</th>\n",
       "      <td>xxbos a woman in a black and white dress is performing . &lt; meme &gt; they want to be accepted for who they are , yet xxunk able to accept themselves for who they are xxpad xxpad xxpad xxpad xxpad xxpad xxpad xxpad xxpad xxpad xxpad xxpad xxpad xxpad xxpad xxpad xxpad xxpad xxpad xxpad xxpad xxpad xxpad xxpad xxpad xxpad xxpad xxpad</td>\n",
       "      <td>1.0</td>\n",
       "      <td>0.0</td>\n",
       "      <td>0.9414770007133484</td>\n",
       "      <td>2.838334560394287</td>\n",
       "    </tr>\n",
       "    <tr>\n",
       "      <th>4</th>\n",
       "      <td>xxbos a man with no shirt on is standing next to another man with no shirt on . &lt; meme &gt; the proper way to pop a xxunk xxpad xxpad xxpad xxpad xxpad xxpad xxpad xxpad xxpad xxpad xxpad xxpad xxpad xxpad xxpad xxpad xxpad xxpad xxpad xxpad xxpad xxpad xxpad xxpad xxpad xxpad xxpad xxpad xxpad xxpad xxpad xxpad xxpad xxpad xxpad</td>\n",
       "      <td>1.0</td>\n",
       "      <td>0.0</td>\n",
       "      <td>0.9377847909927368</td>\n",
       "      <td>2.7771553993225098</td>\n",
       "    </tr>\n",
       "    <tr>\n",
       "      <th>5</th>\n",
       "      <td>xxbos a man with a red headband smiles . &lt; meme &gt; \" islam is a religion of peace stop criticizing my religion \" xxpad xxpad xxpad xxpad xxpad xxpad xxpad xxpad xxpad xxpad xxpad xxpad xxpad xxpad xxpad xxpad xxpad xxpad xxpad xxpad xxpad xxpad xxpad xxpad xxpad xxpad xxpad xxpad xxpad xxpad xxpad xxpad xxpad xxpad xxpad xxpad xxpad xxpad xxpad</td>\n",
       "      <td>0.0</td>\n",
       "      <td>1.0</td>\n",
       "      <td>0.9191662669181824</td>\n",
       "      <td>2.5153610706329346</td>\n",
       "    </tr>\n",
       "    <tr>\n",
       "      <th>6</th>\n",
       "      <td>xxbos a little boy is playing with a puppy . &lt; meme &gt; why love one but eat the other ? i do n't get it xxpad xxpad xxpad xxpad xxpad xxpad xxpad xxpad xxpad xxpad xxpad xxpad xxpad xxpad xxpad xxpad xxpad xxpad xxpad xxpad xxpad xxpad xxpad xxpad xxpad xxpad xxpad xxpad xxpad xxpad xxpad xxpad xxpad xxpad xxpad xxpad xxpad</td>\n",
       "      <td>1.0</td>\n",
       "      <td>0.0</td>\n",
       "      <td>0.9104859828948975</td>\n",
       "      <td>2.413360595703125</td>\n",
       "    </tr>\n",
       "    <tr>\n",
       "      <th>7</th>\n",
       "      <td>xxbos a man in a suit is posing . &lt; meme &gt; in the muslim world all xxexpl gay men are well hung xxpad xxpad xxpad xxpad xxpad xxpad xxpad xxpad xxpad xxpad xxpad xxpad xxpad xxpad xxpad xxpad xxpad xxpad xxpad xxpad xxpad xxpad xxpad xxpad xxpad xxpad xxpad xxpad xxpad xxpad xxpad xxpad xxpad xxpad xxpad xxpad xxpad xxpad xxpad xxpad</td>\n",
       "      <td>0.0</td>\n",
       "      <td>1.0</td>\n",
       "      <td>0.9101722240447998</td>\n",
       "      <td>2.4098613262176514</td>\n",
       "    </tr>\n",
       "    <tr>\n",
       "      <th>8</th>\n",
       "      <td>xxbos a man in a brown t - shirt is eating corn . &lt; meme &gt; xxunk at its finest xxpad xxpad xxpad xxpad xxpad xxpad xxpad xxpad xxpad xxpad xxpad xxpad xxpad xxpad xxpad xxpad xxpad xxpad xxpad xxpad xxpad xxpad xxpad xxpad xxpad xxpad xxpad xxpad xxpad xxpad xxpad xxpad xxpad xxpad xxpad xxpad xxpad xxpad xxpad xxpad xxpad xxpad xxpad</td>\n",
       "      <td>1.0</td>\n",
       "      <td>0.0</td>\n",
       "      <td>0.8836567401885986</td>\n",
       "      <td>2.151209831237793</td>\n",
       "    </tr>\n",
       "  </tbody>\n",
       "</table>"
      ],
      "text/plain": [
       "<IPython.core.display.HTML object>"
      ]
     },
     "metadata": {},
     "output_type": "display_data"
    }
   ],
   "source": [
    "interp.plot_top_losses(9, figsize=(15,11))"
   ]
  },
  {
   "cell_type": "code",
   "execution_count": 133,
   "metadata": {},
   "outputs": [
    {
     "data": {
      "text/plain": [
       "1000"
      ]
     },
     "execution_count": 133,
     "metadata": {},
     "output_type": "execute_result"
    }
   ],
   "source": [
    "len()"
   ]
  },
  {
   "cell_type": "code",
   "execution_count": 134,
   "metadata": {},
   "outputs": [],
   "source": [
    "def gen_submit(learn, fname):\n",
    "    test_df = df[df.is_valid.isnull()]\n",
    "    test_dl = learn.dls.test_dl(test_df)\n",
    "    preds = learn.get_preds(dl=test_dl)[0]\n",
    "    _, indcs = preds.max(dim=1)\n",
    "    probs= preds[:,1]\n",
    "    submit_df = pd.DataFrame()\n",
    "    submit_df['id'] = test_df['id']\n",
    "    submit_df['proba'] = probs\n",
    "    submit_df['label'] = indcs\n",
    "    submit_df = submit_df.set_index('id')\n",
    "    submit_df.to_csv(fname, header=True)"
   ]
  },
  {
   "cell_type": "code",
   "execution_count": 135,
   "metadata": {},
   "outputs": [
    {
     "data": {
      "text/html": [],
      "text/plain": [
       "<IPython.core.display.HTML object>"
      ]
     },
     "metadata": {},
     "output_type": "display_data"
    }
   ],
   "source": [
    "gen_submit(learn, 'attempts/attempt7.csv')"
   ]
  },
  {
   "cell_type": "code",
   "execution_count": 102,
   "metadata": {},
   "outputs": [
    {
     "data": {
      "text/html": [],
      "text/plain": [
       "<IPython.core.display.HTML object>"
      ]
     },
     "metadata": {},
     "output_type": "display_data"
    }
   ],
   "source": [
    "preds, labels = learn.get_preds(dl=learn.dls.valid)"
   ]
  },
  {
   "cell_type": "code",
   "execution_count": 103,
   "metadata": {},
   "outputs": [
    {
     "data": {
      "text/plain": [
       "tensor(0.6217)"
      ]
     },
     "execution_count": 103,
     "metadata": {},
     "output_type": "execute_result"
    }
   ],
   "source": [
    "accuracy(preds, labels)"
   ]
  },
  {
   "cell_type": "code",
   "execution_count": 104,
   "metadata": {},
   "outputs": [],
   "source": [
    "_, pred_lab =preds.max(dim=1)"
   ]
  },
  {
   "cell_type": "code",
   "execution_count": 105,
   "metadata": {},
   "outputs": [
    {
     "data": {
      "text/plain": [
       "tensor(0.6217)"
      ]
     },
     "execution_count": 105,
     "metadata": {},
     "output_type": "execute_result"
    }
   ],
   "source": [
    "sum(pred_lab==labels).float() / len(preds)"
   ]
  },
  {
   "cell_type": "code",
   "execution_count": 106,
   "metadata": {},
   "outputs": [
    {
     "data": {
      "text/plain": [
       "0.6616032388663966"
      ]
     },
     "execution_count": 106,
     "metadata": {},
     "output_type": "execute_result"
    }
   ],
   "source": [
    "import sklearn\n",
    "sklearn.metrics.roc_auc_score(labels, preds[:,1])"
   ]
  },
  {
   "cell_type": "code",
   "execution_count": null,
   "metadata": {},
   "outputs": [],
   "source": []
  }
 ],
 "metadata": {
  "kernelspec": {
   "display_name": "Python 3",
   "language": "python",
   "name": "python3"
  },
  "language_info": {
   "codemirror_mode": {
    "name": "ipython",
    "version": 3
   },
   "file_extension": ".py",
   "mimetype": "text/x-python",
   "name": "python",
   "nbconvert_exporter": "python",
   "pygments_lexer": "ipython3",
   "version": "3.7.6"
  }
 },
 "nbformat": 4,
 "nbformat_minor": 4
}
