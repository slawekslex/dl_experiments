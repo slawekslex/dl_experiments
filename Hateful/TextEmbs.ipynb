{
 "cells": [
  {
   "cell_type": "code",
   "execution_count": 1,
   "metadata": {},
   "outputs": [],
   "source": [
    "from fastai2.text.all import *"
   ]
  },
  {
   "cell_type": "code",
   "execution_count": 4,
   "metadata": {
    "scrolled": true
   },
   "outputs": [
    {
     "data": {
      "text/html": [
       "<div>\n",
       "<style scoped>\n",
       "    .dataframe tbody tr th:only-of-type {\n",
       "        vertical-align: middle;\n",
       "    }\n",
       "\n",
       "    .dataframe tbody tr th {\n",
       "        vertical-align: top;\n",
       "    }\n",
       "\n",
       "    .dataframe thead th {\n",
       "        text-align: right;\n",
       "    }\n",
       "</style>\n",
       "<table border=\"1\" class=\"dataframe\">\n",
       "  <thead>\n",
       "    <tr style=\"text-align: right;\">\n",
       "      <th></th>\n",
       "      <th>id</th>\n",
       "      <th>img</th>\n",
       "      <th>label</th>\n",
       "      <th>text</th>\n",
       "      <th>caption</th>\n",
       "      <th>is_valid</th>\n",
       "      <th>tex_cap</th>\n",
       "    </tr>\n",
       "  </thead>\n",
       "  <tbody>\n",
       "    <tr>\n",
       "      <th>0</th>\n",
       "      <td>42953</td>\n",
       "      <td>img/42953.png</td>\n",
       "      <td>0.0</td>\n",
       "      <td>its their character not their color that matters</td>\n",
       "      <td>A man in a black shirt is looking at the camera .</td>\n",
       "      <td>False</td>\n",
       "      <td>A man in a black shirt is looking at the camera . &lt;meme&gt; its their character not their color that matters</td>\n",
       "    </tr>\n",
       "    <tr>\n",
       "      <th>1</th>\n",
       "      <td>23058</td>\n",
       "      <td>img/23058.png</td>\n",
       "      <td>0.0</td>\n",
       "      <td>don't be afraid to love again everyone is not like your ex</td>\n",
       "      <td>A man in a suit is talking to a woman in a white shirt .</td>\n",
       "      <td>False</td>\n",
       "      <td>A man in a suit is talking to a woman in a white shirt . &lt;meme&gt; don't be afraid to love again everyone is not like your ex</td>\n",
       "    </tr>\n",
       "    <tr>\n",
       "      <th>2</th>\n",
       "      <td>13894</td>\n",
       "      <td>img/13894.png</td>\n",
       "      <td>0.0</td>\n",
       "      <td>putting bows on your pet</td>\n",
       "      <td>A cat with a red bow tied around its neck sits next to a pillow .</td>\n",
       "      <td>False</td>\n",
       "      <td>A cat with a red bow tied around its neck sits next to a pillow . &lt;meme&gt; putting bows on your pet</td>\n",
       "    </tr>\n",
       "    <tr>\n",
       "      <th>3</th>\n",
       "      <td>37408</td>\n",
       "      <td>img/37408.png</td>\n",
       "      <td>0.0</td>\n",
       "      <td>i love everything and everybody! except for squirrels i hate squirrels</td>\n",
       "      <td>A black dog is looking at the camera .</td>\n",
       "      <td>False</td>\n",
       "      <td>A black dog is looking at the camera . &lt;meme&gt; i love everything and everybody! except for squirrels i hate squirrels</td>\n",
       "    </tr>\n",
       "    <tr>\n",
       "      <th>4</th>\n",
       "      <td>82403</td>\n",
       "      <td>img/82403.png</td>\n",
       "      <td>0.0</td>\n",
       "      <td>everybody loves chocolate chip cookies, even hitler</td>\n",
       "      <td>A man in a suit is talking .</td>\n",
       "      <td>False</td>\n",
       "      <td>A man in a suit is talking . &lt;meme&gt; everybody loves chocolate chip cookies, even hitler</td>\n",
       "    </tr>\n",
       "    <tr>\n",
       "      <th>...</th>\n",
       "      <td>...</td>\n",
       "      <td>...</td>\n",
       "      <td>...</td>\n",
       "      <td>...</td>\n",
       "      <td>...</td>\n",
       "      <td>...</td>\n",
       "      <td>...</td>\n",
       "    </tr>\n",
       "    <tr>\n",
       "      <th>9995</th>\n",
       "      <td>3869</td>\n",
       "      <td>img/03869.png</td>\n",
       "      <td>NaN</td>\n",
       "      <td>a mother's love for the child is a divine thing</td>\n",
       "      <td>Three squirrels are sitting on a table .</td>\n",
       "      <td>NaN</td>\n",
       "      <td>Three squirrels are sitting on a table . &lt;meme&gt; a mother's love for the child is a divine thing</td>\n",
       "    </tr>\n",
       "    <tr>\n",
       "      <th>9996</th>\n",
       "      <td>23817</td>\n",
       "      <td>img/23817.png</td>\n",
       "      <td>NaN</td>\n",
       "      <td>sea monkeys</td>\n",
       "      <td>A dog shaking off water .</td>\n",
       "      <td>NaN</td>\n",
       "      <td>A dog shaking off water . &lt;meme&gt; sea monkeys</td>\n",
       "    </tr>\n",
       "    <tr>\n",
       "      <th>9997</th>\n",
       "      <td>56280</td>\n",
       "      <td>img/56280.png</td>\n",
       "      <td>NaN</td>\n",
       "      <td>little miss muffet sat on her tuffet</td>\n",
       "      <td>A man in a blue suit is sitting in a chair .</td>\n",
       "      <td>NaN</td>\n",
       "      <td>A man in a blue suit is sitting in a chair . &lt;meme&gt; little miss muffet sat on her tuffet</td>\n",
       "    </tr>\n",
       "    <tr>\n",
       "      <th>9998</th>\n",
       "      <td>29384</td>\n",
       "      <td>img/29384.png</td>\n",
       "      <td>NaN</td>\n",
       "      <td>they're in a row</td>\n",
       "      <td>Two green and yellow portable toilets .</td>\n",
       "      <td>NaN</td>\n",
       "      <td>Two green and yellow portable toilets . &lt;meme&gt; they're in a row</td>\n",
       "    </tr>\n",
       "    <tr>\n",
       "      <th>9999</th>\n",
       "      <td>34127</td>\n",
       "      <td>img/34127.png</td>\n",
       "      <td>NaN</td>\n",
       "      <td>that feeling when you win a fifa game after being 3 goals behind</td>\n",
       "      <td>A man is sitting on a couch with his arms raised .</td>\n",
       "      <td>NaN</td>\n",
       "      <td>A man is sitting on a couch with his arms raised . &lt;meme&gt; that feeling when you win a fifa game after being 3 goals behind</td>\n",
       "    </tr>\n",
       "  </tbody>\n",
       "</table>\n",
       "<p>10000 rows × 7 columns</p>\n",
       "</div>"
      ],
      "text/plain": [
       "         id            img  label  \\\n",
       "0     42953  img/42953.png    0.0   \n",
       "1     23058  img/23058.png    0.0   \n",
       "2     13894  img/13894.png    0.0   \n",
       "3     37408  img/37408.png    0.0   \n",
       "4     82403  img/82403.png    0.0   \n",
       "...     ...            ...    ...   \n",
       "9995   3869  img/03869.png    NaN   \n",
       "9996  23817  img/23817.png    NaN   \n",
       "9997  56280  img/56280.png    NaN   \n",
       "9998  29384  img/29384.png    NaN   \n",
       "9999  34127  img/34127.png    NaN   \n",
       "\n",
       "                                                                        text  \\\n",
       "0                           its their character not their color that matters   \n",
       "1                 don't be afraid to love again everyone is not like your ex   \n",
       "2                                                   putting bows on your pet   \n",
       "3     i love everything and everybody! except for squirrels i hate squirrels   \n",
       "4                        everybody loves chocolate chip cookies, even hitler   \n",
       "...                                                                      ...   \n",
       "9995                         a mother's love for the child is a divine thing   \n",
       "9996                                                             sea monkeys   \n",
       "9997                                    little miss muffet sat on her tuffet   \n",
       "9998                                                        they're in a row   \n",
       "9999        that feeling when you win a fifa game after being 3 goals behind   \n",
       "\n",
       "                                                                caption  \\\n",
       "0                     A man in a black shirt is looking at the camera .   \n",
       "1              A man in a suit is talking to a woman in a white shirt .   \n",
       "2     A cat with a red bow tied around its neck sits next to a pillow .   \n",
       "3                                A black dog is looking at the camera .   \n",
       "4                                          A man in a suit is talking .   \n",
       "...                                                                 ...   \n",
       "9995                           Three squirrels are sitting on a table .   \n",
       "9996                                          A dog shaking off water .   \n",
       "9997                       A man in a blue suit is sitting in a chair .   \n",
       "9998                            Two green and yellow portable toilets .   \n",
       "9999                 A man is sitting on a couch with his arms raised .   \n",
       "\n",
       "     is_valid  \\\n",
       "0       False   \n",
       "1       False   \n",
       "2       False   \n",
       "3       False   \n",
       "4       False   \n",
       "...       ...   \n",
       "9995      NaN   \n",
       "9996      NaN   \n",
       "9997      NaN   \n",
       "9998      NaN   \n",
       "9999      NaN   \n",
       "\n",
       "                                                                                                                         tex_cap  \n",
       "0                      A man in a black shirt is looking at the camera . <meme> its their character not their color that matters  \n",
       "1     A man in a suit is talking to a woman in a white shirt . <meme> don't be afraid to love again everyone is not like your ex  \n",
       "2                              A cat with a red bow tied around its neck sits next to a pillow . <meme> putting bows on your pet  \n",
       "3           A black dog is looking at the camera . <meme> i love everything and everybody! except for squirrels i hate squirrels  \n",
       "4                                        A man in a suit is talking . <meme> everybody loves chocolate chip cookies, even hitler  \n",
       "...                                                                                                                          ...  \n",
       "9995                             Three squirrels are sitting on a table . <meme> a mother's love for the child is a divine thing  \n",
       "9996                                                                                A dog shaking off water . <meme> sea monkeys  \n",
       "9997                                    A man in a blue suit is sitting in a chair . <meme> little miss muffet sat on her tuffet  \n",
       "9998                                                             Two green and yellow portable toilets . <meme> they're in a row  \n",
       "9999  A man is sitting on a couch with his arms raised . <meme> that feeling when you win a fifa game after being 3 goals behind  \n",
       "\n",
       "[10000 rows x 7 columns]"
      ]
     },
     "execution_count": 4,
     "metadata": {},
     "output_type": "execute_result"
    }
   ],
   "source": [
    "path =  Path('/home/jupyter/VLP')\n",
    "df  = pd.read_csv(path/'captioned.csv')\n",
    "df"
   ]
  },
  {
   "cell_type": "code",
   "execution_count": 27,
   "metadata": {},
   "outputs": [],
   "source": [
    "df_train_val, test_df = df[:9000], df[9000:]"
   ]
  },
  {
   "cell_type": "markdown",
   "metadata": {},
   "source": [
    "## Language Model"
   ]
  },
  {
   "cell_type": "code",
   "execution_count": 20,
   "metadata": {},
   "outputs": [
    {
     "data": {
      "text/plain": [
       "1555"
      ]
     },
     "execution_count": 20,
     "metadata": {},
     "output_type": "execute_result"
    }
   ],
   "source": [
    "bad_file = Path('bad_words.txt').read_text() #https://www.freewebheaders.com/bad-words-list-and-page-moderation-words-list-for-facebook/\n",
    "bad_words = set(bad_file.split(','))\n",
    "len(bad_words)"
   ]
  },
  {
   "cell_type": "code",
   "execution_count": 18,
   "metadata": {},
   "outputs": [],
   "source": [
    "class ExplToken(Transform):\n",
    "    def __init__(self, bad_words):\n",
    "        self.bad_words = bad_words\n",
    "    def encodes(self, tokens):\n",
    "        res =[]\n",
    "        for t in tokens:\n",
    "            if t in bad_words: \n",
    "                res.append('xxexpl')\n",
    "                #print('adding for', t)\n",
    "            res.append(t)\n",
    "        return res"
   ]
  },
  {
   "cell_type": "code",
   "execution_count": 21,
   "metadata": {},
   "outputs": [
    {
     "data": {
      "text/html": [],
      "text/plain": [
       "<IPython.core.display.HTML object>"
      ]
     },
     "metadata": {},
     "output_type": "display_data"
    }
   ],
   "source": [
    "blocks = [TextBlock.from_df('text', None, is_lm=True, seq_len=80)]\n",
    "tfms = blocks[0].type_tfms\n",
    "tfms[0].special_toks.append('xxexpl')\n",
    "blocks[0].type_tfms = tfms[:1] + [ExplToken(bad_words)] + tfms[1:]\n",
    "splitter = RandomSplitter(.1)\n",
    "dblock = DataBlock(blocks=blocks, get_x=ColReader('text'), splitter=splitter)\n",
    "dls_lm = DataLoaders.from_dblock(dblock, df, seq_len=80, bs=128)"
   ]
  },
  {
   "cell_type": "code",
   "execution_count": 22,
   "metadata": {},
   "outputs": [
    {
     "data": {
      "text/html": [
       "<table border=\"1\" class=\"dataframe\">\n",
       "  <thead>\n",
       "    <tr style=\"text-align: right;\">\n",
       "      <th></th>\n",
       "      <th>text</th>\n",
       "      <th>text_</th>\n",
       "    </tr>\n",
       "  </thead>\n",
       "  <tbody>\n",
       "    <tr>\n",
       "      <th>0</th>\n",
       "      <td>xxbos h xxrep 3 e a xxrep 4 d shoulders wheel and frame wheel and frame xxbos xxunk xxunk a xxexpl slave master xxunk a xxexpl slave whose hands and legs are xxunk xxbos when you see another black person getting their xxexpl ass whipped by the cops stop breaking the law xxbos go home xxexpl stoned eyes give nothing away xxbos there is xxunk xxunk among islamic xxunk about xxunk homosexuals should be burned or thrown off buildings xxbos</td>\n",
       "      <td>h xxrep 3 e a xxrep 4 d shoulders wheel and frame wheel and frame xxbos xxunk xxunk a xxexpl slave master xxunk a xxexpl slave whose hands and legs are xxunk xxbos when you see another black person getting their xxexpl ass whipped by the cops stop breaking the law xxbos go home xxexpl stoned eyes give nothing away xxbos there is xxunk xxunk among islamic xxunk about xxunk homosexuals should be burned or thrown off buildings xxbos brother</td>\n",
       "    </tr>\n",
       "    <tr>\n",
       "      <th>1</th>\n",
       "      <td>to feminism where everything is sexist and nobody understands but them xxbos 49 people were killed at christchurch muslim muslim 49 people were killed at christchurch mosques xxbos i tried to play uno with my mexican friends but they kept stealing all of the green cards xxbos name something females say before xxexpl sucking xxexpl dick xxbos my favorite vegetable is me ! xxbos xxunk farm equipment xxbos i told my xxexpl gay friend that i can turn fruits in</td>\n",
       "      <td>feminism where everything is sexist and nobody understands but them xxbos 49 people were killed at christchurch muslim muslim 49 people were killed at christchurch mosques xxbos i tried to play uno with my mexican friends but they kept stealing all of the green cards xxbos name something females say before xxexpl sucking xxexpl dick xxbos my favorite vegetable is me ! xxbos xxunk farm equipment xxbos i told my xxexpl gay friend that i can turn fruits in to</td>\n",
       "    </tr>\n",
       "    <tr>\n",
       "      <th>2</th>\n",
       "      <td>brains xxbos happy national women 's day just remember , if it has an apple , it has a xxunk xxbos new seatbelt design : 45 % less car accidents xxbos from here i will see muslims xxexpl fuck up europe , attack innocent people &amp; europeans waking up xxbos sharing and xxunk xxbos left the kitchen too many times xxbos master chef with low rating master chef with high rating xxbos indian xxunk finally finding the right xxunk you</td>\n",
       "      <td>xxbos happy national women 's day just remember , if it has an apple , it has a xxunk xxbos new seatbelt design : 45 % less car accidents xxbos from here i will see muslims xxexpl fuck up europe , attack innocent people &amp; europeans waking up xxbos sharing and xxunk xxbos left the kitchen too many times xxbos master chef with low rating master chef with high rating xxbos indian xxunk finally finding the right xxunk you need</td>\n",
       "    </tr>\n",
       "    <tr>\n",
       "      <th>3</th>\n",
       "      <td>they are the biggest terrorists in the history of the world . we have entire history of books showing this xxunk xxbos let 's play the game of flags xxbos say allahu akbar again … … go ahead … say it ! xxbos \" xxexpl fuck it \" - my final thought before making most xxunk xxbos xxexpl rape helping them have xxexpl sex for generations xxbos xxunk xxunk are xxunk by drug xxunk and gang members because they can</td>\n",
       "      <td>are the biggest terrorists in the history of the world . we have entire history of books showing this xxunk xxbos let 's play the game of flags xxbos say allahu akbar again … … go ahead … say it ! xxbos \" xxexpl fuck it \" - my final thought before making most xxunk xxbos xxexpl rape helping them have xxexpl sex for generations xxbos xxunk xxunk are xxunk by drug xxunk and gang members because they can easily</td>\n",
       "    </tr>\n",
       "    <tr>\n",
       "      <th>4</th>\n",
       "      <td>america xxbos playing ' guess who ' in 2018 is your character keep guessing you a man or transphobic a woman ? bigot … there are xxunk genders xxbos xxunk days under investigation , constant media slander , no collusion ! this man deserves an xxunk ! xxbos i 'm dreaming of a white christmas xxbos her : he 's probably thinking about other girls … him : how do blind people know when to stop wiping their xxexpl ass</td>\n",
       "      <td>xxbos playing ' guess who ' in 2018 is your character keep guessing you a man or transphobic a woman ? bigot … there are xxunk genders xxbos xxunk days under investigation , constant media slander , no collusion ! this man deserves an xxunk ! xxbos i 'm dreaming of a white christmas xxbos her : he 's probably thinking about other girls … him : how do blind people know when to stop wiping their xxexpl ass ?</td>\n",
       "    </tr>\n",
       "    <tr>\n",
       "      <th>5</th>\n",
       "      <td>want some ribs made from house pets ? chinese person : xxbos on my way to the xxunk show for the 8th time xxbos we are no longer a christian nation whatever we once were \" the future must not belong to those who slander the prophet of islam \" \" xxbos \" we demand our city be made a sanctuary city for illegals ! \" \" they are trying to send illegals to our sanctuary city xxrep 3 !</td>\n",
       "      <td>some ribs made from house pets ? chinese person : xxbos on my way to the xxunk show for the 8th time xxbos we are no longer a christian nation whatever we once were \" the future must not belong to those who slander the prophet of islam \" \" xxbos \" we demand our city be made a sanctuary city for illegals ! \" \" they are trying to send illegals to our sanctuary city xxrep 3 ! xxbos</td>\n",
       "    </tr>\n",
       "    <tr>\n",
       "      <th>6</th>\n",
       "      <td>so foreigners could destroy your cities so foreigners could run your civil and public services so you become a prisoner in your own homes so your people and race are lost forever xxbos where is the criminal ? xxbos if your xxunk is more than you paid in taxes you are n't getting \" your taxes \" back , you 're getting \" my taxes \" back ! xxbos when you nut in the arab girl and she has a</td>\n",
       "      <td>foreigners could destroy your cities so foreigners could run your civil and public services so you become a prisoner in your own homes so your people and race are lost forever xxbos where is the criminal ? xxbos if your xxunk is more than you paid in taxes you are n't getting \" your taxes \" back , you 're getting \" my taxes \" back ! xxbos when you nut in the arab girl and she has a normal</td>\n",
       "    </tr>\n",
       "    <tr>\n",
       "      <th>7</th>\n",
       "      <td>, but it was small , and now your purse is missing xxbos i keep hitting the escape xxunk … but i 'm still here xxbos therapy dogs are now being trained to console xxexpl rape victims of muslims xxbos what if i told you you and i should find a bed n get freak nasty xxbos never forget the holocaust xxbos what ! no i am not asian xxbos its national hebrew day go pick up a hot jewish</td>\n",
       "      <td>but it was small , and now your purse is missing xxbos i keep hitting the escape xxunk … but i 'm still here xxbos therapy dogs are now being trained to console xxexpl rape victims of muslims xxbos what if i told you you and i should find a bed n get freak nasty xxbos never forget the holocaust xxbos what ! no i am not asian xxbos its national hebrew day go pick up a hot jewish girl</td>\n",
       "    </tr>\n",
       "    <tr>\n",
       "      <th>8</th>\n",
       "      <td>a baby xxbos the xxexpl xxunk hand strong enough for man but made for teaching xxbos xxexpl fuck that xxexpl xxunk xxrep 4 ! xxbos when your ex ask you for help xxbos i 'm no bird expert but i 'm guessing it 's 4 females and 1 male xxbos i make everyone the way they are oh , you 're xxexpl gay ? i 'm going to burn you in xxexpl hell for xxunk xxbos when your dishwasher is</td>\n",
       "      <td>baby xxbos the xxexpl xxunk hand strong enough for man but made for teaching xxbos xxexpl fuck that xxexpl xxunk xxrep 4 ! xxbos when your ex ask you for help xxbos i 'm no bird expert but i 'm guessing it 's 4 females and 1 male xxbos i make everyone the way they are oh , you 're xxexpl gay ? i 'm going to burn you in xxexpl hell for xxunk xxbos when your dishwasher is broken</td>\n",
       "    </tr>\n",
       "    <tr>\n",
       "      <th>9</th>\n",
       "      <td>the leader of the xxexpl nazi 's xxbos halal … is it meat you 're looking for ? xxbos we 've been at peace with japan since 1945 time to make peace with islam xxbos there 's a 50 % chance this phone is stolen xxbos i hate women so much i 'm not even joking bro xxbos a head diaper is required when you have xxexpl shit for brains xxbos why are nt there any xxunk in africa ?</td>\n",
       "      <td>leader of the xxexpl nazi 's xxbos halal … is it meat you 're looking for ? xxbos we 've been at peace with japan since 1945 time to make peace with islam xxbos there 's a 50 % chance this phone is stolen xxbos i hate women so much i 'm not even joking bro xxbos a head diaper is required when you have xxexpl shit for brains xxbos why are nt there any xxunk in africa ? because</td>\n",
       "    </tr>\n",
       "  </tbody>\n",
       "</table>"
      ],
      "text/plain": [
       "<IPython.core.display.HTML object>"
      ]
     },
     "metadata": {},
     "output_type": "display_data"
    }
   ],
   "source": [
    "dls_lm.show_batch(max_n=10)"
   ]
  },
  {
   "cell_type": "code",
   "execution_count": 23,
   "metadata": {},
   "outputs": [
    {
     "data": {
      "text/html": [
       "<table border=\"1\" class=\"dataframe\">\n",
       "  <thead>\n",
       "    <tr style=\"text-align: left;\">\n",
       "      <th>epoch</th>\n",
       "      <th>train_loss</th>\n",
       "      <th>valid_loss</th>\n",
       "      <th>accuracy</th>\n",
       "      <th>perplexity</th>\n",
       "      <th>time</th>\n",
       "    </tr>\n",
       "  </thead>\n",
       "  <tbody>\n",
       "    <tr>\n",
       "      <td>0</td>\n",
       "      <td>6.437484</td>\n",
       "      <td>5.531651</td>\n",
       "      <td>0.137569</td>\n",
       "      <td>252.560669</td>\n",
       "      <td>00:09</td>\n",
       "    </tr>\n",
       "  </tbody>\n",
       "</table>"
      ],
      "text/plain": [
       "<IPython.core.display.HTML object>"
      ]
     },
     "metadata": {},
     "output_type": "display_data"
    },
    {
     "data": {
      "text/html": [
       "<table border=\"1\" class=\"dataframe\">\n",
       "  <thead>\n",
       "    <tr style=\"text-align: left;\">\n",
       "      <th>epoch</th>\n",
       "      <th>train_loss</th>\n",
       "      <th>valid_loss</th>\n",
       "      <th>accuracy</th>\n",
       "      <th>perplexity</th>\n",
       "      <th>time</th>\n",
       "    </tr>\n",
       "  </thead>\n",
       "  <tbody>\n",
       "    <tr>\n",
       "      <td>0</td>\n",
       "      <td>5.330438</td>\n",
       "      <td>5.057281</td>\n",
       "      <td>0.173373</td>\n",
       "      <td>157.162689</td>\n",
       "      <td>00:10</td>\n",
       "    </tr>\n",
       "    <tr>\n",
       "      <td>1</td>\n",
       "      <td>5.111370</td>\n",
       "      <td>4.754369</td>\n",
       "      <td>0.199442</td>\n",
       "      <td>116.090355</td>\n",
       "      <td>00:09</td>\n",
       "    </tr>\n",
       "    <tr>\n",
       "      <td>2</td>\n",
       "      <td>4.904170</td>\n",
       "      <td>4.477214</td>\n",
       "      <td>0.216934</td>\n",
       "      <td>87.989220</td>\n",
       "      <td>00:09</td>\n",
       "    </tr>\n",
       "    <tr>\n",
       "      <td>3</td>\n",
       "      <td>4.701416</td>\n",
       "      <td>4.310301</td>\n",
       "      <td>0.241138</td>\n",
       "      <td>74.462883</td>\n",
       "      <td>00:10</td>\n",
       "    </tr>\n",
       "    <tr>\n",
       "      <td>4</td>\n",
       "      <td>4.524222</td>\n",
       "      <td>4.210215</td>\n",
       "      <td>0.250419</td>\n",
       "      <td>67.370995</td>\n",
       "      <td>00:09</td>\n",
       "    </tr>\n",
       "    <tr>\n",
       "      <td>5</td>\n",
       "      <td>4.370862</td>\n",
       "      <td>4.143959</td>\n",
       "      <td>0.258483</td>\n",
       "      <td>63.051952</td>\n",
       "      <td>00:09</td>\n",
       "    </tr>\n",
       "    <tr>\n",
       "      <td>6</td>\n",
       "      <td>4.237361</td>\n",
       "      <td>4.100010</td>\n",
       "      <td>0.264978</td>\n",
       "      <td>60.340916</td>\n",
       "      <td>00:09</td>\n",
       "    </tr>\n",
       "    <tr>\n",
       "      <td>7</td>\n",
       "      <td>4.123493</td>\n",
       "      <td>4.078314</td>\n",
       "      <td>0.268926</td>\n",
       "      <td>59.045826</td>\n",
       "      <td>00:09</td>\n",
       "    </tr>\n",
       "    <tr>\n",
       "      <td>8</td>\n",
       "      <td>4.031217</td>\n",
       "      <td>4.068979</td>\n",
       "      <td>0.270898</td>\n",
       "      <td>58.497223</td>\n",
       "      <td>00:10</td>\n",
       "    </tr>\n",
       "    <tr>\n",
       "      <td>9</td>\n",
       "      <td>3.960330</td>\n",
       "      <td>4.067474</td>\n",
       "      <td>0.270598</td>\n",
       "      <td>58.409229</td>\n",
       "      <td>00:09</td>\n",
       "    </tr>\n",
       "  </tbody>\n",
       "</table>"
      ],
      "text/plain": [
       "<IPython.core.display.HTML object>"
      ]
     },
     "metadata": {},
     "output_type": "display_data"
    }
   ],
   "source": [
    "learn = language_model_learner(\n",
    "    dls_lm, AWD_LSTM, drop_mult=0.3, \n",
    "    metrics=[accuracy, Perplexity()])\n",
    "learn.fine_tune(10, 1e-2)"
   ]
  },
  {
   "cell_type": "code",
   "execution_count": 24,
   "metadata": {},
   "outputs": [
    {
     "data": {
      "text/html": [
       "<table border=\"1\" class=\"dataframe\">\n",
       "  <thead>\n",
       "    <tr style=\"text-align: left;\">\n",
       "      <th>epoch</th>\n",
       "      <th>train_loss</th>\n",
       "      <th>valid_loss</th>\n",
       "      <th>accuracy</th>\n",
       "      <th>perplexity</th>\n",
       "      <th>time</th>\n",
       "    </tr>\n",
       "  </thead>\n",
       "  <tbody>\n",
       "    <tr>\n",
       "      <td>0</td>\n",
       "      <td>3.748329</td>\n",
       "      <td>4.040541</td>\n",
       "      <td>0.275107</td>\n",
       "      <td>56.857079</td>\n",
       "      <td>00:09</td>\n",
       "    </tr>\n",
       "    <tr>\n",
       "      <td>1</td>\n",
       "      <td>3.704435</td>\n",
       "      <td>3.990178</td>\n",
       "      <td>0.284778</td>\n",
       "      <td>54.064529</td>\n",
       "      <td>00:09</td>\n",
       "    </tr>\n",
       "    <tr>\n",
       "      <td>2</td>\n",
       "      <td>3.648173</td>\n",
       "      <td>3.950942</td>\n",
       "      <td>0.291469</td>\n",
       "      <td>51.984314</td>\n",
       "      <td>00:09</td>\n",
       "    </tr>\n",
       "    <tr>\n",
       "      <td>3</td>\n",
       "      <td>3.584869</td>\n",
       "      <td>3.933376</td>\n",
       "      <td>0.294182</td>\n",
       "      <td>51.079121</td>\n",
       "      <td>00:09</td>\n",
       "    </tr>\n",
       "    <tr>\n",
       "      <td>4</td>\n",
       "      <td>3.537372</td>\n",
       "      <td>3.929737</td>\n",
       "      <td>0.295516</td>\n",
       "      <td>50.893608</td>\n",
       "      <td>00:09</td>\n",
       "    </tr>\n",
       "  </tbody>\n",
       "</table>"
      ],
      "text/plain": [
       "<IPython.core.display.HTML object>"
      ]
     },
     "metadata": {},
     "output_type": "display_data"
    }
   ],
   "source": [
    "learn.fit_one_cycle(5, 1e-3)"
   ]
  },
  {
   "cell_type": "code",
   "execution_count": 25,
   "metadata": {},
   "outputs": [
    {
     "data": {
      "text/html": [
       "<table border=\"1\" class=\"dataframe\">\n",
       "  <thead>\n",
       "    <tr style=\"text-align: left;\">\n",
       "      <th>epoch</th>\n",
       "      <th>train_loss</th>\n",
       "      <th>valid_loss</th>\n",
       "      <th>accuracy</th>\n",
       "      <th>perplexity</th>\n",
       "      <th>time</th>\n",
       "    </tr>\n",
       "  </thead>\n",
       "  <tbody>\n",
       "    <tr>\n",
       "      <td>0</td>\n",
       "      <td>3.421221</td>\n",
       "      <td>3.928167</td>\n",
       "      <td>0.295670</td>\n",
       "      <td>50.813755</td>\n",
       "      <td>00:09</td>\n",
       "    </tr>\n",
       "    <tr>\n",
       "      <td>1</td>\n",
       "      <td>3.418870</td>\n",
       "      <td>3.924462</td>\n",
       "      <td>0.296199</td>\n",
       "      <td>50.625813</td>\n",
       "      <td>00:09</td>\n",
       "    </tr>\n",
       "    <tr>\n",
       "      <td>2</td>\n",
       "      <td>3.413141</td>\n",
       "      <td>3.921483</td>\n",
       "      <td>0.296366</td>\n",
       "      <td>50.475224</td>\n",
       "      <td>00:09</td>\n",
       "    </tr>\n",
       "    <tr>\n",
       "      <td>3</td>\n",
       "      <td>3.406165</td>\n",
       "      <td>3.919898</td>\n",
       "      <td>0.297310</td>\n",
       "      <td>50.395283</td>\n",
       "      <td>00:09</td>\n",
       "    </tr>\n",
       "    <tr>\n",
       "      <td>4</td>\n",
       "      <td>3.403815</td>\n",
       "      <td>3.919589</td>\n",
       "      <td>0.297127</td>\n",
       "      <td>50.379711</td>\n",
       "      <td>00:09</td>\n",
       "    </tr>\n",
       "  </tbody>\n",
       "</table>"
      ],
      "text/plain": [
       "<IPython.core.display.HTML object>"
      ]
     },
     "metadata": {},
     "output_type": "display_data"
    }
   ],
   "source": [
    "learn.fit_one_cycle(5, 1e-4)"
   ]
  },
  {
   "cell_type": "code",
   "execution_count": 26,
   "metadata": {},
   "outputs": [],
   "source": [
    "learn.save_encoder('text_emb_lm')"
   ]
  },
  {
   "cell_type": "markdown",
   "metadata": {},
   "source": [
    "## Classifier"
   ]
  },
  {
   "cell_type": "code",
   "execution_count": 28,
   "metadata": {},
   "outputs": [
    {
     "data": {
      "text/html": [],
      "text/plain": [
       "<IPython.core.display.HTML object>"
      ]
     },
     "metadata": {},
     "output_type": "display_data"
    }
   ],
   "source": [
    "blocks = [TextBlock.from_df('text', vocab = dls_lm.vocab, is_lm=False, seq_len=80), CategoryBlock]\n",
    "tfms = blocks[0].type_tfms\n",
    "tfms[0].special_toks.append('xxexpl')\n",
    "blocks[0].type_tfms = tfms[:1] + [ExplToken(bad_words)] + tfms[1:]\n",
    "splitter = ColSplitter('is_valid')\n",
    "dblock = DataBlock(blocks=blocks, get_x=ColReader('text'), get_y=ColReader('label'), splitter=splitter)\n",
    "dls = DataLoaders.from_dblock(dblock, df_train_val, path='.', seq_len=80, bs=128)"
   ]
  },
  {
   "cell_type": "code",
   "execution_count": 29,
   "metadata": {},
   "outputs": [
    {
     "data": {
      "text/html": [
       "<table border=\"1\" class=\"dataframe\">\n",
       "  <thead>\n",
       "    <tr style=\"text-align: right;\">\n",
       "      <th></th>\n",
       "      <th>text</th>\n",
       "      <th>category</th>\n",
       "    </tr>\n",
       "  </thead>\n",
       "  <tbody>\n",
       "    <tr>\n",
       "      <th>0</th>\n",
       "      <td>xxbos housing , free gas , free xxunk , free healthcare and free education for my wives and children . to show xxunk for your xxunk , i 'll xxunk your 12 year old daughters , blow up your xxunk , planes and buses and xxunk hate through a xxunk xxunk in your local city and town xxunk with the purpose of turning your xxunk country into the same xxexpl shithole i xxunk took xxunk from , allahu akbar !</td>\n",
       "      <td>1.0</td>\n",
       "    </tr>\n",
       "    <tr>\n",
       "      <th>1</th>\n",
       "      <td>xxbos \" nobody is trying to take your guns ! \" \" we only want to make you xxunk them , xxunk xxunk , ban xxunk guns , xxunk magazine xxunk , xxunk xxunk them , ban or xxunk ammo , make other xxunk laws , and , if we catch you xxunk any of these made - up rules , throw you in prison … . at which point we will take your guns ! \" xxpad xxpad xxpad</td>\n",
       "      <td>0.0</td>\n",
       "    </tr>\n",
       "    <tr>\n",
       "      <th>2</th>\n",
       "      <td>xxbos i guess it 's all ok to demand that president trump release his taxes i xxunk $ 16 billion in 2018 to fix my rat xxunk xxexpl shithole district in west baltimore and i never did it .. asking me where the money xxunk to , makes you all a bunch of racists xxrep 4 ! but i guess it 's not ok to ask this guy what he did with baltimore 's money xxpad xxpad xxpad xxpad xxpad</td>\n",
       "      <td>0.0</td>\n",
       "    </tr>\n",
       "    <tr>\n",
       "      <th>3</th>\n",
       "      <td>xxbos president trump accused of xxexpl sexual assault right before the election xxunk xxunk accused xxexpl sexual harassment right before the election right before getting voted in by the senate xxunk xxunk accused of xxexpl sexual assault right before senate election in alabama brett kavanaugh accused of xxexpl sexual assault right before getting voted in by the senate still convinced that the xxunk are telling the truth ? xxunk e xxunk monday at xxunk pm xxpad xxpad xxpad xxpad xxpad</td>\n",
       "      <td>0.0</td>\n",
       "    </tr>\n",
       "    <tr>\n",
       "      <th>4</th>\n",
       "      <td>xxbos if a phobia is a fear , how can i be \" xxunk \" or transphobic \" ? who xxunk a man in a dress ? ! why would i fear a man who takes it up the xxexpl ass by another man ? xxunk , yes definitely . fear ? no way . the only fear i have is the xxunk of what society will look like if these people keep xxunk xxpad xxpad xxpad xxpad xxpad xxpad</td>\n",
       "      <td>1.0</td>\n",
       "    </tr>\n",
       "    <tr>\n",
       "      <th>5</th>\n",
       "      <td>xxbos xxunk you killed me so the jew could control your media so the jews could control your banks so the jews control you money so the jews could control your government so your children could die for israel so foreigners could destroy your cities so foreigners could run your civil and public services so you become a prisoner in your own homes so your people and race are lost forever xxpad xxpad xxpad xxpad xxpad xxpad xxpad xxpad xxpad</td>\n",
       "      <td>1.0</td>\n",
       "    </tr>\n",
       "    <tr>\n",
       "      <th>6</th>\n",
       "      <td>xxbos i had twins with my third husband , which i xxunk while married to my first husband , and xxunk while married to my second husband , who adopted them before i divorced him and married my third husband . but that was then , now i 'm married to my xxunk husband . i 'm just an xxunk who believes in the xxunk of marriage xxpad xxpad xxpad xxpad xxpad xxpad xxpad xxpad xxpad xxpad xxpad xxpad xxpad</td>\n",
       "      <td>1.0</td>\n",
       "    </tr>\n",
       "    <tr>\n",
       "      <th>7</th>\n",
       "      <td>xxbos if i can sexually harass this many women and xxexpl molest this many children as vice president , just imagine how many i could do as president ! but what am i telling you for ? you 're the first xxexpl gay president , married to the first ' first xxexpl tranny , ' and most people do n't even know it ! xxpad xxpad xxpad xxpad xxpad xxpad xxpad xxpad xxpad xxpad xxpad xxpad xxpad xxpad xxpad xxpad</td>\n",
       "      <td>1.0</td>\n",
       "    </tr>\n",
       "    <tr>\n",
       "      <th>8</th>\n",
       "      <td>xxbos why do people think it 's okay to call babies he or she ? they ca n't speak yet so they ca n't say their xxunk gender please xxunk to them as xxunk or xxunk until they can say their xxunk xxunk otherwise you 're xxunk and transphobic well , there it is the xxunk thing i 'll read today xxpad xxpad xxpad xxpad xxpad xxpad xxpad xxpad xxpad xxpad xxpad xxpad xxpad xxpad xxpad xxpad xxpad xxpad xxpad</td>\n",
       "      <td>0.0</td>\n",
       "    </tr>\n",
       "  </tbody>\n",
       "</table>"
      ],
      "text/plain": [
       "<IPython.core.display.HTML object>"
      ]
     },
     "metadata": {},
     "output_type": "display_data"
    }
   ],
   "source": [
    "dls.show_batch()"
   ]
  },
  {
   "cell_type": "code",
   "execution_count": 36,
   "metadata": {},
   "outputs": [],
   "source": [
    "learn = text_classifier_learner(dls, AWD_LSTM, drop_mult=0.95, metrics=[accuracy, RocAucBinary()])\n",
    "learn = learn.load_encoder('text_emb_lm')"
   ]
  },
  {
   "cell_type": "code",
   "execution_count": 37,
   "metadata": {},
   "outputs": [
    {
     "data": {
      "text/html": [
       "<table border=\"1\" class=\"dataframe\">\n",
       "  <thead>\n",
       "    <tr style=\"text-align: left;\">\n",
       "      <th>epoch</th>\n",
       "      <th>train_loss</th>\n",
       "      <th>valid_loss</th>\n",
       "      <th>accuracy</th>\n",
       "      <th>roc_auc_score</th>\n",
       "      <th>time</th>\n",
       "    </tr>\n",
       "  </thead>\n",
       "  <tbody>\n",
       "    <tr>\n",
       "      <td>0</td>\n",
       "      <td>0.914062</td>\n",
       "      <td>0.700204</td>\n",
       "      <td>0.550000</td>\n",
       "      <td>0.580736</td>\n",
       "      <td>00:03</td>\n",
       "    </tr>\n",
       "  </tbody>\n",
       "</table>"
      ],
      "text/plain": [
       "<IPython.core.display.HTML object>"
      ]
     },
     "metadata": {},
     "output_type": "display_data"
    },
    {
     "data": {
      "text/html": [
       "<table border=\"1\" class=\"dataframe\">\n",
       "  <thead>\n",
       "    <tr style=\"text-align: left;\">\n",
       "      <th>epoch</th>\n",
       "      <th>train_loss</th>\n",
       "      <th>valid_loss</th>\n",
       "      <th>accuracy</th>\n",
       "      <th>roc_auc_score</th>\n",
       "      <th>time</th>\n",
       "    </tr>\n",
       "  </thead>\n",
       "  <tbody>\n",
       "    <tr>\n",
       "      <td>0</td>\n",
       "      <td>0.778042</td>\n",
       "      <td>0.752308</td>\n",
       "      <td>0.538000</td>\n",
       "      <td>0.580688</td>\n",
       "      <td>00:04</td>\n",
       "    </tr>\n",
       "    <tr>\n",
       "      <td>1</td>\n",
       "      <td>0.690990</td>\n",
       "      <td>0.755896</td>\n",
       "      <td>0.540000</td>\n",
       "      <td>0.590480</td>\n",
       "      <td>00:04</td>\n",
       "    </tr>\n",
       "    <tr>\n",
       "      <td>2</td>\n",
       "      <td>0.639129</td>\n",
       "      <td>0.775662</td>\n",
       "      <td>0.546000</td>\n",
       "      <td>0.603536</td>\n",
       "      <td>00:04</td>\n",
       "    </tr>\n",
       "    <tr>\n",
       "      <td>3</td>\n",
       "      <td>0.623369</td>\n",
       "      <td>0.741682</td>\n",
       "      <td>0.550000</td>\n",
       "      <td>0.609552</td>\n",
       "      <td>00:04</td>\n",
       "    </tr>\n",
       "    <tr>\n",
       "      <td>4</td>\n",
       "      <td>0.613496</td>\n",
       "      <td>0.740376</td>\n",
       "      <td>0.548000</td>\n",
       "      <td>0.612976</td>\n",
       "      <td>00:04</td>\n",
       "    </tr>\n",
       "  </tbody>\n",
       "</table>"
      ],
      "text/plain": [
       "<IPython.core.display.HTML object>"
      ]
     },
     "metadata": {},
     "output_type": "display_data"
    }
   ],
   "source": [
    "learn.fine_tune(5, 1e-2)"
   ]
  },
  {
   "cell_type": "code",
   "execution_count": 61,
   "metadata": {},
   "outputs": [
    {
     "data": {
      "text/plain": [
       "AWD_LSTM(\n",
       "  (encoder): Embedding(3832, 400, padding_idx=1)\n",
       "  (encoder_dp): EmbeddingDropout(\n",
       "    (emb): Embedding(3832, 400, padding_idx=1)\n",
       "  )\n",
       "  (rnns): ModuleList(\n",
       "    (0): WeightDropout(\n",
       "      (module): LSTM(400, 1152, batch_first=True)\n",
       "    )\n",
       "    (1): WeightDropout(\n",
       "      (module): LSTM(1152, 1152, batch_first=True)\n",
       "    )\n",
       "    (2): WeightDropout(\n",
       "      (module): LSTM(1152, 400, batch_first=True)\n",
       "    )\n",
       "  )\n",
       "  (input_dp): RNNDropout()\n",
       "  (hidden_dps): ModuleList(\n",
       "    (0): RNNDropout()\n",
       "    (1): RNNDropout()\n",
       "    (2): RNNDropout()\n",
       "  )\n",
       ")"
      ]
     },
     "execution_count": 61,
     "metadata": {},
     "output_type": "execute_result"
    }
   ],
   "source": [
    "model = learn.model[0].module.eval()\n",
    "model"
   ]
  },
  {
   "cell_type": "code",
   "execution_count": 62,
   "metadata": {},
   "outputs": [
    {
     "data": {
      "text/plain": [
       "torch.Size([128, 80])"
      ]
     },
     "execution_count": 62,
     "metadata": {},
     "output_type": "execute_result"
    }
   ],
   "source": [
    "bx, by = dls.one_batch()\n",
    "bx.shape"
   ]
  },
  {
   "cell_type": "code",
   "execution_count": 63,
   "metadata": {},
   "outputs": [],
   "source": [
    "bout = model(bx)"
   ]
  },
  {
   "cell_type": "code",
   "execution_count": 64,
   "metadata": {},
   "outputs": [
    {
     "data": {
      "text/plain": [
       "torch.Size([128, 80, 400])"
      ]
     },
     "execution_count": 64,
     "metadata": {},
     "output_type": "execute_result"
    }
   ],
   "source": [
    "bout.shape"
   ]
  },
  {
   "cell_type": "code",
   "execution_count": 67,
   "metadata": {},
   "outputs": [
    {
     "data": {
      "text/plain": [
       "3"
      ]
     },
     "execution_count": 67,
     "metadata": {},
     "output_type": "execute_result"
    }
   ],
   "source": [
    "len(model.hidden)"
   ]
  },
  {
   "cell_type": "code",
   "execution_count": 73,
   "metadata": {},
   "outputs": [
    {
     "data": {
      "text/plain": [
       "2"
      ]
     },
     "execution_count": 73,
     "metadata": {},
     "output_type": "execute_result"
    }
   ],
   "source": []
  },
  {
   "cell_type": "code",
   "execution_count": 68,
   "metadata": {},
   "outputs": [
    {
     "ename": "AttributeError",
     "evalue": "'tuple' object has no attribute 'shape'",
     "output_type": "error",
     "traceback": [
      "\u001b[0;31m---------------------------------------------------------------------------\u001b[0m",
      "\u001b[0;31mAttributeError\u001b[0m                            Traceback (most recent call last)",
      "\u001b[0;32m<ipython-input-68-96257c8ab502>\u001b[0m in \u001b[0;36m<module>\u001b[0;34m\u001b[0m\n\u001b[0;32m----> 1\u001b[0;31m \u001b[0;34m[\u001b[0m\u001b[0mx\u001b[0m\u001b[0;34m.\u001b[0m\u001b[0mshape\u001b[0m \u001b[0;32mfor\u001b[0m \u001b[0mx\u001b[0m  \u001b[0;32min\u001b[0m \u001b[0mmodel\u001b[0m\u001b[0;34m.\u001b[0m\u001b[0mhidden\u001b[0m\u001b[0;34m]\u001b[0m\u001b[0;34m\u001b[0m\u001b[0;34m\u001b[0m\u001b[0m\n\u001b[0m",
      "\u001b[0;32m<ipython-input-68-96257c8ab502>\u001b[0m in \u001b[0;36m<listcomp>\u001b[0;34m(.0)\u001b[0m\n\u001b[0;32m----> 1\u001b[0;31m \u001b[0;34m[\u001b[0m\u001b[0mx\u001b[0m\u001b[0;34m.\u001b[0m\u001b[0mshape\u001b[0m \u001b[0;32mfor\u001b[0m \u001b[0mx\u001b[0m  \u001b[0;32min\u001b[0m \u001b[0mmodel\u001b[0m\u001b[0;34m.\u001b[0m\u001b[0mhidden\u001b[0m\u001b[0;34m]\u001b[0m\u001b[0;34m\u001b[0m\u001b[0;34m\u001b[0m\u001b[0m\n\u001b[0m",
      "\u001b[0;31mAttributeError\u001b[0m: 'tuple' object has no attribute 'shape'"
     ]
    }
   ],
   "source": [
    "[x.shape for x  in model.hidden]"
   ]
  },
  {
   "cell_type": "code",
   "execution_count": null,
   "metadata": {},
   "outputs": [],
   "source": []
  }
 ],
 "metadata": {
  "kernelspec": {
   "display_name": "Python 3",
   "language": "python",
   "name": "python3"
  },
  "language_info": {
   "codemirror_mode": {
    "name": "ipython",
    "version": 3
   },
   "file_extension": ".py",
   "mimetype": "text/x-python",
   "name": "python",
   "nbconvert_exporter": "python",
   "pygments_lexer": "ipython3",
   "version": "3.7.6"
  }
 },
 "nbformat": 4,
 "nbformat_minor": 4
}
