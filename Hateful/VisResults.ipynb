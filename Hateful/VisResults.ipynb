{
 "cells": [
  {
   "cell_type": "code",
   "execution_count": 15,
   "metadata": {},
   "outputs": [],
   "source": [
    "import pandas as pd\n",
    "from argparse import Namespace\n",
    "import matplotlib.pyplot as plt"
   ]
  },
  {
   "cell_type": "code",
   "execution_count": 29,
   "metadata": {},
   "outputs": [
    {
     "data": {
      "text/plain": [
       "str"
      ]
     },
     "execution_count": 29,
     "metadata": {},
     "output_type": "execute_result"
    }
   ],
   "source": [
    "type('abc')"
   ]
  },
  {
   "cell_type": "code",
   "execution_count": 27,
   "metadata": {},
   "outputs": [],
   "source": [
    "res =pd.read_csv('exp_results.csv')"
   ]
  },
  {
   "cell_type": "code",
   "execution_count": 28,
   "metadata": {},
   "outputs": [
    {
     "data": {
      "text/html": [
       "<div>\n",
       "<style scoped>\n",
       "    .dataframe tbody tr th:only-of-type {\n",
       "        vertical-align: middle;\n",
       "    }\n",
       "\n",
       "    .dataframe tbody tr th {\n",
       "        vertical-align: top;\n",
       "    }\n",
       "\n",
       "    .dataframe thead th {\n",
       "        text-align: right;\n",
       "    }\n",
       "</style>\n",
       "<table border=\"1\" class=\"dataframe\">\n",
       "  <thead>\n",
       "    <tr style=\"text-align: right;\">\n",
       "      <th></th>\n",
       "      <th>id</th>\n",
       "      <th>hypers</th>\n",
       "      <th>roc</th>\n",
       "      <th>acc</th>\n",
       "    </tr>\n",
       "  </thead>\n",
       "  <tbody>\n",
       "    <tr>\n",
       "      <th>65</th>\n",
       "      <td>72</td>\n",
       "      <td>Namespace(experiment_id='72', head_linear=982,...</td>\n",
       "      <td>0.732170</td>\n",
       "      <td>0.677885</td>\n",
       "    </tr>\n",
       "    <tr>\n",
       "      <th>66</th>\n",
       "      <td>73</td>\n",
       "      <td>Namespace(experiment_id='73', head_linear=479,...</td>\n",
       "      <td>0.730355</td>\n",
       "      <td>0.670192</td>\n",
       "    </tr>\n",
       "    <tr>\n",
       "      <th>67</th>\n",
       "      <td>74</td>\n",
       "      <td>Namespace(experiment_id='74', head_linear=575,...</td>\n",
       "      <td>0.726356</td>\n",
       "      <td>0.675000</td>\n",
       "    </tr>\n",
       "    <tr>\n",
       "      <th>68</th>\n",
       "      <td>75</td>\n",
       "      <td>Namespace(experiment_id='75', head_linear=417,...</td>\n",
       "      <td>0.737240</td>\n",
       "      <td>0.676923</td>\n",
       "    </tr>\n",
       "    <tr>\n",
       "      <th>69</th>\n",
       "      <td>76</td>\n",
       "      <td>Namespace(experiment_id='76', head_linear=571,...</td>\n",
       "      <td>0.715340</td>\n",
       "      <td>0.660577</td>\n",
       "    </tr>\n",
       "    <tr>\n",
       "      <th>70</th>\n",
       "      <td>77</td>\n",
       "      <td>Namespace(experiment_id='77', head_linear=469,...</td>\n",
       "      <td>0.744610</td>\n",
       "      <td>0.684615</td>\n",
       "    </tr>\n",
       "    <tr>\n",
       "      <th>71</th>\n",
       "      <td>78</td>\n",
       "      <td>Namespace(experiment_id='78', head_linear=479,...</td>\n",
       "      <td>0.749109</td>\n",
       "      <td>0.680769</td>\n",
       "    </tr>\n",
       "    <tr>\n",
       "      <th>72</th>\n",
       "      <td>79</td>\n",
       "      <td>Namespace(experiment_id='79', head_linear=520,...</td>\n",
       "      <td>0.751082</td>\n",
       "      <td>0.678846</td>\n",
       "    </tr>\n",
       "    <tr>\n",
       "      <th>73</th>\n",
       "      <td>80</td>\n",
       "      <td>Namespace(experiment_id='80', head_linear=498,...</td>\n",
       "      <td>0.738297</td>\n",
       "      <td>0.675000</td>\n",
       "    </tr>\n",
       "    <tr>\n",
       "      <th>74</th>\n",
       "      <td>81</td>\n",
       "      <td>Namespace(experiment_id='81', head_linear=514,...</td>\n",
       "      <td>0.736297</td>\n",
       "      <td>0.691346</td>\n",
       "    </tr>\n",
       "    <tr>\n",
       "      <th>75</th>\n",
       "      <td>82</td>\n",
       "      <td>Namespace(experiment_id='82', head_linear=499,...</td>\n",
       "      <td>0.742222</td>\n",
       "      <td>0.691346</td>\n",
       "    </tr>\n",
       "    <tr>\n",
       "      <th>76</th>\n",
       "      <td>83</td>\n",
       "      <td>Namespace(experiment_id='83', head_linear=453,...</td>\n",
       "      <td>0.732989</td>\n",
       "      <td>0.677885</td>\n",
       "    </tr>\n",
       "    <tr>\n",
       "      <th>77</th>\n",
       "      <td>84</td>\n",
       "      <td>Namespace(experiment_id='84', head_linear=414,...</td>\n",
       "      <td>0.730310</td>\n",
       "      <td>0.677885</td>\n",
       "    </tr>\n",
       "    <tr>\n",
       "      <th>78</th>\n",
       "      <td>85</td>\n",
       "      <td>Namespace(experiment_id='85', head_linear=555,...</td>\n",
       "      <td>0.742054</td>\n",
       "      <td>0.678846</td>\n",
       "    </tr>\n",
       "    <tr>\n",
       "      <th>79</th>\n",
       "      <td>86</td>\n",
       "      <td>Namespace(experiment_id='86', head_linear=525,...</td>\n",
       "      <td>0.735980</td>\n",
       "      <td>0.681731</td>\n",
       "    </tr>\n",
       "    <tr>\n",
       "      <th>80</th>\n",
       "      <td>87</td>\n",
       "      <td>Namespace(experiment_id='87', head_linear=482,...</td>\n",
       "      <td>0.753021</td>\n",
       "      <td>0.688462</td>\n",
       "    </tr>\n",
       "    <tr>\n",
       "      <th>81</th>\n",
       "      <td>88</td>\n",
       "      <td>Namespace(experiment_id='88', head_linear=588,...</td>\n",
       "      <td>0.739447</td>\n",
       "      <td>0.678846</td>\n",
       "    </tr>\n",
       "    <tr>\n",
       "      <th>82</th>\n",
       "      <td>89</td>\n",
       "      <td>Namespace(experiment_id='89', head_linear=505,...</td>\n",
       "      <td>0.730257</td>\n",
       "      <td>0.668269</td>\n",
       "    </tr>\n",
       "    <tr>\n",
       "      <th>83</th>\n",
       "      <td>90</td>\n",
       "      <td>Namespace(experiment_id='90', head_linear=571,...</td>\n",
       "      <td>0.731547</td>\n",
       "      <td>0.678846</td>\n",
       "    </tr>\n",
       "    <tr>\n",
       "      <th>84</th>\n",
       "      <td>91</td>\n",
       "      <td>Namespace(experiment_id='91', head_linear=502,...</td>\n",
       "      <td>0.738881</td>\n",
       "      <td>0.684615</td>\n",
       "    </tr>\n",
       "    <tr>\n",
       "      <th>85</th>\n",
       "      <td>92</td>\n",
       "      <td>Namespace(experiment_id='92', head_linear=518,...</td>\n",
       "      <td>0.732692</td>\n",
       "      <td>0.683654</td>\n",
       "    </tr>\n",
       "    <tr>\n",
       "      <th>86</th>\n",
       "      <td>93</td>\n",
       "      <td>Namespace(experiment_id='93', head_linear=434,...</td>\n",
       "      <td>0.746396</td>\n",
       "      <td>0.695192</td>\n",
       "    </tr>\n",
       "    <tr>\n",
       "      <th>87</th>\n",
       "      <td>94</td>\n",
       "      <td>Namespace(experiment_id='94', head_linear=529,...</td>\n",
       "      <td>0.738289</td>\n",
       "      <td>0.672115</td>\n",
       "    </tr>\n",
       "    <tr>\n",
       "      <th>88</th>\n",
       "      <td>95</td>\n",
       "      <td>Namespace(experiment_id='95', head_linear=549,...</td>\n",
       "      <td>0.741381</td>\n",
       "      <td>0.677885</td>\n",
       "    </tr>\n",
       "    <tr>\n",
       "      <th>89</th>\n",
       "      <td>96</td>\n",
       "      <td>Namespace(experiment_id='96', head_linear=421,...</td>\n",
       "      <td>0.754849</td>\n",
       "      <td>0.696154</td>\n",
       "    </tr>\n",
       "    <tr>\n",
       "      <th>90</th>\n",
       "      <td>97</td>\n",
       "      <td>Namespace(experiment_id='97', head_linear=596,...</td>\n",
       "      <td>0.752683</td>\n",
       "      <td>0.682692</td>\n",
       "    </tr>\n",
       "    <tr>\n",
       "      <th>91</th>\n",
       "      <td>98</td>\n",
       "      <td>Namespace(experiment_id='98', head_linear=550,...</td>\n",
       "      <td>0.746059</td>\n",
       "      <td>0.683654</td>\n",
       "    </tr>\n",
       "    <tr>\n",
       "      <th>92</th>\n",
       "      <td>99</td>\n",
       "      <td>Namespace(experiment_id='99', head_linear=513,...</td>\n",
       "      <td>0.742337</td>\n",
       "      <td>0.675000</td>\n",
       "    </tr>\n",
       "    <tr>\n",
       "      <th>93</th>\n",
       "      <td>100</td>\n",
       "      <td>Namespace(experiment_id='100', head_linear=591...</td>\n",
       "      <td>0.740715</td>\n",
       "      <td>0.670192</td>\n",
       "    </tr>\n",
       "    <tr>\n",
       "      <th>94</th>\n",
       "      <td>101</td>\n",
       "      <td>Namespace(experiment_id='101', head_linear=413...</td>\n",
       "      <td>0.735984</td>\n",
       "      <td>0.683654</td>\n",
       "    </tr>\n",
       "    <tr>\n",
       "      <th>95</th>\n",
       "      <td>102</td>\n",
       "      <td>Namespace(experiment_id='102', head_linear=519...</td>\n",
       "      <td>0.740888</td>\n",
       "      <td>0.687500</td>\n",
       "    </tr>\n",
       "    <tr>\n",
       "      <th>96</th>\n",
       "      <td>103</td>\n",
       "      <td>Namespace(experiment_id='103', head_linear=542...</td>\n",
       "      <td>0.727626</td>\n",
       "      <td>0.683654</td>\n",
       "    </tr>\n",
       "    <tr>\n",
       "      <th>97</th>\n",
       "      <td>104</td>\n",
       "      <td>Namespace(experiment_id='104', head_linear=492...</td>\n",
       "      <td>0.728467</td>\n",
       "      <td>0.675000</td>\n",
       "    </tr>\n",
       "    <tr>\n",
       "      <th>98</th>\n",
       "      <td>105</td>\n",
       "      <td>Namespace(experiment_id='105', head_linear=461...</td>\n",
       "      <td>0.726983</td>\n",
       "      <td>0.670192</td>\n",
       "    </tr>\n",
       "    <tr>\n",
       "      <th>99</th>\n",
       "      <td>106</td>\n",
       "      <td>Namespace(experiment_id='106', head_linear=510...</td>\n",
       "      <td>0.723410</td>\n",
       "      <td>0.650000</td>\n",
       "    </tr>\n",
       "    <tr>\n",
       "      <th>100</th>\n",
       "      <td>107</td>\n",
       "      <td>Namespace(experiment_id='107', head_linear=454...</td>\n",
       "      <td>0.737389</td>\n",
       "      <td>0.670192</td>\n",
       "    </tr>\n",
       "    <tr>\n",
       "      <th>101</th>\n",
       "      <td>108</td>\n",
       "      <td>Namespace(experiment_id='108', head_linear=586...</td>\n",
       "      <td>0.733453</td>\n",
       "      <td>0.673077</td>\n",
       "    </tr>\n",
       "    <tr>\n",
       "      <th>102</th>\n",
       "      <td>109</td>\n",
       "      <td>Namespace(experiment_id='109', head_linear=448...</td>\n",
       "      <td>0.735582</td>\n",
       "      <td>0.684615</td>\n",
       "    </tr>\n",
       "    <tr>\n",
       "      <th>103</th>\n",
       "      <td>110</td>\n",
       "      <td>Namespace(experiment_id='110', head_linear=591...</td>\n",
       "      <td>0.733275</td>\n",
       "      <td>0.665385</td>\n",
       "    </tr>\n",
       "    <tr>\n",
       "      <th>104</th>\n",
       "      <td>111</td>\n",
       "      <td>Namespace(experiment_id='111', head_linear=509...</td>\n",
       "      <td>0.735452</td>\n",
       "      <td>0.680769</td>\n",
       "    </tr>\n",
       "    <tr>\n",
       "      <th>105</th>\n",
       "      <td>112</td>\n",
       "      <td>Namespace(experiment_id='112', head_linear=576...</td>\n",
       "      <td>0.732770</td>\n",
       "      <td>0.684615</td>\n",
       "    </tr>\n",
       "    <tr>\n",
       "      <th>106</th>\n",
       "      <td>113</td>\n",
       "      <td>Namespace(experiment_id='113', head_linear=514...</td>\n",
       "      <td>0.733558</td>\n",
       "      <td>0.675962</td>\n",
       "    </tr>\n",
       "    <tr>\n",
       "      <th>107</th>\n",
       "      <td>114</td>\n",
       "      <td>Namespace(experiment_id='114', head_linear=451...</td>\n",
       "      <td>0.758146</td>\n",
       "      <td>0.693269</td>\n",
       "    </tr>\n",
       "    <tr>\n",
       "      <th>108</th>\n",
       "      <td>115</td>\n",
       "      <td>Namespace(experiment_id='115', head_linear=487...</td>\n",
       "      <td>0.759046</td>\n",
       "      <td>0.679808</td>\n",
       "    </tr>\n",
       "  </tbody>\n",
       "</table>\n",
       "</div>"
      ],
      "text/plain": [
       "      id                                             hypers       roc  \\\n",
       "65    72  Namespace(experiment_id='72', head_linear=982,...  0.732170   \n",
       "66    73  Namespace(experiment_id='73', head_linear=479,...  0.730355   \n",
       "67    74  Namespace(experiment_id='74', head_linear=575,...  0.726356   \n",
       "68    75  Namespace(experiment_id='75', head_linear=417,...  0.737240   \n",
       "69    76  Namespace(experiment_id='76', head_linear=571,...  0.715340   \n",
       "70    77  Namespace(experiment_id='77', head_linear=469,...  0.744610   \n",
       "71    78  Namespace(experiment_id='78', head_linear=479,...  0.749109   \n",
       "72    79  Namespace(experiment_id='79', head_linear=520,...  0.751082   \n",
       "73    80  Namespace(experiment_id='80', head_linear=498,...  0.738297   \n",
       "74    81  Namespace(experiment_id='81', head_linear=514,...  0.736297   \n",
       "75    82  Namespace(experiment_id='82', head_linear=499,...  0.742222   \n",
       "76    83  Namespace(experiment_id='83', head_linear=453,...  0.732989   \n",
       "77    84  Namespace(experiment_id='84', head_linear=414,...  0.730310   \n",
       "78    85  Namespace(experiment_id='85', head_linear=555,...  0.742054   \n",
       "79    86  Namespace(experiment_id='86', head_linear=525,...  0.735980   \n",
       "80    87  Namespace(experiment_id='87', head_linear=482,...  0.753021   \n",
       "81    88  Namespace(experiment_id='88', head_linear=588,...  0.739447   \n",
       "82    89  Namespace(experiment_id='89', head_linear=505,...  0.730257   \n",
       "83    90  Namespace(experiment_id='90', head_linear=571,...  0.731547   \n",
       "84    91  Namespace(experiment_id='91', head_linear=502,...  0.738881   \n",
       "85    92  Namespace(experiment_id='92', head_linear=518,...  0.732692   \n",
       "86    93  Namespace(experiment_id='93', head_linear=434,...  0.746396   \n",
       "87    94  Namespace(experiment_id='94', head_linear=529,...  0.738289   \n",
       "88    95  Namespace(experiment_id='95', head_linear=549,...  0.741381   \n",
       "89    96  Namespace(experiment_id='96', head_linear=421,...  0.754849   \n",
       "90    97  Namespace(experiment_id='97', head_linear=596,...  0.752683   \n",
       "91    98  Namespace(experiment_id='98', head_linear=550,...  0.746059   \n",
       "92    99  Namespace(experiment_id='99', head_linear=513,...  0.742337   \n",
       "93   100  Namespace(experiment_id='100', head_linear=591...  0.740715   \n",
       "94   101  Namespace(experiment_id='101', head_linear=413...  0.735984   \n",
       "95   102  Namespace(experiment_id='102', head_linear=519...  0.740888   \n",
       "96   103  Namespace(experiment_id='103', head_linear=542...  0.727626   \n",
       "97   104  Namespace(experiment_id='104', head_linear=492...  0.728467   \n",
       "98   105  Namespace(experiment_id='105', head_linear=461...  0.726983   \n",
       "99   106  Namespace(experiment_id='106', head_linear=510...  0.723410   \n",
       "100  107  Namespace(experiment_id='107', head_linear=454...  0.737389   \n",
       "101  108  Namespace(experiment_id='108', head_linear=586...  0.733453   \n",
       "102  109  Namespace(experiment_id='109', head_linear=448...  0.735582   \n",
       "103  110  Namespace(experiment_id='110', head_linear=591...  0.733275   \n",
       "104  111  Namespace(experiment_id='111', head_linear=509...  0.735452   \n",
       "105  112  Namespace(experiment_id='112', head_linear=576...  0.732770   \n",
       "106  113  Namespace(experiment_id='113', head_linear=514...  0.733558   \n",
       "107  114  Namespace(experiment_id='114', head_linear=451...  0.758146   \n",
       "108  115  Namespace(experiment_id='115', head_linear=487...  0.759046   \n",
       "\n",
       "          acc  \n",
       "65   0.677885  \n",
       "66   0.670192  \n",
       "67   0.675000  \n",
       "68   0.676923  \n",
       "69   0.660577  \n",
       "70   0.684615  \n",
       "71   0.680769  \n",
       "72   0.678846  \n",
       "73   0.675000  \n",
       "74   0.691346  \n",
       "75   0.691346  \n",
       "76   0.677885  \n",
       "77   0.677885  \n",
       "78   0.678846  \n",
       "79   0.681731  \n",
       "80   0.688462  \n",
       "81   0.678846  \n",
       "82   0.668269  \n",
       "83   0.678846  \n",
       "84   0.684615  \n",
       "85   0.683654  \n",
       "86   0.695192  \n",
       "87   0.672115  \n",
       "88   0.677885  \n",
       "89   0.696154  \n",
       "90   0.682692  \n",
       "91   0.683654  \n",
       "92   0.675000  \n",
       "93   0.670192  \n",
       "94   0.683654  \n",
       "95   0.687500  \n",
       "96   0.683654  \n",
       "97   0.675000  \n",
       "98   0.670192  \n",
       "99   0.650000  \n",
       "100  0.670192  \n",
       "101  0.673077  \n",
       "102  0.684615  \n",
       "103  0.665385  \n",
       "104  0.680769  \n",
       "105  0.684615  \n",
       "106  0.675962  \n",
       "107  0.693269  \n",
       "108  0.679808  "
      ]
     },
     "execution_count": 28,
     "metadata": {},
     "output_type": "execute_result"
    }
   ],
   "source": [
    "res=res[65:]\n",
    "res"
   ]
  },
  {
   "cell_type": "code",
   "execution_count": 19,
   "metadata": {},
   "outputs": [],
   "source": [
    "#vars(eval(res.iloc[62].hypers))"
   ]
  },
  {
   "cell_type": "code",
   "execution_count": 20,
   "metadata": {},
   "outputs": [],
   "source": [
    "def get_hyper(row, name):\n",
    "    hypers_namespace = eval(row.hypers)\n",
    "    return vars(hypers_namespace)[name]"
   ]
  },
  {
   "cell_type": "code",
   "execution_count": 21,
   "metadata": {},
   "outputs": [],
   "source": [
    "def plot(hyper, key='roc'):\n",
    "    hyper2roc = [(get_hyper(row, hyper), row[key]) for _,row in res.iterrows()]\n",
    "    plt.title(hyper)\n",
    "    plt.scatter(*zip(*hyper2roc))\n",
    "    plt.show()"
   ]
  },
  {
   "cell_type": "code",
   "execution_count": 22,
   "metadata": {},
   "outputs": [
    {
     "data": {
      "image/png": "[encoded data removed]",
      "text/plain": [
       "<Figure size 432x288 with 1 Axes>"
      ]
     },
     "metadata": {
      "needs_background": "light"
     },
     "output_type": "display_data"
    },
    {
     "data": {
      "image/png": "[encoded data removed]",
      "text/plain": [
       "<Figure size 432x288 with 1 Axes>"
      ]
     },
     "metadata": {
      "needs_background": "light"
     },
     "output_type": "display_data"
    },
    {
     "data": {
      "image/png": "[encoded data removed]",
      "text/plain": [
       "<Figure size 432x288 with 1 Axes>"
      ]
     },
     "metadata": {
      "needs_background": "light"
     },
     "output_type": "display_data"
    },
    {
     "data": {
      "image/png": "[encoded data removed]",
      "text/plain": [
       "<Figure size 432x288 with 1 Axes>"
      ]
     },
     "metadata": {
      "needs_background": "light"
     },
     "output_type": "display_data"
    },
    {
     "data": {
      "image/png": "[encoded data removed]",
      "text/plain": [
       "<Figure size 432x288 with 1 Axes>"
      ]
     },
     "metadata": {
      "needs_background": "light"
     },
     "output_type": "display_data"
    },
    {
     "data": {
      "image/png": "[encoded data removed]",
      "text/plain": [
       "<Figure size 432x288 with 1 Axes>"
      ]
     },
     "metadata": {
      "needs_background": "light"
     },
     "output_type": "display_data"
    },
    {
     "data": {
      "image/png": "[encoded data removed]",
      "text/plain": [
       "<Figure size 432x288 with 1 Axes>"
      ]
     },
     "metadata": {
      "needs_background": "light"
     },
     "output_type": "display_data"
    },
    {
     "data": {
      "image/png": "[encoded data removed]",
      "text/plain": [
       "<Figure size 432x288 with 1 Axes>"
      ]
     },
     "metadata": {
      "needs_background": "light"
     },
     "output_type": "display_data"
    },
    {
     "data": {
      "image/png": "[encoded data removed]",
      "text/plain": [
       "<Figure size 432x288 with 1 Axes>"
      ]
     },
     "metadata": {
      "needs_background": "light"
     },
     "output_type": "display_data"
    },
    {
     "data": {
      "image/png": "[encoded data removed]",
      "text/plain": [
       "<Figure size 432x288 with 1 Axes>"
      ]
     },
     "metadata": {
      "needs_background": "light"
     },
     "output_type": "display_data"
    },
    {
     "data": {
      "image/png": "[encoded data removed]",
      "text/plain": [
       "<Figure size 432x288 with 1 Axes>"
      ]
     },
     "metadata": {
      "needs_background": "light"
     },
     "output_type": "display_data"
    }
   ],
   "source": [
    "hypers = vars(eval(res.iloc[0].hypers)).keys()\n",
    "for hyper in hypers:\n",
    "    plot(hyper, 'roc')"
   ]
  },
  {
   "cell_type": "code",
   "execution_count": 23,
   "metadata": {},
   "outputs": [],
   "source": [
    "lr_by_mult = [(get_hyper(row, 'lr')/get_hyper(row, 'lr_mult'), row['roc']) for _,row in res.iterrows()]"
   ]
  },
  {
   "cell_type": "code",
   "execution_count": 24,
   "metadata": {},
   "outputs": [],
   "source": [
    "lr_by_mult=[(x, r) for (x,r) in lr_by_mult if r >.74]"
   ]
  },
  {
   "cell_type": "code",
   "execution_count": 25,
   "metadata": {},
   "outputs": [
    {
     "data": {
      "text/plain": [
       "<matplotlib.collections.PathCollection at 0x7f2fc747ea90>"
      ]
     },
     "execution_count": 25,
     "metadata": {},
     "output_type": "execute_result"
    },
    {
     "data": {
      "image/png": "[encoded data removed]",
      "text/plain": [
       "<Figure size 432x288 with 1 Axes>"
      ]
     },
     "metadata": {
      "needs_background": "light"
     },
     "output_type": "display_data"
    }
   ],
   "source": [
    "plt.scatter(*zip(*lr_by_mult))"
   ]
  },
  {
   "cell_type": "code",
   "execution_count": 12,
   "metadata": {},
   "outputs": [
    {
     "data": {
      "text/plain": [
       "[(4.311967448278565e-05, 0.7288386885023257),\n",
       " (3.2302944741785443e-05, 0.7401752737945683),\n",
       " (0.00016695115859095995, 0.7010329307996725),\n",
       " (3.122870725287694e-05, 0.7188093001497711),\n",
       " (1.1314052541961288e-05, 0.7324150887875324),\n",
       " (2.7403882155514044e-05, 0.7441176137714047),\n",
       " (6.965124228113801e-05, 0.7270995318235491),\n",
       " (6.30976934645507e-05, 0.7108963258900445),\n",
       " (1.2019367708944702e-05, 0.7379362510421736),\n",
       " (6.629115159944925e-05, 0.7218066103044091),\n",
       " (2.1488578438069038e-05, 0.7188941830679327),\n",
       " (0.00010373977395409105, 0.7251679738636064),\n",
       " (0.00019519655792899965, 0.7288443473635366),\n",
       " (2.0220218049357293e-05, 0.737549562192771),\n",
       " (7.106438962494957e-05, 0.7360065793693009),\n",
       " (8.86844043650858e-06, 0.7371534419080171),\n",
       " (2.330727039146438e-05, 0.7240022484541877),\n",
       " (1.126170689206679e-05, 0.7434196875554097),\n",
       " (7.367265222018488e-06, 0.7281973508984385),\n",
       " (4.97820307053062e-06, 0.7027173851534116),\n",
       " (1.8420732421865497e-05, 0.7350483455376107),\n",
       " (9.786911332726544e-06, 0.7305099388465731),\n",
       " (2.559494466840239e-05, 0.7413466580651976),\n",
       " (1.9405868455312456e-05, 0.7360744857038303),\n",
       " (2.444590777641649e-05, 0.7435668179468897),\n",
       " (1.99693726122959e-05, 0.7419446110664689),\n",
       " (1.7985560204731092e-05, 0.7550769416495959),\n",
       " (1.5972449703481968e-05, 0.7319963330579353),\n",
       " (2.5854372219443486e-05, 0.7316605739594297),\n",
       " (2.8882003706556596e-05, 0.7331318778742301),\n",
       " (2.2687720675404497e-05, 0.7497123412217859),\n",
       " (1.0226585127948774e-05, 0.7274371772091252),\n",
       " (0.00013543769617827112, 0.7075708017851821),\n",
       " (2.641850336164275e-05, 0.7382399432604849),\n",
       " (3.221009719951259e-05, 0.7329470217413447),\n",
       " (2.6365843912680178e-05, 0.7699842683658341),\n",
       " (2.4701111567109002e-05, 0.7346842921330512),\n",
       " (3.2722880326013024e-05, 0.735329402311079),\n",
       " (9.570828059021144e-05, 0.7321698714683991)]"
      ]
     },
     "execution_count": 12,
     "metadata": {},
     "output_type": "execute_result"
    }
   ],
   "source": [
    "lr_by_mult"
   ]
  },
  {
   "cell_type": "code",
   "execution_count": null,
   "metadata": {},
   "outputs": [],
   "source": []
  }
 ],
 "metadata": {
  "kernelspec": {
   "display_name": "vlp",
   "language": "python",
   "name": "vlp"
  },
  "language_info": {
   "codemirror_mode": {
    "name": "ipython",
    "version": 3
   },
   "file_extension": ".py",
   "mimetype": "text/x-python",
   "name": "python",
   "nbconvert_exporter": "python",
   "pygments_lexer": "ipython3",
   "version": "3.6.9"
  }
 },
 "nbformat": 4,
 "nbformat_minor": 4
}
