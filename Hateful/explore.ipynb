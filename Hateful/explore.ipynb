{
 "cells": [
  {
   "cell_type": "code",
   "execution_count": 1,
   "metadata": {},
   "outputs": [],
   "source": [
    "from fastai2.vision.all import *"
   ]
  },
  {
   "cell_type": "code",
   "execution_count": 2,
   "metadata": {},
   "outputs": [
    {
     "data": {
      "text/plain": [
       "(#7) [Path('/notebooks/storage/data/hate/data/img'),Path('/notebooks/storage/data/hate/data/LICENSE.txt'),Path('/notebooks/storage/data/hate/data/train_size.json'),Path('/notebooks/storage/data/hate/data/test.jsonl'),Path('/notebooks/storage/data/hate/data/train.jsonl'),Path('/notebooks/storage/data/hate/data/README.md'),Path('/notebooks/storage/data/hate/data/dev.jsonl')]"
      ]
     },
     "execution_count": 2,
     "metadata": {},
     "output_type": "execute_result"
    }
   ],
   "source": [
    "path =  Path('/notebooks/storage/data/hate/data')\n",
    "path.ls()"
   ]
  },
  {
   "cell_type": "code",
   "execution_count": 10,
   "metadata": {},
   "outputs": [
    {
     "data": {
      "text/plain": [
       "(265, 400)"
      ]
     },
     "execution_count": 10,
     "metadata": {},
     "output_type": "execute_result"
    }
   ],
   "source": [
    "def get_size(fname): return PILImage.create(path/fname).size\n",
    "get_size('img/42953.png')"
   ]
  },
  {
   "cell_type": "code",
   "execution_count": 11,
   "metadata": {},
   "outputs": [],
   "source": [
    "def load_ds(ds_type):\n",
    "    fname =path/f'{ds_type}_size.json'\n",
    "    if fname.exists(): return pd.read_json(fname)\n",
    "    data = pd.read_json(path/f'{ds_type}.jsonl', lines=True)\n",
    "    sizes = [get_size(img) for img in data.img]\n",
    "    data['width']=[s[1] for s in sizes]\n",
    "    data['height']=[s[0] for s in sizes]\n",
    "    data.to_json(fname)\n",
    "    return data"
   ]
  },
  {
   "cell_type": "code",
   "execution_count": 37,
   "metadata": {},
   "outputs": [
    {
     "data": {
      "text/plain": [
       "(8500, 500)"
      ]
     },
     "execution_count": 37,
     "metadata": {},
     "output_type": "execute_result"
    }
   ],
   "source": [
    "train_ds = load_ds('train')\n",
    "valid_ds = load_ds('dev')\n",
    "train_ds['is_valid'] = False\n",
    "valid_ds['is_valid'] = True\n",
    "len(train_ds), len(valid_ds)"
   ]
  },
  {
   "cell_type": "code",
   "execution_count": 38,
   "metadata": {},
   "outputs": [
    {
     "data": {
      "text/html": [
       "<div>\n",
       "<style scoped>\n",
       "    .dataframe tbody tr th:only-of-type {\n",
       "        vertical-align: middle;\n",
       "    }\n",
       "\n",
       "    .dataframe tbody tr th {\n",
       "        vertical-align: top;\n",
       "    }\n",
       "\n",
       "    .dataframe thead th {\n",
       "        text-align: right;\n",
       "    }\n",
       "</style>\n",
       "<table border=\"1\" class=\"dataframe\">\n",
       "  <thead>\n",
       "    <tr style=\"text-align: right;\">\n",
       "      <th></th>\n",
       "      <th>img</th>\n",
       "      <th>label</th>\n",
       "      <th>text</th>\n",
       "      <th>width</th>\n",
       "      <th>height</th>\n",
       "      <th>is_valid</th>\n",
       "    </tr>\n",
       "    <tr>\n",
       "      <th>id</th>\n",
       "      <th></th>\n",
       "      <th></th>\n",
       "      <th></th>\n",
       "      <th></th>\n",
       "      <th></th>\n",
       "      <th></th>\n",
       "    </tr>\n",
       "  </thead>\n",
       "  <tbody>\n",
       "    <tr>\n",
       "      <th>42953</th>\n",
       "      <td>img/42953.png</td>\n",
       "      <td>0</td>\n",
       "      <td>its their character not their color that matters</td>\n",
       "      <td>400</td>\n",
       "      <td>265</td>\n",
       "      <td>False</td>\n",
       "    </tr>\n",
       "    <tr>\n",
       "      <th>23058</th>\n",
       "      <td>img/23058.png</td>\n",
       "      <td>0</td>\n",
       "      <td>don't be afraid to love again everyone is not like your ex</td>\n",
       "      <td>533</td>\n",
       "      <td>800</td>\n",
       "      <td>False</td>\n",
       "    </tr>\n",
       "    <tr>\n",
       "      <th>13894</th>\n",
       "      <td>img/13894.png</td>\n",
       "      <td>0</td>\n",
       "      <td>putting bows on your pet</td>\n",
       "      <td>800</td>\n",
       "      <td>558</td>\n",
       "      <td>False</td>\n",
       "    </tr>\n",
       "    <tr>\n",
       "      <th>37408</th>\n",
       "      <td>img/37408.png</td>\n",
       "      <td>0</td>\n",
       "      <td>i love everything and everybody! except for squirrels i hate squirrels</td>\n",
       "      <td>800</td>\n",
       "      <td>693</td>\n",
       "      <td>False</td>\n",
       "    </tr>\n",
       "    <tr>\n",
       "      <th>82403</th>\n",
       "      <td>img/82403.png</td>\n",
       "      <td>0</td>\n",
       "      <td>everybody loves chocolate chip cookies, even hitler</td>\n",
       "      <td>416</td>\n",
       "      <td>550</td>\n",
       "      <td>False</td>\n",
       "    </tr>\n",
       "    <tr>\n",
       "      <th>...</th>\n",
       "      <td>...</td>\n",
       "      <td>...</td>\n",
       "      <td>...</td>\n",
       "      <td>...</td>\n",
       "      <td>...</td>\n",
       "      <td>...</td>\n",
       "    </tr>\n",
       "    <tr>\n",
       "      <th>83675</th>\n",
       "      <td>img/83675.png</td>\n",
       "      <td>0</td>\n",
       "      <td>i'm gonna be like phelps one day</td>\n",
       "      <td>366</td>\n",
       "      <td>550</td>\n",
       "      <td>True</td>\n",
       "    </tr>\n",
       "    <tr>\n",
       "      <th>37198</th>\n",
       "      <td>img/37198.png</td>\n",
       "      <td>0</td>\n",
       "      <td>when you're so relaxed you can feel yourself go to the next level</td>\n",
       "      <td>436</td>\n",
       "      <td>550</td>\n",
       "      <td>True</td>\n",
       "    </tr>\n",
       "    <tr>\n",
       "      <th>48670</th>\n",
       "      <td>img/48670.png</td>\n",
       "      <td>0</td>\n",
       "      <td>look at this sandwich maker club i found on wish on clearance</td>\n",
       "      <td>400</td>\n",
       "      <td>400</td>\n",
       "      <td>True</td>\n",
       "    </tr>\n",
       "    <tr>\n",
       "      <th>9863</th>\n",
       "      <td>img/09863.png</td>\n",
       "      <td>0</td>\n",
       "      <td>diverse group of women</td>\n",
       "      <td>549</td>\n",
       "      <td>825</td>\n",
       "      <td>True</td>\n",
       "    </tr>\n",
       "    <tr>\n",
       "      <th>97320</th>\n",
       "      <td>img/97320.png</td>\n",
       "      <td>0</td>\n",
       "      <td>\"when your dishwasher is broken so you take it back to walmart to get a new one\"</td>\n",
       "      <td>547</td>\n",
       "      <td>825</td>\n",
       "      <td>True</td>\n",
       "    </tr>\n",
       "  </tbody>\n",
       "</table>\n",
       "<p>9000 rows × 6 columns</p>\n",
       "</div>"
      ],
      "text/plain": [
       "                 img  label  \\\n",
       "id                            \n",
       "42953  img/42953.png      0   \n",
       "23058  img/23058.png      0   \n",
       "13894  img/13894.png      0   \n",
       "37408  img/37408.png      0   \n",
       "82403  img/82403.png      0   \n",
       "...              ...    ...   \n",
       "83675  img/83675.png      0   \n",
       "37198  img/37198.png      0   \n",
       "48670  img/48670.png      0   \n",
       "9863   img/09863.png      0   \n",
       "97320  img/97320.png      0   \n",
       "\n",
       "                                                                                   text  \\\n",
       "id                                                                                        \n",
       "42953                                  its their character not their color that matters   \n",
       "23058                        don't be afraid to love again everyone is not like your ex   \n",
       "13894                                                          putting bows on your pet   \n",
       "37408            i love everything and everybody! except for squirrels i hate squirrels   \n",
       "82403                               everybody loves chocolate chip cookies, even hitler   \n",
       "...                                                                                 ...   \n",
       "83675                                                  i'm gonna be like phelps one day   \n",
       "37198                 when you're so relaxed you can feel yourself go to the next level   \n",
       "48670                     look at this sandwich maker club i found on wish on clearance   \n",
       "9863                                                             diverse group of women   \n",
       "97320  \"when your dishwasher is broken so you take it back to walmart to get a new one\"   \n",
       "\n",
       "       width  height  is_valid  \n",
       "id                              \n",
       "42953    400     265     False  \n",
       "23058    533     800     False  \n",
       "13894    800     558     False  \n",
       "37408    800     693     False  \n",
       "82403    416     550     False  \n",
       "...      ...     ...       ...  \n",
       "83675    366     550      True  \n",
       "37198    436     550      True  \n",
       "48670    400     400      True  \n",
       "9863     549     825      True  \n",
       "97320    547     825      True  \n",
       "\n",
       "[9000 rows x 6 columns]"
      ]
     },
     "execution_count": 38,
     "metadata": {},
     "output_type": "execute_result"
    }
   ],
   "source": [
    "data = pd.concat([train_ds, valid_ds])\n",
    "data = data.set_index('id')\n",
    "data"
   ]
  },
  {
   "cell_type": "code",
   "execution_count": 39,
   "metadata": {
    "scrolled": true
   },
   "outputs": [],
   "source": [
    "data.to_json(path/'data.json')"
   ]
  },
  {
   "cell_type": "code",
   "execution_count": null,
   "metadata": {},
   "outputs": [],
   "source": []
  }
 ],
 "metadata": {
  "kernelspec": {
   "display_name": "Python 3",
   "language": "python",
   "name": "python3"
  },
  "language_info": {
   "codemirror_mode": {
    "name": "ipython",
    "version": 3
   },
   "file_extension": ".py",
   "mimetype": "text/x-python",
   "name": "python",
   "nbconvert_exporter": "python",
   "pygments_lexer": "ipython3",
   "version": "3.7.6"
  }
 },
 "nbformat": 4,
 "nbformat_minor": 4
}
