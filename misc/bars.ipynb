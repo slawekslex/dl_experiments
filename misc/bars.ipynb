{
 "cells": [
  {
   "cell_type": "code",
   "execution_count": 11,
   "metadata": {},
   "outputs": [
    {
     "data": {
      "text/plain": [
       "(torch.Size([200]), torch.Size([200]))"
      ]
     },
     "execution_count": 11,
     "metadata": {},
     "output_type": "execute_result"
    },
    {
     "data": {
      "image/png": "[encoded data removed]",
      "text/plain": [
       "<Figure size 432x288 with 1 Axes>"
      ]
     },
     "metadata": {
      "needs_background": "light"
     },
     "output_type": "display_data"
    }
   ],
   "source": [
    "import torch\n",
    "import matplotlib.pyplot as plt\n",
    "from fastai2.data.all import *\n",
    "from fastai2.callback.all import *\n",
    "from fastai2.learner import Learner\n",
    "from fastai2.optimizer import SGD\n",
    "\n",
    "x = torch.rand(10000) \n",
    "\n",
    "y = torch.cos(5*torch.sin(10*x))\n",
    "\n",
    "plt.scatter(x,y)\n",
    "\n",
    "db = DataBlock(get_x = lambda x:x[0], get_y=lambda x:x[1])\n",
    "\n",
    "data = torch.stack((x,y),dim=1)\n",
    "data.shape\n",
    "\n",
    "dls  =db.dataloaders(data,bs=200, device=torch.device('cpu'))\n",
    "\n",
    "bx, by = dls.one_batch()\n",
    "\n",
    "bx.shape, by.shape"
   ]
  },
  {
   "cell_type": "code",
   "execution_count": 2,
   "metadata": {},
   "outputs": [],
   "source": [
    "def gen_w(steps):\n",
    "    L = [1.]+[-1.,-1.,1.,1.] * ((steps +3) //4)\n",
    "    return torch.tensor(L[:steps]) # * steps\n",
    "\n",
    "class MyModel(torch.nn.Module):\n",
    "    def __init__(self, hidden_size):\n",
    "        super().__init__()\n",
    "        \n",
    "        self.W1 = torch.nn.Parameter(torch.ones(hidden_size))\n",
    "        self.W2 = torch.nn.Parameter(gen_w(hidden_size))\n",
    "        #self.W_scale = torch.nn.Parameter(torch.tensor([float(hidden_size)]))\n",
    "        self.B1 =  torch.nn.Parameter(-torch.linspace(0,1, hidden_size))\n",
    "        self.B2 = torch.nn.Parameter(torch.tensor([0.]))\n",
    "        '''\n",
    "        self.l1 = nn.Linear(1, hidden_size)\n",
    "        self.l2 = nn.Linear(hidden_size, 1)\n",
    "        '''\n",
    "    def forward(self, x):\n",
    "        y1 = F.relu(self.W1 * x[:,None] + self.B1)\n",
    "        #res = torch.sum(self.W_scale *self.W2 * y1, dim = 1) + self.B2\n",
    "        res = torch.sum(self.W2 * y1, dim = 1) + self.B2\n",
    "        #res = self.l2(F.relu(self.l1(x[:,None])))\n",
    "        return res.squeeze()"
   ]
  },
  {
   "cell_type": "code",
   "execution_count": 18,
   "metadata": {},
   "outputs": [],
   "source": [
    "class ShowChart(Callback):\n",
    "    \n",
    "    def __init__(self, dx, dy, figsize=(10,4)):\n",
    "        self.figsize = figsize\n",
    "        self.dx = dx\n",
    "        self.dy = dy\n",
    "    def after_validate(self):\n",
    "    #def after_batch(self):\n",
    "        self.update_graph()\n",
    "    \n",
    "    def update_graph(self):\n",
    "        if not hasattr(self, 'graph_ax'):\n",
    "            graph_fig, self.graph_ax = plt.subplots(1, figsize=self.figsize)\n",
    "            plt.close()\n",
    "            self.graph_out = display(self.graph_ax.figure, display_id=True)\n",
    "        model = self.learn.model\n",
    "        prediction = model(self.dx).detach()\n",
    "  \n",
    "\n",
    "        self.graph_ax.clear()\n",
    "        self.graph_ax.set_ylim(-1.5,1.5)\n",
    "        self.graph_ax.scatter(self.dx, self.dy, label='actual')\n",
    "        self.graph_ax.scatter(self.dx,prediction, label = 'pred')\n",
    "        self.graph_ax.legend(loc='lower left');\n",
    "        self.graph_out.update(self.graph_ax.figure)\n",
    "       "
   ]
  },
  {
   "cell_type": "code",
   "execution_count": 73,
   "metadata": {},
   "outputs": [
    {
     "data": {
      "text/plain": [
       "<matplotlib.collections.PathCollection at 0x7ffe3c0d9110>"
      ]
     },
     "execution_count": 73,
     "metadata": {},
     "output_type": "execute_result"
    },
    {
     "data": {
      "image/png": "[encoded data removed]",
      "text/plain": [
       "<Figure size 432x288 with 1 Axes>"
      ]
     },
     "metadata": {
      "needs_background": "light"
     },
     "output_type": "display_data"
    }
   ],
   "source": [
    "mm = MyModel(4)\n",
    "learn = Learner(dls,mm, loss_func=nn.MSELoss() , cbs = ShowChart(x,y))\n",
    "\n",
    "plt.scatter(x, mm(x).detach())"
   ]
  },
  {
   "cell_type": "code",
   "execution_count": 27,
   "metadata": {
    "scrolled": true
   },
   "outputs": [
    {
     "data": {
      "text/plain": [
       "<matplotlib.collections.PathCollection at 0x7febc1ed07d0>"
      ]
     },
     "execution_count": 27,
     "metadata": {},
     "output_type": "execute_result"
    },
    {
     "data": {
      "image/png": "[encoded data removed]",
      "text/plain": [
       "<Figure size 432x288 with 1 Axes>"
      ]
     },
     "metadata": {
      "needs_background": "light"
     },
     "output_type": "display_data"
    }
   ],
   "source": [
    "opt = torch.optim.SGD(mm.parameters(), lr=.1)\n",
    "\n",
    "for epoch in range(40):\n",
    "    tot_loss = 0\n",
    "    steps =0\n",
    "    for bx, by in dls.train:\n",
    "        res = mm(bx)\n",
    "        loss = F.mse_loss(res, by)\n",
    "        loss.backward()\n",
    "        opt.step()\n",
    "        opt.zero_grad()\n",
    "        tot_loss += loss\n",
    "        steps += 1\n",
    "    print(epoch, tot_loss / steps)"
   ]
  },
  {
   "cell_type": "code",
   "execution_count": 22,
   "metadata": {
    "scrolled": true
   },
   "outputs": [
    {
     "data": {
      "text/html": [
       "<table border=\"1\" class=\"dataframe\">\n",
       "  <thead>\n",
       "    <tr style=\"text-align: left;\">\n",
       "      <th>epoch</th>\n",
       "      <th>train_loss</th>\n",
       "      <th>valid_loss</th>\n",
       "      <th>time</th>\n",
       "    </tr>\n",
       "  </thead>\n",
       "  <tbody>\n",
       "    <tr>\n",
       "      <td>0</td>\n",
       "      <td>0.269278</td>\n",
       "      <td>0.247932</td>\n",
       "      <td>00:05</td>\n",
       "    </tr>\n",
       "    <tr>\n",
       "      <td>1</td>\n",
       "      <td>0.341437</td>\n",
       "      <td>0.313887</td>\n",
       "      <td>00:05</td>\n",
       "    </tr>\n",
       "    <tr>\n",
       "      <td>2</td>\n",
       "      <td>0.309068</td>\n",
       "      <td>0.306547</td>\n",
       "      <td>00:05</td>\n",
       "    </tr>\n",
       "    <tr>\n",
       "      <td>3</td>\n",
       "      <td>0.315624</td>\n",
       "      <td>0.287181</td>\n",
       "      <td>00:05</td>\n",
       "    </tr>\n",
       "    <tr>\n",
       "      <td>4</td>\n",
       "      <td>0.343980</td>\n",
       "      <td>0.282838</td>\n",
       "      <td>00:05</td>\n",
       "    </tr>\n",
       "    <tr>\n",
       "      <td>5</td>\n",
       "      <td>0.330650</td>\n",
       "      <td>0.403414</td>\n",
       "      <td>00:05</td>\n",
       "    </tr>\n",
       "    <tr>\n",
       "      <td>6</td>\n",
       "      <td>0.329571</td>\n",
       "      <td>0.429200</td>\n",
       "      <td>00:05</td>\n",
       "    </tr>\n",
       "    <tr>\n",
       "      <td>7</td>\n",
       "      <td>0.296959</td>\n",
       "      <td>0.281911</td>\n",
       "      <td>00:05</td>\n",
       "    </tr>\n",
       "    <tr>\n",
       "      <td>8</td>\n",
       "      <td>0.282350</td>\n",
       "      <td>0.283250</td>\n",
       "      <td>00:05</td>\n",
       "    </tr>\n",
       "    <tr>\n",
       "      <td>9</td>\n",
       "      <td>0.285710</td>\n",
       "      <td>0.282075</td>\n",
       "      <td>00:05</td>\n",
       "    </tr>\n",
       "  </tbody>\n",
       "</table>"
      ],
      "text/plain": [
       "<IPython.core.display.HTML object>"
      ]
     },
     "metadata": {},
     "output_type": "display_data"
    }
   ],
   "source": [
    "learn.fit_one_cycle(10, lr_max=1e-2 )"
   ]
  },
  {
   "cell_type": "code",
   "execution_count": 4,
   "metadata": {},
   "outputs": [],
   "source": [
    "def br(x, c,w, h):\n",
    "    dist = torch.abs(x-c)\n",
    "    r = 2 * ( 1 - 2 * dist / w)\n",
    "    return h * r.clamp(0, 1)\n",
    "\n"
   ]
  },
  {
   "cell_type": "code",
   "execution_count": 5,
   "metadata": {},
   "outputs": [],
   "source": [
    "class BarModule(torch.nn.Module):\n",
    "    def __init__(self, n):\n",
    "        super().__init__()\n",
    "        self.c = nn.Parameter(torch.linspace(0,1,n))\n",
    "        self.h = nn.Parameter(2*torch.rand(n)-1)\n",
    "        d = 1/(n-1)\n",
    "        self.w = nn.Parameter(4 * d / 3 * torch.ones(n))\n",
    "    def forward(self, x):\n",
    "        res = 0\n",
    "        res = br(x[:,None],self.c, self.w, self.h)\n",
    "        return torch.sum(res, dim=1) "
   ]
  },
  {
   "cell_type": "code",
   "execution_count": 45,
   "metadata": {},
   "outputs": [],
   "source": [
    "bm = BarModule(10)\n",
    "learn = Learner(dls,bm, loss_func=nn.MSELoss(), cbs = ShowChart(x,y))"
   ]
  },
  {
   "cell_type": "code",
   "execution_count": 46,
   "metadata": {
    "scrolled": true
   },
   "outputs": [
    {
     "data": {
      "image/png": "[encoded data removed]",
      "text/plain": [
       "<Figure size 432x288 with 1 Axes>"
      ]
     },
     "metadata": {
      "needs_background": "light"
     },
     "output_type": "display_data"
    }
   ],
   "source": [
    "bx = torch.linspace(0,1,1000)\n",
    "by = bm(bx).detach()\n",
    "plt.plot(bx, by)\n",
    "plt.ylim(-2,2)\n",
    "plt.show()"
   ]
  },
  {
   "cell_type": "code",
   "execution_count": 44,
   "metadata": {
    "scrolled": false
   },
   "outputs": [
    {
     "data": {
      "text/html": [],
      "text/plain": [
       "<IPython.core.display.HTML object>"
      ]
     },
     "metadata": {},
     "output_type": "display_data"
    },
    {
     "data": {
      "text/plain": [
       "SuggestedLRs(lr_min=0.003981071710586548, lr_steep=1.5848932266235352)"
      ]
     },
     "execution_count": 44,
     "metadata": {},
     "output_type": "execute_result"
    },
    {
     "data": {
      "image/png": "[encoded data removed]",
      "text/plain": [
       "<Figure size 432x288 with 1 Axes>"
      ]
     },
     "metadata": {
      "needs_background": "light"
     },
     "output_type": "display_data"
    }
   ],
   "source": [
    "learn.lr_find()"
   ]
  },
  {
   "cell_type": "code",
   "execution_count": 50,
   "metadata": {
    "scrolled": true
   },
   "outputs": [
    {
     "data": {
      "text/plain": [
       "[(tensor(0.0135, grad_fn=<SelectBackward>),\n",
       "  tensor(0.6204, grad_fn=<SelectBackward>)),\n",
       " (tensor(0.0660, grad_fn=<SelectBackward>),\n",
       "  tensor(-0.8947, grad_fn=<SelectBackward>)),\n",
       " (tensor(0.2420, grad_fn=<SelectBackward>),\n",
       "  tensor(-0.8714, grad_fn=<SelectBackward>)),\n",
       " (tensor(0.3757, grad_fn=<SelectBackward>),\n",
       "  tensor(-0.2776, grad_fn=<SelectBackward>)),\n",
       " (tensor(0.3907, grad_fn=<SelectBackward>),\n",
       "  tensor(-0.6687, grad_fn=<SelectBackward>)),\n",
       " (tensor(0.5555, grad_fn=<SelectBackward>),\n",
       "  tensor(-0.7667, grad_fn=<SelectBackward>)),\n",
       " (tensor(0.7015, grad_fn=<SelectBackward>),\n",
       "  tensor(-0.8423, grad_fn=<SelectBackward>)),\n",
       " (tensor(0.8806, grad_fn=<SelectBackward>),\n",
       "  tensor(-0.8772, grad_fn=<SelectBackward>)),\n",
       " (tensor(0.9365, grad_fn=<SelectBackward>),\n",
       "  tensor(0.5550, grad_fn=<SelectBackward>)),\n",
       " (tensor(0.9277, grad_fn=<SelectBackward>),\n",
       "  tensor(0.4255, grad_fn=<SelectBackward>))]"
      ]
     },
     "execution_count": 50,
     "metadata": {},
     "output_type": "execute_result"
    }
   ],
   "source": [
    "list(zip(bm.c,bm.h))"
   ]
  },
  {
   "cell_type": "code",
   "execution_count": 47,
   "metadata": {
    "scrolled": false
   },
   "outputs": [
    {
     "data": {
      "text/html": [
       "<table border=\"1\" class=\"dataframe\">\n",
       "  <thead>\n",
       "    <tr style=\"text-align: left;\">\n",
       "      <th>epoch</th>\n",
       "      <th>train_loss</th>\n",
       "      <th>valid_loss</th>\n",
       "      <th>time</th>\n",
       "    </tr>\n",
       "  </thead>\n",
       "  <tbody>\n",
       "    <tr>\n",
       "      <td>0</td>\n",
       "      <td>0.375218</td>\n",
       "      <td>0.272586</td>\n",
       "      <td>00:02</td>\n",
       "    </tr>\n",
       "    <tr>\n",
       "      <td>1</td>\n",
       "      <td>0.271042</td>\n",
       "      <td>0.198523</td>\n",
       "      <td>00:02</td>\n",
       "    </tr>\n",
       "    <tr>\n",
       "      <td>2</td>\n",
       "      <td>0.221402</td>\n",
       "      <td>0.174100</td>\n",
       "      <td>00:01</td>\n",
       "    </tr>\n",
       "    <tr>\n",
       "      <td>3</td>\n",
       "      <td>0.194622</td>\n",
       "      <td>0.161499</td>\n",
       "      <td>00:02</td>\n",
       "    </tr>\n",
       "    <tr>\n",
       "      <td>4</td>\n",
       "      <td>0.176683</td>\n",
       "      <td>0.152011</td>\n",
       "      <td>00:02</td>\n",
       "    </tr>\n",
       "    <tr>\n",
       "      <td>5</td>\n",
       "      <td>0.163427</td>\n",
       "      <td>0.143835</td>\n",
       "      <td>00:02</td>\n",
       "    </tr>\n",
       "    <tr>\n",
       "      <td>6</td>\n",
       "      <td>0.153655</td>\n",
       "      <td>0.136300</td>\n",
       "      <td>00:02</td>\n",
       "    </tr>\n",
       "    <tr>\n",
       "      <td>7</td>\n",
       "      <td>0.145235</td>\n",
       "      <td>0.129797</td>\n",
       "      <td>00:01</td>\n",
       "    </tr>\n",
       "    <tr>\n",
       "      <td>8</td>\n",
       "      <td>0.137458</td>\n",
       "      <td>0.124122</td>\n",
       "      <td>00:01</td>\n",
       "    </tr>\n",
       "    <tr>\n",
       "      <td>9</td>\n",
       "      <td>0.127400</td>\n",
       "      <td>0.104548</td>\n",
       "      <td>00:01</td>\n",
       "    </tr>\n",
       "    <tr>\n",
       "      <td>10</td>\n",
       "      <td>0.115748</td>\n",
       "      <td>0.100396</td>\n",
       "      <td>00:01</td>\n",
       "    </tr>\n",
       "    <tr>\n",
       "      <td>11</td>\n",
       "      <td>0.108048</td>\n",
       "      <td>0.097891</td>\n",
       "      <td>00:01</td>\n",
       "    </tr>\n",
       "    <tr>\n",
       "      <td>12</td>\n",
       "      <td>0.103351</td>\n",
       "      <td>0.095362</td>\n",
       "      <td>00:01</td>\n",
       "    </tr>\n",
       "    <tr>\n",
       "      <td>13</td>\n",
       "      <td>0.099737</td>\n",
       "      <td>0.093520</td>\n",
       "      <td>00:01</td>\n",
       "    </tr>\n",
       "    <tr>\n",
       "      <td>14</td>\n",
       "      <td>0.097542</td>\n",
       "      <td>0.091701</td>\n",
       "      <td>00:01</td>\n",
       "    </tr>\n",
       "    <tr>\n",
       "      <td>15</td>\n",
       "      <td>0.095652</td>\n",
       "      <td>0.090285</td>\n",
       "      <td>00:01</td>\n",
       "    </tr>\n",
       "    <tr>\n",
       "      <td>16</td>\n",
       "      <td>0.093971</td>\n",
       "      <td>0.088979</td>\n",
       "      <td>00:01</td>\n",
       "    </tr>\n",
       "    <tr>\n",
       "      <td>17</td>\n",
       "      <td>0.092271</td>\n",
       "      <td>0.088045</td>\n",
       "      <td>00:01</td>\n",
       "    </tr>\n",
       "    <tr>\n",
       "      <td>18</td>\n",
       "      <td>0.090965</td>\n",
       "      <td>0.087328</td>\n",
       "      <td>00:01</td>\n",
       "    </tr>\n",
       "    <tr>\n",
       "      <td>19</td>\n",
       "      <td>0.090631</td>\n",
       "      <td>0.086809</td>\n",
       "      <td>00:02</td>\n",
       "    </tr>\n",
       "  </tbody>\n",
       "</table>"
      ],
      "text/plain": [
       "<IPython.core.display.HTML object>"
      ]
     },
     "metadata": {},
     "output_type": "display_data"
    },
    {
     "data": {
      "image/png": "[encoded data removed]",
      "text/plain": [
       "<Figure size 720x288 with 1 Axes>"
      ]
     },
     "metadata": {},
     "output_type": "display_data"
    }
   ],
   "source": [
    "learn.fit(20, lr=1e-3 )"
   ]
  },
  {
   "cell_type": "code",
   "execution_count": null,
   "metadata": {},
   "outputs": [],
   "source": []
  },
  {
   "cell_type": "code",
   "execution_count": null,
   "metadata": {},
   "outputs": [],
   "source": []
  },
  {
   "cell_type": "code",
   "execution_count": null,
   "metadata": {},
   "outputs": [],
   "source": []
  },
  {
   "cell_type": "code",
   "execution_count": null,
   "metadata": {},
   "outputs": [],
   "source": []
  },
  {
   "cell_type": "code",
   "execution_count": null,
   "metadata": {},
   "outputs": [],
   "source": []
  },
  {
   "cell_type": "code",
   "execution_count": null,
   "metadata": {},
   "outputs": [],
   "source": []
  },
  {
   "cell_type": "code",
   "execution_count": null,
   "metadata": {},
   "outputs": [],
   "source": []
  },
  {
   "cell_type": "code",
   "execution_count": null,
   "metadata": {},
   "outputs": [],
   "source": []
  },
  {
   "cell_type": "code",
   "execution_count": null,
   "metadata": {},
   "outputs": [],
   "source": []
  },
  {
   "cell_type": "code",
   "execution_count": null,
   "metadata": {},
   "outputs": [],
   "source": []
  },
  {
   "cell_type": "code",
   "execution_count": null,
   "metadata": {},
   "outputs": [],
   "source": []
  },
  {
   "cell_type": "code",
   "execution_count": null,
   "metadata": {},
   "outputs": [],
   "source": []
  }
 ],
 "metadata": {
  "kernelspec": {
   "display_name": "Python 3",
   "language": "python",
   "name": "python3"
  },
  "language_info": {
   "codemirror_mode": {
    "name": "ipython",
    "version": 3
   },
   "file_extension": ".py",
   "mimetype": "text/x-python",
   "name": "python",
   "nbconvert_exporter": "python",
   "pygments_lexer": "ipython3",
   "version": "3.7.6"
  }
 },
 "nbformat": 4,
 "nbformat_minor": 4
}
