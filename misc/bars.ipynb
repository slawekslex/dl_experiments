{
 "cells": [
  {
   "cell_type": "code",
   "execution_count": 96,
   "metadata": {},
   "outputs": [
    {
     "data": {
      "text/plain": [
       "(torch.Size([20]), torch.Size([20]))"
      ]
     },
     "execution_count": 96,
     "metadata": {},
     "output_type": "execute_result"
    },
    {
     "data": {
      "image/png": "[encoded data removed]",
      "text/plain": [
       "<Figure size 432x288 with 1 Axes>"
      ]
     },
     "metadata": {
      "needs_background": "light"
     },
     "output_type": "display_data"
    }
   ],
   "source": [
    "import torch\n",
    "import matplotlib.pyplot as plt\n",
    "from fastai2.data.all import *\n",
    "from fastai2.callback.all import *\n",
    "from fastai2.learner import Learner\n",
    "from fastai2.optimizer import SGD\n",
    "\n",
    "x = torch.rand(10000) \n",
    "\n",
    "y = torch.cos(5*torch.sin(10*x))\n",
    "\n",
    "\n",
    "plt.scatter(x,y)\n",
    "\n",
    "db = DataBlock(get_x = lambda x:x[0], get_y=lambda x:x[1])\n",
    "\n",
    "data = torch.stack((x,y),dim=1)\n",
    "data.shape\n",
    "\n",
    "dls  =db.dataloaders(data,bs=20)\n",
    "\n",
    "bx, by = dls.one_batch()\n",
    "\n",
    "bx.shape, by.shape"
   ]
  },
  {
   "cell_type": "code",
   "execution_count": 16,
   "metadata": {},
   "outputs": [],
   "source": [
    "def gen_w(steps):\n",
    "    L = [1.]+[-1.,-1.,1.,1.] * ((steps +3) //4)\n",
    "    return torch.tensor(L[:steps]) # * steps\n",
    "\n",
    "class MyModel(torch.nn.Module):\n",
    "    def __init__(self, hidden_size):\n",
    "        super().__init__()\n",
    "        \n",
    "        self.W1 = torch.nn.Parameter(torch.ones(hidden_size))\n",
    "        self.W2 = torch.nn.Parameter(gen_w(hidden_size))\n",
    "        #self.W_scale = torch.nn.Parameter(torch.tensor([float(hidden_size)]))\n",
    "        self.B1 =  torch.nn.Parameter(-torch.linspace(0,1, hidden_size))\n",
    "        self.B2 = torch.nn.Parameter(torch.tensor([0.]))\n",
    "        '''\n",
    "        self.l1 = nn.Linear(1, hidden_size)\n",
    "        self.l2 = nn.Linear(hidden_size, 1)\n",
    "        '''\n",
    "    def forward(self, x):\n",
    "        y1 = F.relu(self.W1 * x[:,None] + self.B1)\n",
    "        #res = torch.sum(self.W_scale *self.W2 * y1, dim = 1) + self.B2\n",
    "        res = torch.sum(self.W2 * y1, dim = 1) + self.B2\n",
    "        #res = self.l2(F.relu(self.l1(x[:,None])))\n",
    "        return res.squeeze()"
   ]
  },
  {
   "cell_type": "code",
   "execution_count": 17,
   "metadata": {},
   "outputs": [],
   "source": [
    "class ShowChart(Callback):\n",
    "    \n",
    "    def __init__(self, dx, dy, figsize=(10,4)):\n",
    "        self.figsize = figsize\n",
    "        self.dx = dx\n",
    "        self.dy = dy\n",
    "    def after_validate(self):\n",
    "        self.update_graph()\n",
    "    \n",
    "    def update_graph(self):\n",
    "        if not hasattr(self, 'graph_ax'):\n",
    "            graph_fig, self.graph_ax = plt.subplots(1, figsize=self.figsize)\n",
    "            plt.close()\n",
    "            self.graph_out = display(self.graph_ax.figure, display_id=True)\n",
    "        model = self.learn.model\n",
    "        prediction = model(self.dx.cuda()).cpu().detach()\n",
    "  \n",
    "\n",
    "        self.graph_ax.clear()\n",
    "        self.graph_ax.set_ylim(-1.5,1.5)\n",
    "        self.graph_ax.scatter(self.dx, self.dy, label='actual')\n",
    "        self.graph_ax.scatter(self.dx,prediction, label = 'pred')\n",
    "        self.graph_ax.legend(loc='lower left');\n",
    "        self.graph_out.update(self.graph_ax.figure)\n",
    "       "
   ]
  },
  {
   "cell_type": "code",
   "execution_count": 26,
   "metadata": {},
   "outputs": [],
   "source": [
    "mm = MyModel(4)\n",
    "learn = Learner(dls,mm, loss_func=nn.MSELoss() , cbs = ShowChart(x,y))"
   ]
  },
  {
   "cell_type": "code",
   "execution_count": 27,
   "metadata": {
    "scrolled": false
   },
   "outputs": [
    {
     "data": {
      "text/plain": [
       "<matplotlib.collections.PathCollection at 0x7febc1ed07d0>"
      ]
     },
     "execution_count": 27,
     "metadata": {},
     "output_type": "execute_result"
    },
    {
     "data": {
      "image/png": "[encoded data removed]",
      "text/plain": [
       "<Figure size 432x288 with 1 Axes>"
      ]
     },
     "metadata": {
      "needs_background": "light"
     },
     "output_type": "display_data"
    }
   ],
   "source": [
    "plt.scatter(x, mm(x.cuda()).detach().cpu())"
   ]
  },
  {
   "cell_type": "code",
   "execution_count": 32,
   "metadata": {},
   "outputs": [
    {
     "name": "stdout",
     "output_type": "stream",
     "text": [
      "0 tensor(0.2846, device='cuda:0', grad_fn=<DivBackward0>)\n",
      "1 tensor(0.2837, device='cuda:0', grad_fn=<DivBackward0>)\n",
      "2 tensor(0.2828, device='cuda:0', grad_fn=<DivBackward0>)\n",
      "3 tensor(0.2819, device='cuda:0', grad_fn=<DivBackward0>)\n",
      "4 tensor(0.2810, device='cuda:0', grad_fn=<DivBackward0>)\n",
      "5 tensor(0.2800, device='cuda:0', grad_fn=<DivBackward0>)\n",
      "6 tensor(0.2791, device='cuda:0', grad_fn=<DivBackward0>)\n",
      "7 tensor(0.2780, device='cuda:0', grad_fn=<DivBackward0>)\n",
      "8 tensor(0.2770, device='cuda:0', grad_fn=<DivBackward0>)\n",
      "9 tensor(0.2761, device='cuda:0', grad_fn=<DivBackward0>)\n",
      "10 tensor(0.2751, device='cuda:0', grad_fn=<DivBackward0>)\n",
      "11 tensor(0.2738, device='cuda:0', grad_fn=<DivBackward0>)\n",
      "12 tensor(0.2728, device='cuda:0', grad_fn=<DivBackward0>)\n",
      "13 tensor(0.2717, device='cuda:0', grad_fn=<DivBackward0>)\n",
      "14 tensor(0.2708, device='cuda:0', grad_fn=<DivBackward0>)\n",
      "15 tensor(0.2696, device='cuda:0', grad_fn=<DivBackward0>)\n",
      "16 tensor(0.2686, device='cuda:0', grad_fn=<DivBackward0>)\n",
      "17 tensor(0.2675, device='cuda:0', grad_fn=<DivBackward0>)\n",
      "18 tensor(0.2665, device='cuda:0', grad_fn=<DivBackward0>)\n",
      "19 tensor(0.2655, device='cuda:0', grad_fn=<DivBackward0>)\n",
      "20 tensor(0.2644, device='cuda:0', grad_fn=<DivBackward0>)\n",
      "21 tensor(0.2632, device='cuda:0', grad_fn=<DivBackward0>)\n",
      "22 tensor(0.2622, device='cuda:0', grad_fn=<DivBackward0>)\n",
      "23 tensor(0.2611, device='cuda:0', grad_fn=<DivBackward0>)\n",
      "24 tensor(0.2599, device='cuda:0', grad_fn=<DivBackward0>)\n",
      "25 tensor(0.2587, device='cuda:0', grad_fn=<DivBackward0>)\n",
      "26 tensor(0.2577, device='cuda:0', grad_fn=<DivBackward0>)\n",
      "27 tensor(0.2563, device='cuda:0', grad_fn=<DivBackward0>)\n",
      "28 tensor(0.2551, device='cuda:0', grad_fn=<DivBackward0>)\n",
      "29 tensor(0.2539, device='cuda:0', grad_fn=<DivBackward0>)\n",
      "30 tensor(0.2526, device='cuda:0', grad_fn=<DivBackward0>)\n",
      "31 tensor(0.2513, device='cuda:0', grad_fn=<DivBackward0>)\n",
      "32 tensor(0.2501, device='cuda:0', grad_fn=<DivBackward0>)\n",
      "33 tensor(0.2487, device='cuda:0', grad_fn=<DivBackward0>)\n",
      "34 tensor(0.2473, device='cuda:0', grad_fn=<DivBackward0>)\n",
      "35 tensor(0.2459, device='cuda:0', grad_fn=<DivBackward0>)\n",
      "36 tensor(0.2445, device='cuda:0', grad_fn=<DivBackward0>)\n",
      "37 tensor(0.2431, device='cuda:0', grad_fn=<DivBackward0>)\n",
      "38 tensor(0.2415, device='cuda:0', grad_fn=<DivBackward0>)\n",
      "39 tensor(0.2401, device='cuda:0', grad_fn=<DivBackward0>)\n"
     ]
    }
   ],
   "source": [
    "opt = torch.optim.SGD(mm.parameters(), lr=.1)\n",
    "\n",
    "for epoch in range(40):\n",
    "    tot_loss = 0\n",
    "    steps =0\n",
    "    for bx, by in dls.train:\n",
    "        res = mm(bx)\n",
    "        loss = F.mse_loss(res, by)\n",
    "        loss.backward()\n",
    "        opt.step()\n",
    "        opt.zero_grad()\n",
    "        tot_loss += loss\n",
    "        steps += 1\n",
    "    print(epoch, tot_loss / steps)\n"
   ]
  },
  {
   "cell_type": "code",
   "execution_count": 22,
   "metadata": {
    "scrolled": true
   },
   "outputs": [
    {
     "data": {
      "text/html": [
       "<table border=\"1\" class=\"dataframe\">\n",
       "  <thead>\n",
       "    <tr style=\"text-align: left;\">\n",
       "      <th>epoch</th>\n",
       "      <th>train_loss</th>\n",
       "      <th>valid_loss</th>\n",
       "      <th>time</th>\n",
       "    </tr>\n",
       "  </thead>\n",
       "  <tbody>\n",
       "    <tr>\n",
       "      <td>0</td>\n",
       "      <td>0.269278</td>\n",
       "      <td>0.247932</td>\n",
       "      <td>00:05</td>\n",
       "    </tr>\n",
       "    <tr>\n",
       "      <td>1</td>\n",
       "      <td>0.341437</td>\n",
       "      <td>0.313887</td>\n",
       "      <td>00:05</td>\n",
       "    </tr>\n",
       "    <tr>\n",
       "      <td>2</td>\n",
       "      <td>0.309068</td>\n",
       "      <td>0.306547</td>\n",
       "      <td>00:05</td>\n",
       "    </tr>\n",
       "    <tr>\n",
       "      <td>3</td>\n",
       "      <td>0.315624</td>\n",
       "      <td>0.287181</td>\n",
       "      <td>00:05</td>\n",
       "    </tr>\n",
       "    <tr>\n",
       "      <td>4</td>\n",
       "      <td>0.343980</td>\n",
       "      <td>0.282838</td>\n",
       "      <td>00:05</td>\n",
       "    </tr>\n",
       "    <tr>\n",
       "      <td>5</td>\n",
       "      <td>0.330650</td>\n",
       "      <td>0.403414</td>\n",
       "      <td>00:05</td>\n",
       "    </tr>\n",
       "    <tr>\n",
       "      <td>6</td>\n",
       "      <td>0.329571</td>\n",
       "      <td>0.429200</td>\n",
       "      <td>00:05</td>\n",
       "    </tr>\n",
       "    <tr>\n",
       "      <td>7</td>\n",
       "      <td>0.296959</td>\n",
       "      <td>0.281911</td>\n",
       "      <td>00:05</td>\n",
       "    </tr>\n",
       "    <tr>\n",
       "      <td>8</td>\n",
       "      <td>0.282350</td>\n",
       "      <td>0.283250</td>\n",
       "      <td>00:05</td>\n",
       "    </tr>\n",
       "    <tr>\n",
       "      <td>9</td>\n",
       "      <td>0.285710</td>\n",
       "      <td>0.282075</td>\n",
       "      <td>00:05</td>\n",
       "    </tr>\n",
       "  </tbody>\n",
       "</table>"
      ],
      "text/plain": [
       "<IPython.core.display.HTML object>"
      ]
     },
     "metadata": {},
     "output_type": "display_data"
    }
   ],
   "source": [
    "learn.fit_one_cycle(10, lr_max=1e-2 )"
   ]
  },
  {
   "cell_type": "code",
   "execution_count": 92,
   "metadata": {},
   "outputs": [
    {
     "data": {
      "text/plain": [
       "[<matplotlib.lines.Line2D at 0x7fb877126690>]"
      ]
     },
     "execution_count": 92,
     "metadata": {},
     "output_type": "execute_result"
    },
    {
     "data": {
      "image/png": "[encoded data removed]",
      "text/plain": [
       "<Figure size 432x288 with 1 Axes>"
      ]
     },
     "metadata": {
      "needs_background": "light"
     },
     "output_type": "display_data"
    }
   ],
   "source": [
    "w = torch.linspace(0,1,10)\n",
    "h = torch.rand(10)\n",
    "plt.plot(w,h)"
   ]
  },
  {
   "cell_type": "code",
   "execution_count": 94,
   "metadata": {},
   "outputs": [],
   "source": [
    "def val(x, w,h):\n",
    "    res = 0\n",
    "    for i in range(len(w)-1):\n",
    "        if x >= w[i] and x <=w[i+1]:\n",
    "            p = (x - w[i]) / (w[i+1] - w[i])\n",
    "            res += h[i] + p * (h[i+1]-h[i])\n",
    "    return res    "
   ]
  },
  {
   "cell_type": "code",
   "execution_count": 104,
   "metadata": {},
   "outputs": [],
   "source": [
    "\n"
   ]
  },
  {
   "cell_type": "code",
   "execution_count": 105,
   "metadata": {},
   "outputs": [
    {
     "data": {
      "text/plain": [
       "<matplotlib.collections.PathCollection at 0x7fb89c2e68d0>"
      ]
     },
     "execution_count": 105,
     "metadata": {},
     "output_type": "execute_result"
    },
    {
     "data": {
      "image/png": "[encoded data removed]",
      "text/plain": [
       "<Figure size 432x288 with 1 Axes>"
      ]
     },
     "metadata": {
      "needs_background": "light"
     },
     "output_type": "display_data"
    }
   ],
   "source": [
    "plt.scatter(x,rx)"
   ]
  },
  {
   "cell_type": "code",
   "execution_count": 86,
   "metadata": {},
   "outputs": [],
   "source": [
    "class BarModule(torch.nn.Module):\n",
    "    def __init__(self, n):\n",
    "        super().__init__()\n",
    "        self.c = nn.Parameter(torch.linspace(0,1,n))\n",
    "        self.h = nn.Parameter(torch.ones(n))\n",
    "        self.w = nn.Parameter(torch.ones(n))\n",
    "    def forward(self, x):\n",
    "        res = 0\n",
    "        for i in range(len(self.c)):\n",
    "            res += br(x,self.c[i],self.w[i],self.h[i])\n",
    "        return res   "
   ]
  },
  {
   "cell_type": "code",
   "execution_count": 110,
   "metadata": {},
   "outputs": [
    {
     "data": {
      "text/plain": [
       "[<matplotlib.lines.Line2D at 0x7febc0e066d0>]"
      ]
     },
     "execution_count": 110,
     "metadata": {},
     "output_type": "execute_result"
    },
    {
     "data": {
      "image/png": "[encoded data removed]",
      "text/plain": [
       "<Figure size 432x288 with 1 Axes>"
      ]
     },
     "metadata": {
      "needs_background": "light"
     },
     "output_type": "display_data"
    }
   ],
   "source": [
    "bm = BarModule(15)\n",
    "bx = torch.linspace(0,1,1000)\n",
    "plt.plot(bx, bm(bx).detach())"
   ]
  },
  {
   "cell_type": "code",
   "execution_count": 152,
   "metadata": {},
   "outputs": [
    {
     "name": "stdout",
     "output_type": "stream",
     "text": [
      "tensor([0.0000, 0.1111, 0.2222, 0.3333, 0.4444, 0.5556, 0.6667, 0.7778, 0.8889,\n",
      "        1.0000])\n",
      "0.14814814814814814\n"
     ]
    },
    {
     "data": {
      "text/plain": [
       "tensor(1.0000)"
      ]
     },
     "execution_count": 152,
     "metadata": {},
     "output_type": "execute_result"
    }
   ],
   "source": [
    "def br(x, c,w, h):\n",
    "    dist = torch.abs(x-c)\n",
    "    r = 2 * h * ( 1 - 2 * dist / w)\n",
    "    return r.clamp(0,h)\n",
    "\n",
    "def baricade(x,n,h):\n",
    "    c = torch.linspace(0,1,n)\n",
    "    d = 1/(n-1)\n",
    "    w = 4 * d / 3\n",
    "    res =0\n",
    "    print(c)\n",
    "    print(w)\n",
    "    for i in range(n):\n",
    "        res += br(x, c[i], w, h)\n",
    "    return res\n",
    "\n",
    "#bx = torch.linspace(0,1,1000)\n",
    "#by = torch.tensor([baricade(x,10,1) for x in bx])\n",
    "#plt.plot(bx, by)\n",
    "baricade(.5, 10, 1)"
   ]
  },
  {
   "cell_type": "code",
   "execution_count": 150,
   "metadata": {
    "scrolled": true
   },
   "outputs": [
    {
     "data": {
      "text/plain": [
       "0.1111111111111111"
      ]
     },
     "execution_count": 150,
     "metadata": {},
     "output_type": "execute_result"
    }
   ],
   "source": [
    "baricade(0,10, 1)"
   ]
  },
  {
   "cell_type": "code",
   "execution_count": 157,
   "metadata": {},
   "outputs": [
    {
     "data": {
      "text/plain": [
       "[<matplotlib.lines.Line2D at 0x7febbe814990>]"
      ]
     },
     "execution_count": 157,
     "metadata": {},
     "output_type": "execute_result"
    },
    {
     "data": {
      "image/png": "[encoded data removed]",
      "text/plain": [
       "<Figure size 432x288 with 1 Axes>"
      ]
     },
     "metadata": {
      "needs_background": "light"
     },
     "output_type": "display_data"
    }
   ],
   "source": [
    "bx = torch.linspace(0,1,1000)\n",
    "by = torch.tensor([br(x, 0.222,.148,1)+br(x, 0.333,.148,1)+br(x, 0.444,.148,1) for x in bx])\n",
    "plt.plot(bx, by)"
   ]
  },
  {
   "cell_type": "code",
   "execution_count": 98,
   "metadata": {},
   "outputs": [],
   "source": [
    "learn = Learner(dls,bm, loss_func=nn.MSELoss() , cbs = ShowChart(x,y))"
   ]
  },
  {
   "cell_type": "code",
   "execution_count": 99,
   "metadata": {},
   "outputs": [
    {
     "data": {
      "text/html": [],
      "text/plain": [
       "<IPython.core.display.HTML object>"
      ]
     },
     "metadata": {},
     "output_type": "display_data"
    },
    {
     "data": {
      "text/plain": [
       "SuggestedLRs(lr_min=0.33113112449646, lr_steep=0.2089296132326126)"
      ]
     },
     "execution_count": 99,
     "metadata": {},
     "output_type": "execute_result"
    },
    {
     "data": {
      "image/png": "[encoded data removed]",
      "text/plain": [
       "<Figure size 432x288 with 1 Axes>"
      ]
     },
     "metadata": {
      "needs_background": "light"
     },
     "output_type": "display_data"
    }
   ],
   "source": [
    "learn.lr_find()"
   ]
  },
  {
   "cell_type": "code",
   "execution_count": 100,
   "metadata": {},
   "outputs": [
    {
     "data": {
      "text/html": [
       "<table border=\"1\" class=\"dataframe\">\n",
       "  <thead>\n",
       "    <tr style=\"text-align: left;\">\n",
       "      <th>epoch</th>\n",
       "      <th>train_loss</th>\n",
       "      <th>valid_loss</th>\n",
       "      <th>time</th>\n",
       "    </tr>\n",
       "  </thead>\n",
       "  <tbody>\n",
       "    <tr>\n",
       "      <td>0</td>\n",
       "      <td>0.287942</td>\n",
       "      <td>0.214786</td>\n",
       "      <td>00:13</td>\n",
       "    </tr>\n",
       "    <tr>\n",
       "      <td>1</td>\n",
       "      <td>0.346232</td>\n",
       "      <td>0.330993</td>\n",
       "      <td>00:13</td>\n",
       "    </tr>\n",
       "    <tr>\n",
       "      <td>2</td>\n",
       "      <td>0.366515</td>\n",
       "      <td>0.428267</td>\n",
       "      <td>00:13</td>\n",
       "    </tr>\n",
       "    <tr>\n",
       "      <td>3</td>\n",
       "      <td>0.353158</td>\n",
       "      <td>0.352677</td>\n",
       "      <td>00:13</td>\n",
       "    </tr>\n",
       "    <tr>\n",
       "      <td>4</td>\n",
       "      <td>0.367564</td>\n",
       "      <td>0.367453</td>\n",
       "      <td>00:13</td>\n",
       "    </tr>\n",
       "    <tr>\n",
       "      <td>5</td>\n",
       "      <td>0.367931</td>\n",
       "      <td>0.348932</td>\n",
       "      <td>00:13</td>\n",
       "    </tr>\n",
       "    <tr>\n",
       "      <td>6</td>\n",
       "      <td>0.329144</td>\n",
       "      <td>0.364519</td>\n",
       "      <td>00:13</td>\n",
       "    </tr>\n",
       "    <tr>\n",
       "      <td>7</td>\n",
       "      <td>0.308287</td>\n",
       "      <td>0.322960</td>\n",
       "      <td>00:13</td>\n",
       "    </tr>\n",
       "    <tr>\n",
       "      <td>8</td>\n",
       "      <td>0.292809</td>\n",
       "      <td>0.297230</td>\n",
       "      <td>00:13</td>\n",
       "    </tr>\n",
       "    <tr>\n",
       "      <td>9</td>\n",
       "      <td>0.301275</td>\n",
       "      <td>0.294062</td>\n",
       "      <td>00:13</td>\n",
       "    </tr>\n",
       "  </tbody>\n",
       "</table>"
      ],
      "text/plain": [
       "<IPython.core.display.HTML object>"
      ]
     },
     "metadata": {},
     "output_type": "display_data"
    },
    {
     "data": {
      "image/png": "[encoded data removed]",
      "text/plain": [
       "<Figure size 720x288 with 1 Axes>"
      ]
     },
     "metadata": {},
     "output_type": "display_data"
    }
   ],
   "source": [
    "learn.fit_one_cycle(10, lr_max=1e-1 )"
   ]
  },
  {
   "cell_type": "code",
   "execution_count": null,
   "metadata": {},
   "outputs": [],
   "source": []
  }
 ],
 "metadata": {
  "kernelspec": {
   "display_name": "Python 3",
   "language": "python",
   "name": "python3"
  },
  "language_info": {
   "codemirror_mode": {
    "name": "ipython",
    "version": 3
   },
   "file_extension": ".py",
   "mimetype": "text/x-python",
   "name": "python",
   "nbconvert_exporter": "python",
   "pygments_lexer": "ipython3",
   "version": "3.7.6"
  }
 },
 "nbformat": 4,
 "nbformat_minor": 4
}
