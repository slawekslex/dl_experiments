{
 "cells": [
  {
   "cell_type": "code",
   "execution_count": 2,
   "metadata": {},
   "outputs": [
    {
     "name": "stderr",
     "output_type": "stream",
     "text": [
      "/home/paperspace/anaconda3/envs/fastai/lib/python3.6/site-packages/sklearn/ensemble/weight_boosting.py:29: DeprecationWarning: numpy.core.umath_tests is an internal NumPy module and should not be imported. It will be removed in a future NumPy release.\n",
      "  from numpy.core.umath_tests import inner1d\n"
     ]
    }
   ],
   "source": [
    "from fastai.imports import *\n",
    "from fastai.torch_imports import *\n",
    "from fastai.transforms import *\n",
    "from fastai.conv_learner import *\n",
    "from fastai.model import *\n",
    "from fastai.dataset import *\n",
    "from fastai.sgdr import *\n",
    "from fastai.plots import *\n",
    "import pydicom\n",
    "from pathlib import Path"
   ]
  },
  {
   "cell_type": "code",
   "execution_count": 3,
   "metadata": {},
   "outputs": [
    {
     "data": {
      "text/plain": [
       "[PosixPath('/home/paperspace/data/pneumonia/sub_mean.csv'),\n",
       " PosixPath('/home/paperspace/data/pneumonia/image_bbox_full.csv'),\n",
       " PosixPath('/home/paperspace/data/pneumonia/test.png'),\n",
       " PosixPath('/home/paperspace/data/pneumonia/train_png512'),\n",
       " PosixPath('/home/paperspace/data/pneumonia/test'),\n",
       " PosixPath('/home/paperspace/data/pneumonia/stage_1_detailed_class_info.csv'),\n",
       " PosixPath('/home/paperspace/data/pneumonia/stage_1_detailed_class_info.csv.zip'),\n",
       " PosixPath('/home/paperspace/data/pneumonia/stage_1_train_labels.csv.zip'),\n",
       " PosixPath('/home/paperspace/data/pneumonia/bbox_mapl.pkl'),\n",
       " PosixPath('/home/paperspace/data/pneumonia/stage_1_test_images.zip'),\n",
       " PosixPath('/home/paperspace/data/pneumonia/models'),\n",
       " PosixPath('/home/paperspace/data/pneumonia/test_png128'),\n",
       " PosixPath('/home/paperspace/data/pneumonia/train'),\n",
       " PosixPath('/home/paperspace/data/pneumonia/train_png128'),\n",
       " PosixPath('/home/paperspace/data/pneumonia/tmp'),\n",
       " PosixPath('/home/paperspace/data/pneumonia/stage_1_train_images.zip'),\n",
       " PosixPath('/home/paperspace/data/pneumonia/file2target.csv'),\n",
       " PosixPath('/home/paperspace/data/pneumonia/subm1024.csv'),\n",
       " PosixPath('/home/paperspace/data/pneumonia/stage_1_sample_submission.csv'),\n",
       " PosixPath('/home/paperspace/data/pneumonia/stage_1_train_labels.csv')]"
      ]
     },
     "execution_count": 3,
     "metadata": {},
     "output_type": "execute_result"
    }
   ],
   "source": [
    "PATH = Path('/home/paperspace/data/pneumonia/')\n",
    "list(PATH.iterdir())"
   ]
  },
  {
   "cell_type": "code",
   "execution_count": 5,
   "metadata": {
    "scrolled": true
   },
   "outputs": [
    {
     "name": "stdout",
     "output_type": "stream",
     "text": [
      "28989 boxes loaded\n",
      "25684 patient cases\n"
     ]
    },
    {
     "data": {
      "text/html": [
       "<div>\n",
       "<style scoped>\n",
       "    .dataframe tbody tr th:only-of-type {\n",
       "        vertical-align: middle;\n",
       "    }\n",
       "\n",
       "    .dataframe tbody tr th {\n",
       "        vertical-align: top;\n",
       "    }\n",
       "\n",
       "    .dataframe thead th {\n",
       "        text-align: right;\n",
       "    }\n",
       "</style>\n",
       "<table border=\"1\" class=\"dataframe\">\n",
       "  <thead>\n",
       "    <tr style=\"text-align: right;\">\n",
       "      <th></th>\n",
       "      <th>patientId</th>\n",
       "      <th>x</th>\n",
       "      <th>y</th>\n",
       "      <th>width</th>\n",
       "      <th>height</th>\n",
       "      <th>Target</th>\n",
       "      <th>class</th>\n",
       "      <th>boxes</th>\n",
       "      <th>path</th>\n",
       "      <th>PatientAge</th>\n",
       "      <th>BodyPartExamined</th>\n",
       "      <th>ViewPosition</th>\n",
       "      <th>PatientSex</th>\n",
       "    </tr>\n",
       "  </thead>\n",
       "  <tbody>\n",
       "    <tr>\n",
       "      <th>13549</th>\n",
       "      <td>880a1959-2f94-4572-8ed9-041d0d85e2dc</td>\n",
       "      <td>599.0</td>\n",
       "      <td>452.0</td>\n",
       "      <td>214.0</td>\n",
       "      <td>287.0</td>\n",
       "      <td>1</td>\n",
       "      <td>Lung Opacity</td>\n",
       "      <td>1</td>\n",
       "      <td>/home/paperspace/data/pneumonia/train/880a1959...</td>\n",
       "      <td>73</td>\n",
       "      <td>CHEST</td>\n",
       "      <td>AP</td>\n",
       "      <td>F</td>\n",
       "    </tr>\n",
       "    <tr>\n",
       "      <th>23432</th>\n",
       "      <td>d2e58976-fb07-41f3-b7c5-bd9418c6e15a</td>\n",
       "      <td>NaN</td>\n",
       "      <td>NaN</td>\n",
       "      <td>NaN</td>\n",
       "      <td>NaN</td>\n",
       "      <td>0</td>\n",
       "      <td>No Lung Opacity / Not Normal</td>\n",
       "      <td>1</td>\n",
       "      <td>/home/paperspace/data/pneumonia/train/d2e58976...</td>\n",
       "      <td>37</td>\n",
       "      <td>CHEST</td>\n",
       "      <td>AP</td>\n",
       "      <td>F</td>\n",
       "    </tr>\n",
       "    <tr>\n",
       "      <th>3042</th>\n",
       "      <td>35b7784f-f4e5-453c-9d6b-e6c1eff5c7be</td>\n",
       "      <td>NaN</td>\n",
       "      <td>NaN</td>\n",
       "      <td>NaN</td>\n",
       "      <td>NaN</td>\n",
       "      <td>0</td>\n",
       "      <td>No Lung Opacity / Not Normal</td>\n",
       "      <td>1</td>\n",
       "      <td>/home/paperspace/data/pneumonia/train/35b7784f...</td>\n",
       "      <td>43</td>\n",
       "      <td>CHEST</td>\n",
       "      <td>PA</td>\n",
       "      <td>F</td>\n",
       "    </tr>\n",
       "  </tbody>\n",
       "</table>\n",
       "</div>"
      ],
      "text/plain": [
       "                                  patientId      x      y  width  height  \\\n",
       "13549  880a1959-2f94-4572-8ed9-041d0d85e2dc  599.0  452.0  214.0   287.0   \n",
       "23432  d2e58976-fb07-41f3-b7c5-bd9418c6e15a    NaN    NaN    NaN     NaN   \n",
       "3042   35b7784f-f4e5-453c-9d6b-e6c1eff5c7be    NaN    NaN    NaN     NaN   \n",
       "\n",
       "       Target                         class  boxes  \\\n",
       "13549       1                  Lung Opacity      1   \n",
       "23432       0  No Lung Opacity / Not Normal      1   \n",
       "3042        0  No Lung Opacity / Not Normal      1   \n",
       "\n",
       "                                                    path  PatientAge  \\\n",
       "13549  /home/paperspace/data/pneumonia/train/880a1959...          73   \n",
       "23432  /home/paperspace/data/pneumonia/train/d2e58976...          37   \n",
       "3042   /home/paperspace/data/pneumonia/train/35b7784f...          43   \n",
       "\n",
       "      BodyPartExamined ViewPosition PatientSex  \n",
       "13549            CHEST           AP          F  \n",
       "23432            CHEST           AP          F  \n",
       "3042             CHEST           PA          F  "
      ]
     },
     "execution_count": 5,
     "metadata": {},
     "output_type": "execute_result"
    }
   ],
   "source": [
    "bbox_path = PATH/'image_bbox_full.csv'\n",
    "bbox_df = pd.read_csv(bbox_path)\n",
    "print(bbox_df.shape[0], 'boxes loaded')\n",
    "print(bbox_df['patientId'].value_counts().shape[0], 'patient cases')\n",
    "bbox_df.sample(3)"
   ]
  },
  {
   "cell_type": "code",
   "execution_count": 6,
   "metadata": {},
   "outputs": [
    {
     "data": {
      "text/plain": [
       "5659"
      ]
     },
     "execution_count": 6,
     "metadata": {},
     "output_type": "execute_result"
    }
   ],
   "source": [
    "pneu = bbox_df[bbox_df.Target==1]\n",
    "len(pneu['patientId'].unique())"
   ]
  },
  {
   "cell_type": "code",
   "execution_count": null,
   "metadata": {},
   "outputs": [],
   "source": []
  },
  {
   "cell_type": "code",
   "execution_count": null,
   "metadata": {},
   "outputs": [],
   "source": []
  },
  {
   "cell_type": "code",
   "execution_count": 7,
   "metadata": {},
   "outputs": [],
   "source": [
    "grouped = bbox_df.groupby('patientId')\n",
    "target_list=[(patient, group.iloc[0].path, group.iloc[0].Target) for patient, group in grouped]"
   ]
  },
  {
   "cell_type": "code",
   "execution_count": 8,
   "metadata": {},
   "outputs": [
    {
     "data": {
      "text/plain": [
       "[('0004cfab-14fd-4e49-80ba-63a80b6bddd6',\n",
       "  '/home/paperspace/data/pneumonia/train/0004cfab-14fd-4e49-80ba-63a80b6bddd6.dcm',\n",
       "  0),\n",
       " ('00313ee0-9eaa-42f4-b0ab-c148ed3241cd',\n",
       "  '/home/paperspace/data/pneumonia/train/00313ee0-9eaa-42f4-b0ab-c148ed3241cd.dcm',\n",
       "  0),\n",
       " ('00322d4d-1c29-4943-afc9-b6754be640eb',\n",
       "  '/home/paperspace/data/pneumonia/train/00322d4d-1c29-4943-afc9-b6754be640eb.dcm',\n",
       "  0),\n",
       " ('003d8fa0-6bf1-40ed-b54c-ac657f8495c5',\n",
       "  '/home/paperspace/data/pneumonia/train/003d8fa0-6bf1-40ed-b54c-ac657f8495c5.dcm',\n",
       "  0),\n",
       " ('00436515-870c-4b36-a041-de91049b9ab4',\n",
       "  '/home/paperspace/data/pneumonia/train/00436515-870c-4b36-a041-de91049b9ab4.dcm',\n",
       "  1)]"
      ]
     },
     "execution_count": 8,
     "metadata": {},
     "output_type": "execute_result"
    }
   ],
   "source": [
    "target_list[:5]"
   ]
  },
  {
   "cell_type": "code",
   "execution_count": 18,
   "metadata": {},
   "outputs": [],
   "source": [
    "dir = PATH/'train_png512'\n",
    "for file in dir.iterdir():\n",
    "    new_name =file.name[len('train_png'):]\n",
    "    file.rename(dir/new_name)\n"
   ]
  },
  {
   "cell_type": "code",
   "execution_count": null,
   "metadata": {},
   "outputs": [
    {
     "name": "stdout",
     "output_type": "stream",
     "text": [
      "Saved  500\n",
      "Saved  1000\n",
      "Saved  1500\n",
      "Saved  2000\n",
      "Saved  2500\n",
      "Saved  3000\n",
      "Saved  3500\n",
      "Saved  4000\n",
      "Saved  4500\n",
      "Saved  5000\n",
      "Saved  5500\n",
      "Saved  6000\n",
      "Saved  6500\n",
      "Saved  7000\n",
      "Saved  7500\n",
      "Saved  8000\n",
      "Saved  8500\n",
      "Saved  9000\n",
      "Saved  9500\n",
      "Saved  10000\n",
      "Saved  10500\n",
      "Saved  11000\n",
      "Saved  11500\n",
      "Saved  12000\n",
      "Saved  12500\n",
      "Saved  13000\n",
      "Saved  13500\n",
      "Saved  14000\n",
      "Saved  14500\n",
      "Saved  15000\n",
      "Saved  15500\n",
      "Saved  16000\n",
      "Saved  16500\n",
      "Saved  17000\n",
      "Saved  17500\n",
      "Saved  18000\n",
      "Saved  18500\n",
      "Saved  19000\n",
      "Saved  19500\n",
      "Saved  20000\n",
      "Saved  20500\n",
      "Saved  21000\n",
      "Saved  21500\n",
      "Saved  22000\n",
      "Saved  22500\n",
      "Saved  23000\n",
      "Saved  23500\n",
      "Saved  24000\n"
     ]
    }
   ],
   "source": [
    "def generate_pngs(target_list, size):\n",
    "    dir = PATH/f'train_png{size}/'\n",
    "    printed = 0\n",
    "    for id, path, target in target_list:\n",
    "        dicom = pydicom.read_file(path)\n",
    "        data = dicom.pixel_array\n",
    "        img = Image.fromarray(data)\n",
    "        img = img.resize((size,size), Image.ANTIALIAS)\n",
    "        img.save(f'{dir}/{id}.png')\n",
    "        printed += 1\n",
    "        if printed % 500 == 0:\n",
    "            print('Saved ', printed)\n",
    "generate_pngs(target_list,512)"
   ]
  },
  {
   "cell_type": "code",
   "execution_count": null,
   "metadata": {},
   "outputs": [],
   "source": [
    "def generate_test_pngs(file_list, size):\n",
    "    dir = PATH/f'test_png{size}/'\n",
    "    printed = 0\n",
    "    for path,id in file_list:\n",
    "        dicom = pydicom.read_file(path)\n",
    "        data = dicom.pixel_array\n",
    "        img = Image.fromarray(data)\n",
    "        img = img.resize((size,size), Image.ANTIALIAS)\n",
    "        img.save(f'{dir}/{id}.png')\n",
    "        printed += 1\n",
    "        if printed % 500 == 0:\n",
    "            print('Saved ', printed)\n",
    "    "
   ]
  },
  {
   "cell_type": "code",
   "execution_count": null,
   "metadata": {},
   "outputs": [
    {
     "name": "stdout",
     "output_type": "stream",
     "text": [
      "Saved  500\n"
     ]
    }
   ],
   "source": [
    "file_id = [(str(path), path.stem) for path in (PATH/'test').iterdir()]\n",
    "generate_test_pngs(file_id,512)\n"
   ]
  },
  {
   "cell_type": "code",
   "execution_count": 53,
   "metadata": {},
   "outputs": [],
   "source": [
    "file_target = [(id+\".png\", target)  for (id,_,target) in target_list]\n",
    "target_df = pd.DataFrame(file_target, columns=['file', 'target'])\n",
    "target_df.to_csv(f'{PATH}file2target.csv', header=True,index=False)"
   ]
  },
  {
   "cell_type": "code",
   "execution_count": 26,
   "metadata": {},
   "outputs": [
    {
     "data": {
      "image/png": "[encoded data removed]",
      "text/plain": [
       "<PIL.PngImagePlugin.PngImageFile image mode=L size=128x128 at 0x7F612FA6B908>"
      ]
     },
     "execution_count": 26,
     "metadata": {},
     "output_type": "execute_result"
    }
   ],
   "source": [
    "PIL.Image.open('/home/paperspace/data/pneumonia/train_png128/00436515-870c-4b36-a041-de91049b9ab4.png')"
   ]
  }
 ],
 "metadata": {
  "kernelspec": {
   "display_name": "Python 3",
   "language": "python",
   "name": "python3"
  },
  "language_info": {
   "codemirror_mode": {
    "name": "ipython",
    "version": 3
   },
   "file_extension": ".py",
   "mimetype": "text/x-python",
   "name": "python",
   "nbconvert_exporter": "python",
   "pygments_lexer": "ipython3",
   "version": "3.6.6"
  }
 },
 "nbformat": 4,
 "nbformat_minor": 2
}
