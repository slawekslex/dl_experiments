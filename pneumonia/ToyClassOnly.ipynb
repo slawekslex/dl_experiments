{
 "cells": [
  {
   "cell_type": "code",
   "execution_count": 2,
   "metadata": {},
   "outputs": [],
   "source": [
    "%matplotlib inline\n",
    "%reload_ext autoreload\n",
    "%autoreload 2"
   ]
  },
  {
   "cell_type": "code",
   "execution_count": 3,
   "metadata": {},
   "outputs": [
    {
     "name": "stderr",
     "output_type": "stream",
     "text": [
      "/home/paperspace/anaconda3/envs/fastai/lib/python3.6/site-packages/sklearn/ensemble/weight_boosting.py:29: DeprecationWarning: numpy.core.umath_tests is an internal NumPy module and should not be imported. It will be removed in a future NumPy release.\n",
      "  from numpy.core.umath_tests import inner1d\n"
     ]
    }
   ],
   "source": [
    "from fastai.imports import *\n",
    "from fastai.torch_imports import *\n",
    "from fastai.transforms import *\n",
    "from fastai.conv_learner import *\n",
    "from fastai.model import *\n",
    "from fastai.dataset import *\n",
    "from fastai.sgdr import *\n",
    "from fastai.plots import *\n",
    "import sklearn\n",
    "from sklearn import metrics\n",
    "import pydicom\n",
    "from matplotlib.patches import Rectangle\n",
    "from collections import namedtuple, defaultdict"
   ]
  },
  {
   "cell_type": "code",
   "execution_count": 4,
   "metadata": {},
   "outputs": [],
   "source": [
    "PATH = Path('/home/paperspace/data/pneumonia/toy')"
   ]
  },
  {
   "cell_type": "code",
   "execution_count": 5,
   "metadata": {},
   "outputs": [
    {
     "data": {
      "text/plain": [
       "5000"
      ]
     },
     "execution_count": 5,
     "metadata": {},
     "output_type": "execute_result"
    }
   ],
   "source": [
    "file2targets = pd.read_csv(PATH/'train_targets.csv')\n",
    "file2targets.set_index('patientId', inplace=True)\n",
    "train_n = file2targets.shape[0]\n",
    "train_n"
   ]
  },
  {
   "cell_type": "code",
   "execution_count": 6,
   "metadata": {},
   "outputs": [
    {
     "data": {
      "text/plain": [
       "(1000,)"
      ]
     },
     "execution_count": 6,
     "metadata": {},
     "output_type": "execute_result"
    }
   ],
   "source": [
    "val_idxs = get_cv_idxs(train_n)\n",
    "val_idxs.shape"
   ]
  },
  {
   "cell_type": "code",
   "execution_count": 7,
   "metadata": {},
   "outputs": [],
   "source": [
    "bs  = 128\n",
    "arch = resnet34\n",
    "sz=128"
   ]
  },
  {
   "cell_type": "code",
   "execution_count": 9,
   "metadata": {},
   "outputs": [],
   "source": [
    "def class_data(sz):\n",
    "    tfms = tfms_from_model(arch, sz)\n",
    "    data = ImageClassifierData.from_csv(PATH, 'train', PATH/'train_targets.csv', val_idxs=val_idxs, tfms=tfms)\n",
    "    return data"
   ]
  },
  {
   "cell_type": "code",
   "execution_count": 13,
   "metadata": {},
   "outputs": [],
   "source": [
    "learn = ConvLearner.pretrained(arch, class_data(sz))"
   ]
  },
  {
   "cell_type": "code",
   "execution_count": 14,
   "metadata": {},
   "outputs": [
    {
     "data": {
      "text/plain": [
       "OrderedDict([('Conv2d-1',\n",
       "              OrderedDict([('input_shape', [-1, 3, 128, 128]),\n",
       "                           ('output_shape', [-1, 64, 64, 64]),\n",
       "                           ('trainable', False),\n",
       "                           ('nb_params', 9408)])),\n",
       "             ('BatchNorm2d-2',\n",
       "              OrderedDict([('input_shape', [-1, 64, 64, 64]),\n",
       "                           ('output_shape', [-1, 64, 64, 64]),\n",
       "                           ('trainable', False),\n",
       "                           ('nb_params', 128)])),\n",
       "             ('ReLU-3',\n",
       "              OrderedDict([('input_shape', [-1, 64, 64, 64]),\n",
       "                           ('output_shape', [-1, 64, 64, 64]),\n",
       "                           ('nb_params', 0)])),\n",
       "             ('MaxPool2d-4',\n",
       "              OrderedDict([('input_shape', [-1, 64, 64, 64]),\n",
       "                           ('output_shape', [-1, 64, 32, 32]),\n",
       "                           ('nb_params', 0)])),\n",
       "             ('Conv2d-5',\n",
       "              OrderedDict([('input_shape', [-1, 64, 32, 32]),\n",
       "                           ('output_shape', [-1, 64, 32, 32]),\n",
       "                           ('trainable', False),\n",
       "                           ('nb_params', 36864)])),\n",
       "             ('BatchNorm2d-6',\n",
       "              OrderedDict([('input_shape', [-1, 64, 32, 32]),\n",
       "                           ('output_shape', [-1, 64, 32, 32]),\n",
       "                           ('trainable', False),\n",
       "                           ('nb_params', 128)])),\n",
       "             ('ReLU-7',\n",
       "              OrderedDict([('input_shape', [-1, 64, 32, 32]),\n",
       "                           ('output_shape', [-1, 64, 32, 32]),\n",
       "                           ('nb_params', 0)])),\n",
       "             ('Conv2d-8',\n",
       "              OrderedDict([('input_shape', [-1, 64, 32, 32]),\n",
       "                           ('output_shape', [-1, 64, 32, 32]),\n",
       "                           ('trainable', False),\n",
       "                           ('nb_params', 36864)])),\n",
       "             ('BatchNorm2d-9',\n",
       "              OrderedDict([('input_shape', [-1, 64, 32, 32]),\n",
       "                           ('output_shape', [-1, 64, 32, 32]),\n",
       "                           ('trainable', False),\n",
       "                           ('nb_params', 128)])),\n",
       "             ('ReLU-10',\n",
       "              OrderedDict([('input_shape', [-1, 64, 32, 32]),\n",
       "                           ('output_shape', [-1, 64, 32, 32]),\n",
       "                           ('nb_params', 0)])),\n",
       "             ('BasicBlock-11',\n",
       "              OrderedDict([('input_shape', [-1, 64, 32, 32]),\n",
       "                           ('output_shape', [-1, 64, 32, 32]),\n",
       "                           ('nb_params', 0)])),\n",
       "             ('Conv2d-12',\n",
       "              OrderedDict([('input_shape', [-1, 64, 32, 32]),\n",
       "                           ('output_shape', [-1, 64, 32, 32]),\n",
       "                           ('trainable', False),\n",
       "                           ('nb_params', 36864)])),\n",
       "             ('BatchNorm2d-13',\n",
       "              OrderedDict([('input_shape', [-1, 64, 32, 32]),\n",
       "                           ('output_shape', [-1, 64, 32, 32]),\n",
       "                           ('trainable', False),\n",
       "                           ('nb_params', 128)])),\n",
       "             ('ReLU-14',\n",
       "              OrderedDict([('input_shape', [-1, 64, 32, 32]),\n",
       "                           ('output_shape', [-1, 64, 32, 32]),\n",
       "                           ('nb_params', 0)])),\n",
       "             ('Conv2d-15',\n",
       "              OrderedDict([('input_shape', [-1, 64, 32, 32]),\n",
       "                           ('output_shape', [-1, 64, 32, 32]),\n",
       "                           ('trainable', False),\n",
       "                           ('nb_params', 36864)])),\n",
       "             ('BatchNorm2d-16',\n",
       "              OrderedDict([('input_shape', [-1, 64, 32, 32]),\n",
       "                           ('output_shape', [-1, 64, 32, 32]),\n",
       "                           ('trainable', False),\n",
       "                           ('nb_params', 128)])),\n",
       "             ('ReLU-17',\n",
       "              OrderedDict([('input_shape', [-1, 64, 32, 32]),\n",
       "                           ('output_shape', [-1, 64, 32, 32]),\n",
       "                           ('nb_params', 0)])),\n",
       "             ('BasicBlock-18',\n",
       "              OrderedDict([('input_shape', [-1, 64, 32, 32]),\n",
       "                           ('output_shape', [-1, 64, 32, 32]),\n",
       "                           ('nb_params', 0)])),\n",
       "             ('Conv2d-19',\n",
       "              OrderedDict([('input_shape', [-1, 64, 32, 32]),\n",
       "                           ('output_shape', [-1, 64, 32, 32]),\n",
       "                           ('trainable', False),\n",
       "                           ('nb_params', 36864)])),\n",
       "             ('BatchNorm2d-20',\n",
       "              OrderedDict([('input_shape', [-1, 64, 32, 32]),\n",
       "                           ('output_shape', [-1, 64, 32, 32]),\n",
       "                           ('trainable', False),\n",
       "                           ('nb_params', 128)])),\n",
       "             ('ReLU-21',\n",
       "              OrderedDict([('input_shape', [-1, 64, 32, 32]),\n",
       "                           ('output_shape', [-1, 64, 32, 32]),\n",
       "                           ('nb_params', 0)])),\n",
       "             ('Conv2d-22',\n",
       "              OrderedDict([('input_shape', [-1, 64, 32, 32]),\n",
       "                           ('output_shape', [-1, 64, 32, 32]),\n",
       "                           ('trainable', False),\n",
       "                           ('nb_params', 36864)])),\n",
       "             ('BatchNorm2d-23',\n",
       "              OrderedDict([('input_shape', [-1, 64, 32, 32]),\n",
       "                           ('output_shape', [-1, 64, 32, 32]),\n",
       "                           ('trainable', False),\n",
       "                           ('nb_params', 128)])),\n",
       "             ('ReLU-24',\n",
       "              OrderedDict([('input_shape', [-1, 64, 32, 32]),\n",
       "                           ('output_shape', [-1, 64, 32, 32]),\n",
       "                           ('nb_params', 0)])),\n",
       "             ('BasicBlock-25',\n",
       "              OrderedDict([('input_shape', [-1, 64, 32, 32]),\n",
       "                           ('output_shape', [-1, 64, 32, 32]),\n",
       "                           ('nb_params', 0)])),\n",
       "             ('Conv2d-26',\n",
       "              OrderedDict([('input_shape', [-1, 64, 32, 32]),\n",
       "                           ('output_shape', [-1, 128, 16, 16]),\n",
       "                           ('trainable', False),\n",
       "                           ('nb_params', 73728)])),\n",
       "             ('BatchNorm2d-27',\n",
       "              OrderedDict([('input_shape', [-1, 128, 16, 16]),\n",
       "                           ('output_shape', [-1, 128, 16, 16]),\n",
       "                           ('trainable', False),\n",
       "                           ('nb_params', 256)])),\n",
       "             ('ReLU-28',\n",
       "              OrderedDict([('input_shape', [-1, 128, 16, 16]),\n",
       "                           ('output_shape', [-1, 128, 16, 16]),\n",
       "                           ('nb_params', 0)])),\n",
       "             ('Conv2d-29',\n",
       "              OrderedDict([('input_shape', [-1, 128, 16, 16]),\n",
       "                           ('output_shape', [-1, 128, 16, 16]),\n",
       "                           ('trainable', False),\n",
       "                           ('nb_params', 147456)])),\n",
       "             ('BatchNorm2d-30',\n",
       "              OrderedDict([('input_shape', [-1, 128, 16, 16]),\n",
       "                           ('output_shape', [-1, 128, 16, 16]),\n",
       "                           ('trainable', False),\n",
       "                           ('nb_params', 256)])),\n",
       "             ('Conv2d-31',\n",
       "              OrderedDict([('input_shape', [-1, 64, 32, 32]),\n",
       "                           ('output_shape', [-1, 128, 16, 16]),\n",
       "                           ('trainable', False),\n",
       "                           ('nb_params', 8192)])),\n",
       "             ('BatchNorm2d-32',\n",
       "              OrderedDict([('input_shape', [-1, 128, 16, 16]),\n",
       "                           ('output_shape', [-1, 128, 16, 16]),\n",
       "                           ('trainable', False),\n",
       "                           ('nb_params', 256)])),\n",
       "             ('ReLU-33',\n",
       "              OrderedDict([('input_shape', [-1, 128, 16, 16]),\n",
       "                           ('output_shape', [-1, 128, 16, 16]),\n",
       "                           ('nb_params', 0)])),\n",
       "             ('BasicBlock-34',\n",
       "              OrderedDict([('input_shape', [-1, 64, 32, 32]),\n",
       "                           ('output_shape', [-1, 128, 16, 16]),\n",
       "                           ('nb_params', 0)])),\n",
       "             ('Conv2d-35',\n",
       "              OrderedDict([('input_shape', [-1, 128, 16, 16]),\n",
       "                           ('output_shape', [-1, 128, 16, 16]),\n",
       "                           ('trainable', False),\n",
       "                           ('nb_params', 147456)])),\n",
       "             ('BatchNorm2d-36',\n",
       "              OrderedDict([('input_shape', [-1, 128, 16, 16]),\n",
       "                           ('output_shape', [-1, 128, 16, 16]),\n",
       "                           ('trainable', False),\n",
       "                           ('nb_params', 256)])),\n",
       "             ('ReLU-37',\n",
       "              OrderedDict([('input_shape', [-1, 128, 16, 16]),\n",
       "                           ('output_shape', [-1, 128, 16, 16]),\n",
       "                           ('nb_params', 0)])),\n",
       "             ('Conv2d-38',\n",
       "              OrderedDict([('input_shape', [-1, 128, 16, 16]),\n",
       "                           ('output_shape', [-1, 128, 16, 16]),\n",
       "                           ('trainable', False),\n",
       "                           ('nb_params', 147456)])),\n",
       "             ('BatchNorm2d-39',\n",
       "              OrderedDict([('input_shape', [-1, 128, 16, 16]),\n",
       "                           ('output_shape', [-1, 128, 16, 16]),\n",
       "                           ('trainable', False),\n",
       "                           ('nb_params', 256)])),\n",
       "             ('ReLU-40',\n",
       "              OrderedDict([('input_shape', [-1, 128, 16, 16]),\n",
       "                           ('output_shape', [-1, 128, 16, 16]),\n",
       "                           ('nb_params', 0)])),\n",
       "             ('BasicBlock-41',\n",
       "              OrderedDict([('input_shape', [-1, 128, 16, 16]),\n",
       "                           ('output_shape', [-1, 128, 16, 16]),\n",
       "                           ('nb_params', 0)])),\n",
       "             ('Conv2d-42',\n",
       "              OrderedDict([('input_shape', [-1, 128, 16, 16]),\n",
       "                           ('output_shape', [-1, 128, 16, 16]),\n",
       "                           ('trainable', False),\n",
       "                           ('nb_params', 147456)])),\n",
       "             ('BatchNorm2d-43',\n",
       "              OrderedDict([('input_shape', [-1, 128, 16, 16]),\n",
       "                           ('output_shape', [-1, 128, 16, 16]),\n",
       "                           ('trainable', False),\n",
       "                           ('nb_params', 256)])),\n",
       "             ('ReLU-44',\n",
       "              OrderedDict([('input_shape', [-1, 128, 16, 16]),\n",
       "                           ('output_shape', [-1, 128, 16, 16]),\n",
       "                           ('nb_params', 0)])),\n",
       "             ('Conv2d-45',\n",
       "              OrderedDict([('input_shape', [-1, 128, 16, 16]),\n",
       "                           ('output_shape', [-1, 128, 16, 16]),\n",
       "                           ('trainable', False),\n",
       "                           ('nb_params', 147456)])),\n",
       "             ('BatchNorm2d-46',\n",
       "              OrderedDict([('input_shape', [-1, 128, 16, 16]),\n",
       "                           ('output_shape', [-1, 128, 16, 16]),\n",
       "                           ('trainable', False),\n",
       "                           ('nb_params', 256)])),\n",
       "             ('ReLU-47',\n",
       "              OrderedDict([('input_shape', [-1, 128, 16, 16]),\n",
       "                           ('output_shape', [-1, 128, 16, 16]),\n",
       "                           ('nb_params', 0)])),\n",
       "             ('BasicBlock-48',\n",
       "              OrderedDict([('input_shape', [-1, 128, 16, 16]),\n",
       "                           ('output_shape', [-1, 128, 16, 16]),\n",
       "                           ('nb_params', 0)])),\n",
       "             ('Conv2d-49',\n",
       "              OrderedDict([('input_shape', [-1, 128, 16, 16]),\n",
       "                           ('output_shape', [-1, 128, 16, 16]),\n",
       "                           ('trainable', False),\n",
       "                           ('nb_params', 147456)])),\n",
       "             ('BatchNorm2d-50',\n",
       "              OrderedDict([('input_shape', [-1, 128, 16, 16]),\n",
       "                           ('output_shape', [-1, 128, 16, 16]),\n",
       "                           ('trainable', False),\n",
       "                           ('nb_params', 256)])),\n",
       "             ('ReLU-51',\n",
       "              OrderedDict([('input_shape', [-1, 128, 16, 16]),\n",
       "                           ('output_shape', [-1, 128, 16, 16]),\n",
       "                           ('nb_params', 0)])),\n",
       "             ('Conv2d-52',\n",
       "              OrderedDict([('input_shape', [-1, 128, 16, 16]),\n",
       "                           ('output_shape', [-1, 128, 16, 16]),\n",
       "                           ('trainable', False),\n",
       "                           ('nb_params', 147456)])),\n",
       "             ('BatchNorm2d-53',\n",
       "              OrderedDict([('input_shape', [-1, 128, 16, 16]),\n",
       "                           ('output_shape', [-1, 128, 16, 16]),\n",
       "                           ('trainable', False),\n",
       "                           ('nb_params', 256)])),\n",
       "             ('ReLU-54',\n",
       "              OrderedDict([('input_shape', [-1, 128, 16, 16]),\n",
       "                           ('output_shape', [-1, 128, 16, 16]),\n",
       "                           ('nb_params', 0)])),\n",
       "             ('BasicBlock-55',\n",
       "              OrderedDict([('input_shape', [-1, 128, 16, 16]),\n",
       "                           ('output_shape', [-1, 128, 16, 16]),\n",
       "                           ('nb_params', 0)])),\n",
       "             ('Conv2d-56',\n",
       "              OrderedDict([('input_shape', [-1, 128, 16, 16]),\n",
       "                           ('output_shape', [-1, 256, 8, 8]),\n",
       "                           ('trainable', False),\n",
       "                           ('nb_params', 294912)])),\n",
       "             ('BatchNorm2d-57',\n",
       "              OrderedDict([('input_shape', [-1, 256, 8, 8]),\n",
       "                           ('output_shape', [-1, 256, 8, 8]),\n",
       "                           ('trainable', False),\n",
       "                           ('nb_params', 512)])),\n",
       "             ('ReLU-58',\n",
       "              OrderedDict([('input_shape', [-1, 256, 8, 8]),\n",
       "                           ('output_shape', [-1, 256, 8, 8]),\n",
       "                           ('nb_params', 0)])),\n",
       "             ('Conv2d-59',\n",
       "              OrderedDict([('input_shape', [-1, 256, 8, 8]),\n",
       "                           ('output_shape', [-1, 256, 8, 8]),\n",
       "                           ('trainable', False),\n",
       "                           ('nb_params', 589824)])),\n",
       "             ('BatchNorm2d-60',\n",
       "              OrderedDict([('input_shape', [-1, 256, 8, 8]),\n",
       "                           ('output_shape', [-1, 256, 8, 8]),\n",
       "                           ('trainable', False),\n",
       "                           ('nb_params', 512)])),\n",
       "             ('Conv2d-61',\n",
       "              OrderedDict([('input_shape', [-1, 128, 16, 16]),\n",
       "                           ('output_shape', [-1, 256, 8, 8]),\n",
       "                           ('trainable', False),\n",
       "                           ('nb_params', 32768)])),\n",
       "             ('BatchNorm2d-62',\n",
       "              OrderedDict([('input_shape', [-1, 256, 8, 8]),\n",
       "                           ('output_shape', [-1, 256, 8, 8]),\n",
       "                           ('trainable', False),\n",
       "                           ('nb_params', 512)])),\n",
       "             ('ReLU-63',\n",
       "              OrderedDict([('input_shape', [-1, 256, 8, 8]),\n",
       "                           ('output_shape', [-1, 256, 8, 8]),\n",
       "                           ('nb_params', 0)])),\n",
       "             ('BasicBlock-64',\n",
       "              OrderedDict([('input_shape', [-1, 128, 16, 16]),\n",
       "                           ('output_shape', [-1, 256, 8, 8]),\n",
       "                           ('nb_params', 0)])),\n",
       "             ('Conv2d-65',\n",
       "              OrderedDict([('input_shape', [-1, 256, 8, 8]),\n",
       "                           ('output_shape', [-1, 256, 8, 8]),\n",
       "                           ('trainable', False),\n",
       "                           ('nb_params', 589824)])),\n",
       "             ('BatchNorm2d-66',\n",
       "              OrderedDict([('input_shape', [-1, 256, 8, 8]),\n",
       "                           ('output_shape', [-1, 256, 8, 8]),\n",
       "                           ('trainable', False),\n",
       "                           ('nb_params', 512)])),\n",
       "             ('ReLU-67',\n",
       "              OrderedDict([('input_shape', [-1, 256, 8, 8]),\n",
       "                           ('output_shape', [-1, 256, 8, 8]),\n",
       "                           ('nb_params', 0)])),\n",
       "             ('Conv2d-68',\n",
       "              OrderedDict([('input_shape', [-1, 256, 8, 8]),\n",
       "                           ('output_shape', [-1, 256, 8, 8]),\n",
       "                           ('trainable', False),\n",
       "                           ('nb_params', 589824)])),\n",
       "             ('BatchNorm2d-69',\n",
       "              OrderedDict([('input_shape', [-1, 256, 8, 8]),\n",
       "                           ('output_shape', [-1, 256, 8, 8]),\n",
       "                           ('trainable', False),\n",
       "                           ('nb_params', 512)])),\n",
       "             ('ReLU-70',\n",
       "              OrderedDict([('input_shape', [-1, 256, 8, 8]),\n",
       "                           ('output_shape', [-1, 256, 8, 8]),\n",
       "                           ('nb_params', 0)])),\n",
       "             ('BasicBlock-71',\n",
       "              OrderedDict([('input_shape', [-1, 256, 8, 8]),\n",
       "                           ('output_shape', [-1, 256, 8, 8]),\n",
       "                           ('nb_params', 0)])),\n",
       "             ('Conv2d-72',\n",
       "              OrderedDict([('input_shape', [-1, 256, 8, 8]),\n",
       "                           ('output_shape', [-1, 256, 8, 8]),\n",
       "                           ('trainable', False),\n",
       "                           ('nb_params', 589824)])),\n",
       "             ('BatchNorm2d-73',\n",
       "              OrderedDict([('input_shape', [-1, 256, 8, 8]),\n",
       "                           ('output_shape', [-1, 256, 8, 8]),\n",
       "                           ('trainable', False),\n",
       "                           ('nb_params', 512)])),\n",
       "             ('ReLU-74',\n",
       "              OrderedDict([('input_shape', [-1, 256, 8, 8]),\n",
       "                           ('output_shape', [-1, 256, 8, 8]),\n",
       "                           ('nb_params', 0)])),\n",
       "             ('Conv2d-75',\n",
       "              OrderedDict([('input_shape', [-1, 256, 8, 8]),\n",
       "                           ('output_shape', [-1, 256, 8, 8]),\n",
       "                           ('trainable', False),\n",
       "                           ('nb_params', 589824)])),\n",
       "             ('BatchNorm2d-76',\n",
       "              OrderedDict([('input_shape', [-1, 256, 8, 8]),\n",
       "                           ('output_shape', [-1, 256, 8, 8]),\n",
       "                           ('trainable', False),\n",
       "                           ('nb_params', 512)])),\n",
       "             ('ReLU-77',\n",
       "              OrderedDict([('input_shape', [-1, 256, 8, 8]),\n",
       "                           ('output_shape', [-1, 256, 8, 8]),\n",
       "                           ('nb_params', 0)])),\n",
       "             ('BasicBlock-78',\n",
       "              OrderedDict([('input_shape', [-1, 256, 8, 8]),\n",
       "                           ('output_shape', [-1, 256, 8, 8]),\n",
       "                           ('nb_params', 0)])),\n",
       "             ('Conv2d-79',\n",
       "              OrderedDict([('input_shape', [-1, 256, 8, 8]),\n",
       "                           ('output_shape', [-1, 256, 8, 8]),\n",
       "                           ('trainable', False),\n",
       "                           ('nb_params', 589824)])),\n",
       "             ('BatchNorm2d-80',\n",
       "              OrderedDict([('input_shape', [-1, 256, 8, 8]),\n",
       "                           ('output_shape', [-1, 256, 8, 8]),\n",
       "                           ('trainable', False),\n",
       "                           ('nb_params', 512)])),\n",
       "             ('ReLU-81',\n",
       "              OrderedDict([('input_shape', [-1, 256, 8, 8]),\n",
       "                           ('output_shape', [-1, 256, 8, 8]),\n",
       "                           ('nb_params', 0)])),\n",
       "             ('Conv2d-82',\n",
       "              OrderedDict([('input_shape', [-1, 256, 8, 8]),\n",
       "                           ('output_shape', [-1, 256, 8, 8]),\n",
       "                           ('trainable', False),\n",
       "                           ('nb_params', 589824)])),\n",
       "             ('BatchNorm2d-83',\n",
       "              OrderedDict([('input_shape', [-1, 256, 8, 8]),\n",
       "                           ('output_shape', [-1, 256, 8, 8]),\n",
       "                           ('trainable', False),\n",
       "                           ('nb_params', 512)])),\n",
       "             ('ReLU-84',\n",
       "              OrderedDict([('input_shape', [-1, 256, 8, 8]),\n",
       "                           ('output_shape', [-1, 256, 8, 8]),\n",
       "                           ('nb_params', 0)])),\n",
       "             ('BasicBlock-85',\n",
       "              OrderedDict([('input_shape', [-1, 256, 8, 8]),\n",
       "                           ('output_shape', [-1, 256, 8, 8]),\n",
       "                           ('nb_params', 0)])),\n",
       "             ('Conv2d-86',\n",
       "              OrderedDict([('input_shape', [-1, 256, 8, 8]),\n",
       "                           ('output_shape', [-1, 256, 8, 8]),\n",
       "                           ('trainable', False),\n",
       "                           ('nb_params', 589824)])),\n",
       "             ('BatchNorm2d-87',\n",
       "              OrderedDict([('input_shape', [-1, 256, 8, 8]),\n",
       "                           ('output_shape', [-1, 256, 8, 8]),\n",
       "                           ('trainable', False),\n",
       "                           ('nb_params', 512)])),\n",
       "             ('ReLU-88',\n",
       "              OrderedDict([('input_shape', [-1, 256, 8, 8]),\n",
       "                           ('output_shape', [-1, 256, 8, 8]),\n",
       "                           ('nb_params', 0)])),\n",
       "             ('Conv2d-89',\n",
       "              OrderedDict([('input_shape', [-1, 256, 8, 8]),\n",
       "                           ('output_shape', [-1, 256, 8, 8]),\n",
       "                           ('trainable', False),\n",
       "                           ('nb_params', 589824)])),\n",
       "             ('BatchNorm2d-90',\n",
       "              OrderedDict([('input_shape', [-1, 256, 8, 8]),\n",
       "                           ('output_shape', [-1, 256, 8, 8]),\n",
       "                           ('trainable', False),\n",
       "                           ('nb_params', 512)])),\n",
       "             ('ReLU-91',\n",
       "              OrderedDict([('input_shape', [-1, 256, 8, 8]),\n",
       "                           ('output_shape', [-1, 256, 8, 8]),\n",
       "                           ('nb_params', 0)])),\n",
       "             ('BasicBlock-92',\n",
       "              OrderedDict([('input_shape', [-1, 256, 8, 8]),\n",
       "                           ('output_shape', [-1, 256, 8, 8]),\n",
       "                           ('nb_params', 0)])),\n",
       "             ('Conv2d-93',\n",
       "              OrderedDict([('input_shape', [-1, 256, 8, 8]),\n",
       "                           ('output_shape', [-1, 256, 8, 8]),\n",
       "                           ('trainable', False),\n",
       "                           ('nb_params', 589824)])),\n",
       "             ('BatchNorm2d-94',\n",
       "              OrderedDict([('input_shape', [-1, 256, 8, 8]),\n",
       "                           ('output_shape', [-1, 256, 8, 8]),\n",
       "                           ('trainable', False),\n",
       "                           ('nb_params', 512)])),\n",
       "             ('ReLU-95',\n",
       "              OrderedDict([('input_shape', [-1, 256, 8, 8]),\n",
       "                           ('output_shape', [-1, 256, 8, 8]),\n",
       "                           ('nb_params', 0)])),\n",
       "             ('Conv2d-96',\n",
       "              OrderedDict([('input_shape', [-1, 256, 8, 8]),\n",
       "                           ('output_shape', [-1, 256, 8, 8]),\n",
       "                           ('trainable', False),\n",
       "                           ('nb_params', 589824)])),\n",
       "             ('BatchNorm2d-97',\n",
       "              OrderedDict([('input_shape', [-1, 256, 8, 8]),\n",
       "                           ('output_shape', [-1, 256, 8, 8]),\n",
       "                           ('trainable', False),\n",
       "                           ('nb_params', 512)])),\n",
       "             ('ReLU-98',\n",
       "              OrderedDict([('input_shape', [-1, 256, 8, 8]),\n",
       "                           ('output_shape', [-1, 256, 8, 8]),\n",
       "                           ('nb_params', 0)])),\n",
       "             ('BasicBlock-99',\n",
       "              OrderedDict([('input_shape', [-1, 256, 8, 8]),\n",
       "                           ('output_shape', [-1, 256, 8, 8]),\n",
       "                           ('nb_params', 0)])),\n",
       "             ('Conv2d-100',\n",
       "              OrderedDict([('input_shape', [-1, 256, 8, 8]),\n",
       "                           ('output_shape', [-1, 512, 4, 4]),\n",
       "                           ('trainable', False),\n",
       "                           ('nb_params', 1179648)])),\n",
       "             ('BatchNorm2d-101',\n",
       "              OrderedDict([('input_shape', [-1, 512, 4, 4]),\n",
       "                           ('output_shape', [-1, 512, 4, 4]),\n",
       "                           ('trainable', False),\n",
       "                           ('nb_params', 1024)])),\n",
       "             ('ReLU-102',\n",
       "              OrderedDict([('input_shape', [-1, 512, 4, 4]),\n",
       "                           ('output_shape', [-1, 512, 4, 4]),\n",
       "                           ('nb_params', 0)])),\n",
       "             ('Conv2d-103',\n",
       "              OrderedDict([('input_shape', [-1, 512, 4, 4]),\n",
       "                           ('output_shape', [-1, 512, 4, 4]),\n",
       "                           ('trainable', False),\n",
       "                           ('nb_params', 2359296)])),\n",
       "             ('BatchNorm2d-104',\n",
       "              OrderedDict([('input_shape', [-1, 512, 4, 4]),\n",
       "                           ('output_shape', [-1, 512, 4, 4]),\n",
       "                           ('trainable', False),\n",
       "                           ('nb_params', 1024)])),\n",
       "             ('Conv2d-105',\n",
       "              OrderedDict([('input_shape', [-1, 256, 8, 8]),\n",
       "                           ('output_shape', [-1, 512, 4, 4]),\n",
       "                           ('trainable', False),\n",
       "                           ('nb_params', 131072)])),\n",
       "             ('BatchNorm2d-106',\n",
       "              OrderedDict([('input_shape', [-1, 512, 4, 4]),\n",
       "                           ('output_shape', [-1, 512, 4, 4]),\n",
       "                           ('trainable', False),\n",
       "                           ('nb_params', 1024)])),\n",
       "             ('ReLU-107',\n",
       "              OrderedDict([('input_shape', [-1, 512, 4, 4]),\n",
       "                           ('output_shape', [-1, 512, 4, 4]),\n",
       "                           ('nb_params', 0)])),\n",
       "             ('BasicBlock-108',\n",
       "              OrderedDict([('input_shape', [-1, 256, 8, 8]),\n",
       "                           ('output_shape', [-1, 512, 4, 4]),\n",
       "                           ('nb_params', 0)])),\n",
       "             ('Conv2d-109',\n",
       "              OrderedDict([('input_shape', [-1, 512, 4, 4]),\n",
       "                           ('output_shape', [-1, 512, 4, 4]),\n",
       "                           ('trainable', False),\n",
       "                           ('nb_params', 2359296)])),\n",
       "             ('BatchNorm2d-110',\n",
       "              OrderedDict([('input_shape', [-1, 512, 4, 4]),\n",
       "                           ('output_shape', [-1, 512, 4, 4]),\n",
       "                           ('trainable', False),\n",
       "                           ('nb_params', 1024)])),\n",
       "             ('ReLU-111',\n",
       "              OrderedDict([('input_shape', [-1, 512, 4, 4]),\n",
       "                           ('output_shape', [-1, 512, 4, 4]),\n",
       "                           ('nb_params', 0)])),\n",
       "             ('Conv2d-112',\n",
       "              OrderedDict([('input_shape', [-1, 512, 4, 4]),\n",
       "                           ('output_shape', [-1, 512, 4, 4]),\n",
       "                           ('trainable', False),\n",
       "                           ('nb_params', 2359296)])),\n",
       "             ('BatchNorm2d-113',\n",
       "              OrderedDict([('input_shape', [-1, 512, 4, 4]),\n",
       "                           ('output_shape', [-1, 512, 4, 4]),\n",
       "                           ('trainable', False),\n",
       "                           ('nb_params', 1024)])),\n",
       "             ('ReLU-114',\n",
       "              OrderedDict([('input_shape', [-1, 512, 4, 4]),\n",
       "                           ('output_shape', [-1, 512, 4, 4]),\n",
       "                           ('nb_params', 0)])),\n",
       "             ('BasicBlock-115',\n",
       "              OrderedDict([('input_shape', [-1, 512, 4, 4]),\n",
       "                           ('output_shape', [-1, 512, 4, 4]),\n",
       "                           ('nb_params', 0)])),\n",
       "             ('Conv2d-116',\n",
       "              OrderedDict([('input_shape', [-1, 512, 4, 4]),\n",
       "                           ('output_shape', [-1, 512, 4, 4]),\n",
       "                           ('trainable', False),\n",
       "                           ('nb_params', 2359296)])),\n",
       "             ('BatchNorm2d-117',\n",
       "              OrderedDict([('input_shape', [-1, 512, 4, 4]),\n",
       "                           ('output_shape', [-1, 512, 4, 4]),\n",
       "                           ('trainable', False),\n",
       "                           ('nb_params', 1024)])),\n",
       "             ('ReLU-118',\n",
       "              OrderedDict([('input_shape', [-1, 512, 4, 4]),\n",
       "                           ('output_shape', [-1, 512, 4, 4]),\n",
       "                           ('nb_params', 0)])),\n",
       "             ('Conv2d-119',\n",
       "              OrderedDict([('input_shape', [-1, 512, 4, 4]),\n",
       "                           ('output_shape', [-1, 512, 4, 4]),\n",
       "                           ('trainable', False),\n",
       "                           ('nb_params', 2359296)])),\n",
       "             ('BatchNorm2d-120',\n",
       "              OrderedDict([('input_shape', [-1, 512, 4, 4]),\n",
       "                           ('output_shape', [-1, 512, 4, 4]),\n",
       "                           ('trainable', False),\n",
       "                           ('nb_params', 1024)])),\n",
       "             ('ReLU-121',\n",
       "              OrderedDict([('input_shape', [-1, 512, 4, 4]),\n",
       "                           ('output_shape', [-1, 512, 4, 4]),\n",
       "                           ('nb_params', 0)])),\n",
       "             ('BasicBlock-122',\n",
       "              OrderedDict([('input_shape', [-1, 512, 4, 4]),\n",
       "                           ('output_shape', [-1, 512, 4, 4]),\n",
       "                           ('nb_params', 0)])),\n",
       "             ('AdaptiveMaxPool2d-123',\n",
       "              OrderedDict([('input_shape', [-1, 512, 4, 4]),\n",
       "                           ('output_shape', [-1, 512, 1, 1]),\n",
       "                           ('nb_params', 0)])),\n",
       "             ('AdaptiveAvgPool2d-124',\n",
       "              OrderedDict([('input_shape', [-1, 512, 4, 4]),\n",
       "                           ('output_shape', [-1, 512, 1, 1]),\n",
       "                           ('nb_params', 0)])),\n",
       "             ('AdaptiveConcatPool2d-125',\n",
       "              OrderedDict([('input_shape', [-1, 512, 4, 4]),\n",
       "                           ('output_shape', [-1, 1024, 1, 1]),\n",
       "                           ('nb_params', 0)])),\n",
       "             ('Flatten-126',\n",
       "              OrderedDict([('input_shape', [-1, 1024, 1, 1]),\n",
       "                           ('output_shape', [-1, 1024]),\n",
       "                           ('nb_params', 0)])),\n",
       "             ('BatchNorm1d-127',\n",
       "              OrderedDict([('input_shape', [-1, 1024]),\n",
       "                           ('output_shape', [-1, 1024]),\n",
       "                           ('trainable', True),\n",
       "                           ('nb_params', 2048)])),\n",
       "             ('Dropout-128',\n",
       "              OrderedDict([('input_shape', [-1, 1024]),\n",
       "                           ('output_shape', [-1, 1024]),\n",
       "                           ('nb_params', 0)])),\n",
       "             ('Linear-129',\n",
       "              OrderedDict([('input_shape', [-1, 1024]),\n",
       "                           ('output_shape', [-1, 512]),\n",
       "                           ('trainable', True),\n",
       "                           ('nb_params', 524800)])),\n",
       "             ('ReLU-130',\n",
       "              OrderedDict([('input_shape', [-1, 512]),\n",
       "                           ('output_shape', [-1, 512]),\n",
       "                           ('nb_params', 0)])),\n",
       "             ('BatchNorm1d-131',\n",
       "              OrderedDict([('input_shape', [-1, 512]),\n",
       "                           ('output_shape', [-1, 512]),\n",
       "                           ('trainable', True),\n",
       "                           ('nb_params', 1024)])),\n",
       "             ('Dropout-132',\n",
       "              OrderedDict([('input_shape', [-1, 512]),\n",
       "                           ('output_shape', [-1, 512]),\n",
       "                           ('nb_params', 0)])),\n",
       "             ('Linear-133',\n",
       "              OrderedDict([('input_shape', [-1, 512]),\n",
       "                           ('output_shape', [-1, 2]),\n",
       "                           ('trainable', True),\n",
       "                           ('nb_params', 1026)])),\n",
       "             ('LogSoftmax-134',\n",
       "              OrderedDict([('input_shape', [-1, 2]),\n",
       "                           ('output_shape', [-1, 2]),\n",
       "                           ('nb_params', 0)]))])"
      ]
     },
     "execution_count": 14,
     "metadata": {},
     "output_type": "execute_result"
    }
   ],
   "source": [
    "learn.summary()"
   ]
  },
  {
   "cell_type": "markdown",
   "metadata": {},
   "source": [
    "# Create and train model"
   ]
  },
  {
   "cell_type": "code",
   "execution_count": 15,
   "metadata": {},
   "outputs": [
    {
     "data": {
      "application/vnd.jupyter.widget-view+json": {
       "model_id": "34bb9ae8581940828d695e6509b3306d",
       "version_major": 2,
       "version_minor": 0
      },
      "text/plain": [
       "HBox(children=(IntProgress(value=0, description='Epoch', max=1), HTML(value='')))"
      ]
     },
     "metadata": {},
     "output_type": "display_data"
    },
    {
     "name": "stdout",
     "output_type": "stream",
     "text": [
      " 95%|█████████▌| 60/63 [00:04<00:00, 13.49it/s, loss=1.23] \n",
      "                                                          \r"
     ]
    },
    {
     "data": {
      "image/png": "[encoded data removed]",
      "text/plain": [
       "<Figure size 432x288 with 1 Axes>"
      ]
     },
     "metadata": {},
     "output_type": "display_data"
    }
   ],
   "source": [
    "learn.lr_find()\n",
    "learn.sched.plot()"
   ]
  },
  {
   "cell_type": "code",
   "execution_count": 16,
   "metadata": {},
   "outputs": [
    {
     "data": {
      "application/vnd.jupyter.widget-view+json": {
       "model_id": "754df3cc1a924201ba0d123538631c1d",
       "version_major": 2,
       "version_minor": 0
      },
      "text/plain": [
       "HBox(children=(IntProgress(value=0, description='Epoch', max=4), HTML(value='')))"
      ]
     },
     "metadata": {},
     "output_type": "display_data"
    },
    {
     "name": "stdout",
     "output_type": "stream",
     "text": [
      "epoch      trn_loss   val_loss   accuracy                  \n",
      "    0      0.143418   0.083577   0.985     \n",
      "    1      0.105263   0.075063   0.985                     \n",
      "    2      0.091042   0.076506   0.986                      \n",
      "    3      0.065986   0.058079   0.986                      \n",
      "\n"
     ]
    },
    {
     "data": {
      "text/plain": [
       "[array([0.05808]), 0.986]"
      ]
     },
     "execution_count": 16,
     "metadata": {},
     "output_type": "execute_result"
    }
   ],
   "source": [
    "learn.fit(1e-1, 4)"
   ]
  },
  {
   "cell_type": "code",
   "execution_count": 17,
   "metadata": {},
   "outputs": [],
   "source": [
    "learn.unfreeze()"
   ]
  },
  {
   "cell_type": "code",
   "execution_count": 18,
   "metadata": {},
   "outputs": [
    {
     "data": {
      "application/vnd.jupyter.widget-view+json": {
       "model_id": "ef458da959c7479d9bb68d4a4366c025",
       "version_major": 2,
       "version_minor": 0
      },
      "text/plain": [
       "HBox(children=(IntProgress(value=0, description='Epoch', max=7), HTML(value='')))"
      ]
     },
     "metadata": {},
     "output_type": "display_data"
    },
    {
     "name": "stdout",
     "output_type": "stream",
     "text": [
      "epoch      trn_loss   val_loss   accuracy                   \n",
      "    0      0.035786   0.009504   0.999     \n",
      "    1      0.010599   0.004417   0.999                      \n",
      "    2      0.011836   0.004408   0.999                       \n",
      "    3      0.022529   0.006142   0.999                      \n",
      "    4      0.007043   0.000371   1.0                         \n",
      "    5      0.002059   0.001073   0.999                       \n",
      "    6      0.001803   0.001347   0.999                        \n",
      "\n"
     ]
    },
    {
     "data": {
      "text/plain": [
       "[array([0.00135]), 0.999]"
      ]
     },
     "execution_count": 18,
     "metadata": {},
     "output_type": "execute_result"
    }
   ],
   "source": [
    "learn.fit(1e-2, 3, cycle_mult=2)"
   ]
  },
  {
   "cell_type": "code",
   "execution_count": 19,
   "metadata": {},
   "outputs": [
    {
     "data": {
      "application/vnd.jupyter.widget-view+json": {
       "model_id": "d32b05ac9c8a450fa7c2323ee8aa3ca3",
       "version_major": 2,
       "version_minor": 0
      },
      "text/plain": [
       "HBox(children=(IntProgress(value=0, description='Epoch', max=7), HTML(value='')))"
      ]
     },
     "metadata": {},
     "output_type": "display_data"
    },
    {
     "name": "stdout",
     "output_type": "stream",
     "text": [
      "epoch      trn_loss   val_loss   accuracy                     \n",
      "    0      0.000156   0.00318    0.999     \n",
      "    1      9.1e-05    0.002846   0.999                        \n",
      "    2      4.8e-05    0.002335   0.999                        \n",
      "    3      3.2e-05    0.002057   0.999                        \n",
      "    4      4.2e-05    0.002293   0.999                        \n",
      "    5      2.2e-05    0.002273   0.999                        \n",
      "    6      3.4e-05    0.002138   0.999                        \n",
      "\n"
     ]
    },
    {
     "data": {
      "text/plain": [
       "[array([0.00214]), 0.999]"
      ]
     },
     "execution_count": 19,
     "metadata": {},
     "output_type": "execute_result"
    }
   ],
   "source": [
    "learn.fit(1e-3, 3, cycle_mult=2)"
   ]
  },
  {
   "cell_type": "code",
   "execution_count": 20,
   "metadata": {},
   "outputs": [],
   "source": [
    "learn.save('toyclass')"
   ]
  },
  {
   "cell_type": "code",
   "execution_count": 21,
   "metadata": {},
   "outputs": [],
   "source": [
    "learn.load('toyclass')"
   ]
  },
  {
   "cell_type": "markdown",
   "metadata": {},
   "source": [
    "# Debug"
   ]
  },
  {
   "cell_type": "code",
   "execution_count": 22,
   "metadata": {
    "scrolled": true
   },
   "outputs": [
    {
     "name": "stdout",
     "output_type": "stream",
     "text": [
      "                                             \r"
     ]
    },
    {
     "data": {
      "text/plain": [
       "0.999"
      ]
     },
     "execution_count": 22,
     "metadata": {},
     "output_type": "execute_result"
    }
   ],
   "source": [
    "log_preds,y = learn.TTA()\n",
    "probs = np.mean(np.exp(log_preds),0) #mean out of 5 transforms\n",
    "accuracy_np(probs, y)"
   ]
  },
  {
   "cell_type": "code",
   "execution_count": 24,
   "metadata": {},
   "outputs": [
    {
     "name": "stdout",
     "output_type": "stream",
     "text": [
      "[[762   0]\n",
      " [  1 237]]\n"
     ]
    },
    {
     "data": {
      "image/png": "[encoded data removed]",
      "text/plain": [
       "<Figure size 432x288 with 2 Axes>"
      ]
     },
     "metadata": {},
     "output_type": "display_data"
    }
   ],
   "source": [
    "from sklearn.metrics import confusion_matrix\n",
    "preds = np.argmax(probs, axis=1)\n",
    "cm = confusion_matrix(y, preds)\n",
    "plot_confusion_matrix(cm, learn.data.classes)"
   ]
  },
  {
   "cell_type": "code",
   "execution_count": 29,
   "metadata": {},
   "outputs": [
    {
     "data": {
      "text/plain": [
       "(array([0]), array([1]))"
      ]
     },
     "execution_count": 29,
     "metadata": {},
     "output_type": "execute_result"
    }
   ],
   "source": [
    "wrong_idx =(preds != y).nonzero()\n",
    "preds[wrong_idx], y[wrong_idx]"
   ]
  },
  {
   "cell_type": "code",
   "execution_count": 38,
   "metadata": {},
   "outputs": [
    {
     "data": {
      "text/plain": [
       "PosixPath('/home/paperspace/data/pneumonia/toy/train/35726244-0298-433e-9376-d1a1fe5724cf.png')"
      ]
     },
     "execution_count": 38,
     "metadata": {},
     "output_type": "execute_result"
    },
    {
     "data": {
      "image/png": "[encoded data removed]",
      "text/plain": [
       "<Figure size 432x288 with 1 Axes>"
      ]
     },
     "metadata": {},
     "output_type": "display_data"
    }
   ],
   "source": [
    "file = learn.data.val_ds.fnames[wrong_idx]\n",
    "plt.imshow(PIL.Image.open(str(PATH/file[0])))\n",
    "PATH/file[0]"
   ]
  },
  {
   "cell_type": "markdown",
   "metadata": {},
   "source": [
    "# See augmentations"
   ]
  }
 ],
 "metadata": {
  "kernelspec": {
   "display_name": "Python 3",
   "language": "python",
   "name": "python3"
  },
  "language_info": {
   "codemirror_mode": {
    "name": "ipython",
    "version": 3
   },
   "file_extension": ".py",
   "mimetype": "text/x-python",
   "name": "python",
   "nbconvert_exporter": "python",
   "pygments_lexer": "ipython3",
   "version": "3.6.6"
  }
 },
 "nbformat": 4,
 "nbformat_minor": 2
}
